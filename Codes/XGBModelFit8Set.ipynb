{
 "cells": [
  {
   "cell_type": "markdown",
   "metadata": {},
   "source": [
    "# The 8 data sets fit the models with tunned parameter"
   ]
  },
  {
   "cell_type": "code",
   "execution_count": 1,
   "metadata": {},
   "outputs": [],
   "source": [
    "from xgboost import XGBClassifier\n",
    "import numpy as np\n",
    "import pandas as pd\n",
    "from sklearn.ensemble import RandomForestClassifier\n",
    "from sklearn.datasets import make_classification\n",
    "from sklearn.model_selection import PredefinedSplit\n",
    "from sklearn.model_selection import GridSearchCV\n",
    "from sklearn.metrics import confusion_matrix"
   ]
  },
  {
   "cell_type": "code",
   "execution_count": 2,
   "metadata": {},
   "outputs": [],
   "source": [
    "def XGB(datatrain, datavali, parameter_space,criteria='accuracy', randomstate=0):\n",
    "    '''\n",
    "    Combine the test data set and validation datase and use the tunned parameter\n",
    "    '''\n",
    "    from sklearn.model_selection import PredefinedSplit\n",
    "    import numpy as np\n",
    "    from xgboost.sklearn import XGBClassifier\n",
    "    \n",
    "    frames=pd.concat([datatrain, datavali])\n",
    "    frames_reind=frames.set_index([pd.Index(range(len(frames)))])\n",
    "    \n",
    "    datadummy=pd.get_dummies(frames_reind)\n",
    "    dataX=np.array(datadummy.drop('Default_ind', axis=1))\n",
    "    datay=datadummy['Default_ind']\n",
    "    \n",
    "    XGB=XGBClassifier()\n",
    "    \n",
    "    from sklearn.model_selection import GridSearchCV\n",
    "    \n",
    "    modelGS=GridSearchCV(XGB, parameter_space,scoring=criteria)\n",
    "    modelGS.fit(dataX, datay)\n",
    "    \n",
    "    return modelGS,dataX,datay"
   ]
  },
  {
   "cell_type": "code",
   "execution_count": 3,
   "metadata": {},
   "outputs": [],
   "source": [
    "def Cate_to_object_excp_inq(dataset):\n",
    "    return(dataset.astype({'non_mtg_acc_past_due_12_months_num': 'object','non_mtg_acc_past_due_6_months_num': 'object','mortgages_past_due_6_months_num': 'object','card_inq_24_month_num': 'float64','inq_12_month_num': 'float64','card_open_36_month_num': 'object','auto_open_36_month_num': 'object','ind_acc_XYZ': 'object'}))"
   ]
  },
  {
   "cell_type": "code",
   "execution_count": 4,
   "metadata": {},
   "outputs": [],
   "source": [
    "def upsample(data):\n",
    "    from sklearn.utils import resample\n",
    "    \n",
    "    df_majority=data[data.Default_ind==0]\n",
    "    df_minority=data[data.Default_ind==1]\n",
    "    largenumber=len(df_majority)\n",
    "    df_minority_upsampled=resample(df_minority,replace=True,n_samples=int(1.2*largenumber),random_state=123)\n",
    "    df_upsampled=pd.concat([pd.DataFrame(df_majority),pd.DataFrame(df_minority_upsampled)])\n",
    "    return df_upsampled"
   ]
  },
  {
   "cell_type": "markdown",
   "metadata": {},
   "source": [
    "## Listwise"
   ]
  },
  {
   "cell_type": "code",
   "execution_count": 5,
   "metadata": {},
   "outputs": [],
   "source": [
    "list_train=pd.read_csv(\"/Users/shiyuandeng/Desktop/UGA/DataScienceCompetition/Data Set (Imputed)/Listwise deletion/Listwise_deletion.csv\")\n",
    "list_test=pd.read_csv(\"/Users/shiyuandeng/Desktop/UGA/DataScienceCompetition/Data Set (Imputed)/Listwise deletion/Listwise_deletion_Test.csv\")\n",
    "list_validation=pd.read_csv(\"/Users/shiyuandeng/Desktop/UGA/DataScienceCompetition/Data Set (Imputed)/Listwise deletion/Listwise_deletion_validation.csv\")"
   ]
  },
  {
   "cell_type": "code",
   "execution_count": 6,
   "metadata": {},
   "outputs": [],
   "source": [
    "#Change to categorical\n",
    "cat_list_train=Cate_to_object_excp_inq(list_train)\n",
    "cat_list_test=Cate_to_object_excp_inq(list_test)\n",
    "cat_list_validation=Cate_to_object_excp_inq(list_validation)"
   ]
  },
  {
   "cell_type": "code",
   "execution_count": 7,
   "metadata": {},
   "outputs": [],
   "source": [
    "# Upsample train and validation\n",
    "cat_list_up_train=upsample(cat_list_train)\n",
    "cat_list_up_validation=upsample(cat_list_validation)"
   ]
  },
  {
   "cell_type": "code",
   "execution_count": 8,
   "metadata": {},
   "outputs": [],
   "source": [
    "datadummy=pd.get_dummies(cat_list_test)\n",
    "testX=np.array(datadummy.drop('Default_ind', axis=1))\n",
    "testy=datadummy['Default_ind']"
   ]
  },
  {
   "cell_type": "code",
   "execution_count": 9,
   "metadata": {},
   "outputs": [],
   "source": [
    "parameter_space = {\n",
    "    'colsample_bytree': [1.0],\n",
    "     'gamma': [0],\n",
    "     'learning_rate': [0.3],\n",
    "     'max_depth': [5],\n",
    "     'min_child_weight': [0.5],\n",
    "     'n_estimators': [50],\n",
    "     'nthread': [4],\n",
    "     'objective': ['reg:logistic'],\n",
    "     'scale_pos_weight': [1],\n",
    "     'seed': [123],\n",
    "     'subsample': [0.5],\n",
    "    'use_label_encoder':[False]\n",
    "    }"
   ]
  },
  {
   "cell_type": "code",
   "execution_count": 10,
   "metadata": {},
   "outputs": [],
   "source": [
    "clf_list,x_list,y_list=XGB(cat_list_up_train,cat_list_up_validation,parameter_space,criteria='accuracy', randomstate=0)"
   ]
  },
  {
   "cell_type": "code",
   "execution_count": 11,
   "metadata": {},
   "outputs": [
    {
     "data": {
      "text/plain": [
       "array([[3282,  528],\n",
       "       [ 105,  236]])"
      ]
     },
     "execution_count": 11,
     "metadata": {},
     "output_type": "execute_result"
    }
   ],
   "source": [
    "y_pred=clf_list.predict(testX)\n",
    "from sklearn.metrics import confusion_matrix\n",
    "confusion_matrix(testy,y_pred)"
   ]
  },
  {
   "cell_type": "code",
   "execution_count": 12,
   "metadata": {},
   "outputs": [
    {
     "data": {
      "text/plain": [
       "0.8475066249096603"
      ]
     },
     "execution_count": 12,
     "metadata": {},
     "output_type": "execute_result"
    }
   ],
   "source": [
    "clf_list.score(testX,testy)"
   ]
  },
  {
   "cell_type": "markdown",
   "metadata": {},
   "source": [
    "## Unconditional Median"
   ]
  },
  {
   "cell_type": "code",
   "execution_count": 13,
   "metadata": {},
   "outputs": [],
   "source": [
    "median_train=pd.read_csv('/Users/shiyuandeng/Desktop/UGA/DataScienceCompetition/Data Set (Imputed)/Unconditional median impute/Unconditional_median_impute.csv')\n",
    "median_test=pd.read_csv('/Users/shiyuandeng/Desktop/UGA/DataScienceCompetition/Data Set (Imputed)/Unconditional median impute/Unconditional_median_impute_Test.csv')\n",
    "median_validation=pd.read_csv('/Users/shiyuandeng/Desktop/UGA/DataScienceCompetition/Data Set (Imputed)/Unconditional median impute/Unconditional_median_impute_Validation.csv')"
   ]
  },
  {
   "cell_type": "code",
   "execution_count": 14,
   "metadata": {},
   "outputs": [],
   "source": [
    "#Change to categorical\n",
    "cat_median_train=Cate_to_object_excp_inq(median_train)\n",
    "cat_median_test=Cate_to_object_excp_inq(median_test)\n",
    "cat_median_validation=Cate_to_object_excp_inq(median_validation)"
   ]
  },
  {
   "cell_type": "code",
   "execution_count": 15,
   "metadata": {},
   "outputs": [],
   "source": [
    "# Upsample train and validation\n",
    "cat_median_up_train=upsample(cat_median_train)\n",
    "cat_median_up_validation=upsample(cat_median_validation)"
   ]
  },
  {
   "cell_type": "code",
   "execution_count": 16,
   "metadata": {},
   "outputs": [],
   "source": [
    "datadummy=pd.get_dummies(cat_median_test)\n",
    "testX=np.array(datadummy.drop('Default_ind', axis=1))\n",
    "testy=datadummy['Default_ind']"
   ]
  },
  {
   "cell_type": "code",
   "execution_count": 17,
   "metadata": {},
   "outputs": [],
   "source": [
    "parameter_space = {\n",
    "    'colsample_bytree': [0.8],\n",
    "     'gamma': [0.5],\n",
    "     'learning_rate': [0.3],\n",
    "     'max_depth': [4],\n",
    "     'min_child_weight': [0.5],\n",
    "     'n_estimators': [30],\n",
    "     'nthread': [4],\n",
    "     'objective': ['reg:logistic'],\n",
    "     'scale_pos_weight': [1],\n",
    "     'seed': [123],\n",
    "     'subsample': [0.5],\n",
    "    'use_label_encoder':[False]\n",
    "    }"
   ]
  },
  {
   "cell_type": "code",
   "execution_count": 18,
   "metadata": {},
   "outputs": [],
   "source": [
    "clf_median,x_median,y_median=XGB(cat_median_up_train,cat_median_up_validation,parameter_space,criteria='accuracy', randomstate=0)"
   ]
  },
  {
   "cell_type": "code",
   "execution_count": 19,
   "metadata": {},
   "outputs": [
    {
     "data": {
      "text/plain": [
       "array([[3737,  862],\n",
       "       [  94,  307]])"
      ]
     },
     "execution_count": 19,
     "metadata": {},
     "output_type": "execute_result"
    }
   ],
   "source": [
    "y_pred=clf_median.predict(testX)\n",
    "from sklearn.metrics import confusion_matrix\n",
    "confusion_matrix(testy,y_pred)"
   ]
  },
  {
   "cell_type": "code",
   "execution_count": 20,
   "metadata": {},
   "outputs": [
    {
     "data": {
      "text/plain": [
       "0.8088"
      ]
     },
     "execution_count": 20,
     "metadata": {},
     "output_type": "execute_result"
    }
   ],
   "source": [
    "clf_median.score(testX,testy)"
   ]
  },
  {
   "cell_type": "markdown",
   "metadata": {},
   "source": [
    "## Unconstrained Mean"
   ]
  },
  {
   "cell_type": "code",
   "execution_count": 21,
   "metadata": {},
   "outputs": [],
   "source": [
    "umean_train=pd.read_csv(\"/Users/shiyuandeng/Desktop/UGA/DataScienceCompetition/Data Set (Imputed)/Unconditional mean impute/Unconditional_mean_impute.csv\")\n",
    "umean_test=pd.read_csv(\"/Users/shiyuandeng/Desktop/UGA/DataScienceCompetition/Data Set (Imputed)/Unconditional mean impute/Unconditional_mean_impute_Test.csv\")\n",
    "umean_validation=pd.read_csv(\"/Users/shiyuandeng/Desktop/UGA/DataScienceCompetition/Data Set (Imputed)/Unconditional mean impute/Unconditional_mean_impute_Validation.csv\")"
   ]
  },
  {
   "cell_type": "code",
   "execution_count": 22,
   "metadata": {},
   "outputs": [],
   "source": [
    "umean_validation=umean_validation.drop(umean_validation.columns[0],axis=1)"
   ]
  },
  {
   "cell_type": "code",
   "execution_count": 23,
   "metadata": {},
   "outputs": [],
   "source": [
    "#Change to categorical\n",
    "cat_umean_train=Cate_to_object_excp_inq(umean_train)\n",
    "cat_umean_test=Cate_to_object_excp_inq(umean_test)\n",
    "cat_umean_validation=Cate_to_object_excp_inq(umean_validation)"
   ]
  },
  {
   "cell_type": "code",
   "execution_count": 24,
   "metadata": {},
   "outputs": [],
   "source": [
    "# Upsample train and validation\n",
    "cat_umean_up_train=upsample(cat_umean_train)\n",
    "cat_umean_up_validation=upsample(cat_umean_validation)"
   ]
  },
  {
   "cell_type": "code",
   "execution_count": 25,
   "metadata": {},
   "outputs": [],
   "source": [
    "datadummy=pd.get_dummies(cat_umean_test)\n",
    "testX=np.array(datadummy.drop('Default_ind', axis=1))\n",
    "testy=datadummy['Default_ind']"
   ]
  },
  {
   "cell_type": "code",
   "execution_count": 26,
   "metadata": {},
   "outputs": [],
   "source": [
    "parameter_space = {\n",
    "    'colsample_bytree': [0.8],\n",
    "     'gamma': [0.5],\n",
    "     'learning_rate': [0.3],\n",
    "     'max_depth': [4],\n",
    "     'min_child_weight': [0.5],\n",
    "     'n_estimators': [30],\n",
    "     'nthread': [4],\n",
    "     'objective': ['binary:logistic'],\n",
    "     'scale_pos_weight': [1],\n",
    "     'seed': [123],\n",
    "     'subsample': [0.5]\n",
    "    }"
   ]
  },
  {
   "cell_type": "code",
   "execution_count": 27,
   "metadata": {},
   "outputs": [],
   "source": [
    "clf_umean,x_umean,y_umean=XGB(cat_umean_up_train,cat_umean_up_validation,parameter_space,criteria='accuracy', randomstate=0)"
   ]
  },
  {
   "cell_type": "code",
   "execution_count": 28,
   "metadata": {},
   "outputs": [
    {
     "data": {
      "text/plain": [
       "array([[3735,  864],\n",
       "       [  93,  308]])"
      ]
     },
     "execution_count": 28,
     "metadata": {},
     "output_type": "execute_result"
    }
   ],
   "source": [
    "y_pred=clf_umean.predict(testX)\n",
    "from sklearn.metrics import confusion_matrix\n",
    "confusion_matrix(testy,y_pred)"
   ]
  },
  {
   "cell_type": "code",
   "execution_count": 29,
   "metadata": {},
   "outputs": [
    {
     "data": {
      "text/plain": [
       "0.8086"
      ]
     },
     "execution_count": 29,
     "metadata": {},
     "output_type": "execute_result"
    }
   ],
   "source": [
    "clf_umean.score(testX,testy)"
   ]
  },
  {
   "cell_type": "markdown",
   "metadata": {},
   "source": [
    "## Random Forest"
   ]
  },
  {
   "cell_type": "code",
   "execution_count": 30,
   "metadata": {},
   "outputs": [],
   "source": [
    "rf_train=pd.read_csv(\"/Users/shiyuandeng/Desktop/UGA/DataScienceCompetition/Data Set (Imputed)/rf impute/rf.csv\")\n",
    "rf_test=pd.read_csv(\"/Users/shiyuandeng/Desktop/UGA/DataScienceCompetition/Data Set (Imputed)/rf impute/rf_Test.csv\")\n",
    "rf_validation=pd.read_csv(\"/Users/shiyuandeng/Desktop/UGA/DataScienceCompetition/Data Set (Imputed)/rf impute/rf_Vali.csv\")"
   ]
  },
  {
   "cell_type": "code",
   "execution_count": 31,
   "metadata": {},
   "outputs": [],
   "source": [
    "#Change to categorical\n",
    "cat_rf_train=Cate_to_object_excp_inq(rf_train)\n",
    "cat_rf_test=Cate_to_object_excp_inq(rf_test)\n",
    "cat_rf_validation=Cate_to_object_excp_inq(rf_validation)"
   ]
  },
  {
   "cell_type": "code",
   "execution_count": 32,
   "metadata": {},
   "outputs": [],
   "source": [
    "# Upsample train and validation\n",
    "cat_rf_up_train=upsample(cat_rf_train)\n",
    "cat_rf_up_validation=upsample(cat_rf_validation)"
   ]
  },
  {
   "cell_type": "code",
   "execution_count": 33,
   "metadata": {},
   "outputs": [],
   "source": [
    "datadummy=pd.get_dummies(cat_rf_test)\n",
    "testX=np.array(datadummy.drop('Default_ind', axis=1))\n",
    "testy=datadummy['Default_ind']"
   ]
  },
  {
   "cell_type": "code",
   "execution_count": 34,
   "metadata": {},
   "outputs": [],
   "source": [
    "parameter_space = {\n",
    "    'colsample_bytree': [1.0],\n",
    "     'gamma': [1],\n",
    "     'learning_rate': [0.3],\n",
    "     'max_depth': [3],\n",
    "     'min_child_weight': [1],\n",
    "     'n_estimators': [40],\n",
    "     'nthread': [4],\n",
    "     'objective': ['reg:logistic'],\n",
    "     'scale_pos_weight': [1],\n",
    "     'seed': [123],\n",
    "     'subsample': [0.5],\n",
    "    'use_label_encoder':[False]\n",
    "    }"
   ]
  },
  {
   "cell_type": "code",
   "execution_count": 35,
   "metadata": {},
   "outputs": [],
   "source": [
    "clf_rf,x_rf,y_rf=XGB(cat_rf_up_train,cat_rf_up_validation,parameter_space,criteria='accuracy', randomstate=0)"
   ]
  },
  {
   "cell_type": "code",
   "execution_count": 36,
   "metadata": {},
   "outputs": [
    {
     "data": {
      "text/plain": [
       "array([[3695,  904],\n",
       "       [  82,  319]])"
      ]
     },
     "execution_count": 36,
     "metadata": {},
     "output_type": "execute_result"
    }
   ],
   "source": [
    "y_pred=clf_rf.predict(testX)\n",
    "from sklearn.metrics import confusion_matrix\n",
    "confusion_matrix(testy,y_pred)"
   ]
  },
  {
   "cell_type": "code",
   "execution_count": 37,
   "metadata": {},
   "outputs": [
    {
     "data": {
      "text/plain": [
       "0.8028"
      ]
     },
     "execution_count": 37,
     "metadata": {},
     "output_type": "execute_result"
    }
   ],
   "source": [
    "clf_rf.score(testX,testy)"
   ]
  },
  {
   "cell_type": "markdown",
   "metadata": {},
   "source": [
    "## Cart"
   ]
  },
  {
   "cell_type": "code",
   "execution_count": 38,
   "metadata": {},
   "outputs": [],
   "source": [
    "#Import dataset\n",
    "cart_train=pd.read_csv('/Users/shiyuandeng/Desktop/UGA/DataScienceCompetition/Data Set (Imputed)/Cart impute/Cart_impute.csv')\n",
    "cart_test=pd.read_csv('/Users/shiyuandeng/Desktop/UGA/DataScienceCompetition/Data Set (Imputed)/Cart impute/Cart_impute_Test.csv')\n",
    "cart_validation=pd.read_csv('/Users/shiyuandeng/Desktop/UGA/DataScienceCompetition/Data Set (Imputed)/Cart impute/Cart_impute_Vali.csv')"
   ]
  },
  {
   "cell_type": "code",
   "execution_count": 39,
   "metadata": {},
   "outputs": [],
   "source": [
    "#Change to categorical\n",
    "cat_cart_train=Cate_to_object_excp_inq(cart_train)\n",
    "cat_cart_test=Cate_to_object_excp_inq(cart_test)\n",
    "cat_cart_validation=Cate_to_object_excp_inq(cart_validation)"
   ]
  },
  {
   "cell_type": "code",
   "execution_count": 40,
   "metadata": {},
   "outputs": [],
   "source": [
    "# Upsample train and validation\n",
    "cat_cart_up_train=upsample(cat_cart_train)\n",
    "cat_cart_up_validation=upsample(cat_cart_validation)"
   ]
  },
  {
   "cell_type": "code",
   "execution_count": 41,
   "metadata": {},
   "outputs": [],
   "source": [
    "#test data Set\n",
    "datadummy=pd.get_dummies(cat_cart_test)\n",
    "testX=np.array(datadummy.drop('Default_ind', axis=1))\n",
    "testy=datadummy['Default_ind']"
   ]
  },
  {
   "cell_type": "code",
   "execution_count": 42,
   "metadata": {},
   "outputs": [],
   "source": [
    "parameter_space = {\n",
    "    'colsample_bytree': [0.9],\n",
    "     'gamma': [0],\n",
    "     'learning_rate': [0.3],\n",
    "     'max_depth': [3],\n",
    "     'min_child_weight': [0.5],\n",
    "     'n_estimators': [40],\n",
    "     'nthread': [4],\n",
    "     'objective': ['reg:logistic'],\n",
    "     'scale_pos_weight': [1],\n",
    "     'seed': [123],\n",
    "     'subsample': [0.5],\n",
    "    'use_label_encoder':[False]\n",
    "    }"
   ]
  },
  {
   "cell_type": "code",
   "execution_count": 43,
   "metadata": {},
   "outputs": [],
   "source": [
    "clf_cart,x_cart,y_cart=XGB(cat_cart_up_train,cat_cart_up_validation,parameter_space,criteria='accuracy', randomstate=0)"
   ]
  },
  {
   "cell_type": "code",
   "execution_count": 44,
   "metadata": {},
   "outputs": [
    {
     "data": {
      "text/plain": [
       "array([[3696,  903],\n",
       "       [  80,  321]])"
      ]
     },
     "execution_count": 44,
     "metadata": {},
     "output_type": "execute_result"
    }
   ],
   "source": [
    "y_pred=clf_cart.predict(testX)\n",
    "from sklearn.metrics import confusion_matrix\n",
    "confusion_matrix(testy,y_pred)"
   ]
  },
  {
   "cell_type": "code",
   "execution_count": 45,
   "metadata": {},
   "outputs": [
    {
     "data": {
      "text/plain": [
       "0.8034"
      ]
     },
     "execution_count": 45,
     "metadata": {},
     "output_type": "execute_result"
    }
   ],
   "source": [
    "clf_cart.score(testX,testy)"
   ]
  },
  {
   "cell_type": "markdown",
   "metadata": {},
   "source": [
    "## KNN"
   ]
  },
  {
   "cell_type": "code",
   "execution_count": 46,
   "metadata": {},
   "outputs": [],
   "source": [
    "knn_train=pd.read_csv('/Users/shiyuandeng/Desktop/UGA/DataScienceCompetition/imputed knn/KNN_impute.csv')\n",
    "knn_train=knn_train.drop(knn_train.columns[0],axis=1)\n",
    "knn_test=pd.read_csv('/Users/shiyuandeng/Desktop/UGA/DataScienceCompetition/imputed knn/KNN_impute_test.csv')\n",
    "knn_test=knn_test.drop(knn_test.columns[0],axis=1)\n",
    "knn_validation=pd.read_csv('/Users/shiyuandeng/Desktop/UGA/DataScienceCompetition/imputed knn/KNN_impute_validation.csv')\n",
    "knn_validation=knn_validation.drop(knn_validation.columns[0],axis=1)"
   ]
  },
  {
   "cell_type": "code",
   "execution_count": 47,
   "metadata": {},
   "outputs": [],
   "source": [
    "cat_knn_train=Cate_to_object_excp_inq(knn_train)\n",
    "cat_knn_test=Cate_to_object_excp_inq(knn_test)\n",
    "cat_knn_validation=Cate_to_object_excp_inq(knn_validation)"
   ]
  },
  {
   "cell_type": "code",
   "execution_count": 48,
   "metadata": {},
   "outputs": [],
   "source": [
    "cat_knn_up_train=upsample(cat_knn_train)\n",
    "cat_knn_up_validation=upsample(cat_knn_validation)"
   ]
  },
  {
   "cell_type": "code",
   "execution_count": 49,
   "metadata": {},
   "outputs": [],
   "source": [
    "datadummy=pd.get_dummies(cat_knn_test)\n",
    "testX=np.array(datadummy.drop('Default_ind', axis=1))\n",
    "testy=datadummy['Default_ind']"
   ]
  },
  {
   "cell_type": "code",
   "execution_count": 50,
   "metadata": {},
   "outputs": [],
   "source": [
    "parameter_space = {\n",
    "    'colsample_bytree': [1.0],\n",
    "     'gamma': [1],\n",
    "     'learning_rate': [0.3],\n",
    "     'max_depth': [4],\n",
    "     'min_child_weight': [1],\n",
    "     'n_estimators': [30],\n",
    "     'nthread': [4],\n",
    "     'objective': ['reg:logistic'],\n",
    "     'scale_pos_weight': [1],\n",
    "     'seed': [123],\n",
    "     'subsample': [0.5],\n",
    "    'use_label_encoder':[False]\n",
    "    }"
   ]
  },
  {
   "cell_type": "code",
   "execution_count": 51,
   "metadata": {},
   "outputs": [],
   "source": [
    "clf_knn,x_knn,y_knn=XGB(cat_knn_up_train,cat_knn_up_validation,parameter_space,criteria='accuracy', randomstate=0)"
   ]
  },
  {
   "cell_type": "code",
   "execution_count": 52,
   "metadata": {},
   "outputs": [
    {
     "data": {
      "text/plain": [
       "array([[3724,  875],\n",
       "       [  84,  317]])"
      ]
     },
     "execution_count": 52,
     "metadata": {},
     "output_type": "execute_result"
    }
   ],
   "source": [
    "y_pred=clf_knn.predict(testX)\n",
    "from sklearn.metrics import confusion_matrix\n",
    "confusion_matrix(testy,y_pred)"
   ]
  },
  {
   "cell_type": "code",
   "execution_count": 53,
   "metadata": {},
   "outputs": [
    {
     "data": {
      "text/plain": [
       "0.8082"
      ]
     },
     "execution_count": 53,
     "metadata": {},
     "output_type": "execute_result"
    }
   ],
   "source": [
    "clf_knn.score(testX,testy)"
   ]
  },
  {
   "cell_type": "markdown",
   "metadata": {},
   "source": [
    "## EMB"
   ]
  },
  {
   "cell_type": "code",
   "execution_count": 54,
   "metadata": {},
   "outputs": [],
   "source": [
    "EMB_train=pd.read_csv('/Users/shiyuandeng/Desktop/UGA/DataScienceCompetition/Data Set (Imputed)/EMB_impute/EMB_impute.csv')\n",
    "EMB_test=pd.read_csv('/Users/shiyuandeng/Desktop/UGA/DataScienceCompetition/Data Set (Imputed)/EMB_impute/EMB_impute_Test.csv')\n",
    "EMB_validation=pd.read_csv('/Users/shiyuandeng/Desktop/UGA/DataScienceCompetition/Data Set (Imputed)/EMB_impute/EMB_impute_Vali.csv')"
   ]
  },
  {
   "cell_type": "code",
   "execution_count": 55,
   "metadata": {},
   "outputs": [],
   "source": [
    "#Change to categorical\n",
    "cat_emb_train=Cate_to_object_excp_inq(EMB_train)\n",
    "cat_emb_test=Cate_to_object_excp_inq(EMB_test)\n",
    "cat_emb_validation=Cate_to_object_excp_inq(EMB_validation)"
   ]
  },
  {
   "cell_type": "code",
   "execution_count": 56,
   "metadata": {},
   "outputs": [],
   "source": [
    "# Upsample train and validation\n",
    "cat_emb_up_train=upsample(cat_emb_train)\n",
    "cat_emb_up_validation=upsample(cat_emb_validation)"
   ]
  },
  {
   "cell_type": "code",
   "execution_count": 57,
   "metadata": {},
   "outputs": [],
   "source": [
    "datadummy=pd.get_dummies(cat_emb_test)\n",
    "testX=np.array(datadummy.drop('Default_ind', axis=1))\n",
    "testy=datadummy['Default_ind']"
   ]
  },
  {
   "cell_type": "code",
   "execution_count": 58,
   "metadata": {},
   "outputs": [],
   "source": [
    "parameter_space = {\n",
    "    'colsample_bytree': [1.0],\n",
    "     'gamma': [1],\n",
    "     'learning_rate': [0.3],\n",
    "     'max_depth': [3],\n",
    "     'min_child_weight': [0.5],\n",
    "     'n_estimators': [40],\n",
    "     'nthread': [4],\n",
    "     'objective': ['reg:logistic'],\n",
    "     'scale_pos_weight': [1],\n",
    "     'seed': [123],\n",
    "     'subsample': [0.5],\n",
    "    'use_label_encoder':[False]\n",
    "    }"
   ]
  },
  {
   "cell_type": "code",
   "execution_count": 59,
   "metadata": {},
   "outputs": [],
   "source": [
    "clf_emb,x_emb,y_emb=XGB(cat_emb_up_train,cat_emb_up_validation,parameter_space,criteria='accuracy', randomstate=0)"
   ]
  },
  {
   "cell_type": "code",
   "execution_count": 60,
   "metadata": {},
   "outputs": [
    {
     "data": {
      "text/plain": [
       "array([[3688,  911],\n",
       "       [  89,  312]])"
      ]
     },
     "execution_count": 60,
     "metadata": {},
     "output_type": "execute_result"
    }
   ],
   "source": [
    "y_pred=clf_emb.predict(testX)\n",
    "from sklearn.metrics import confusion_matrix\n",
    "confusion_matrix(testy,y_pred)"
   ]
  },
  {
   "cell_type": "code",
   "execution_count": 61,
   "metadata": {},
   "outputs": [
    {
     "data": {
      "text/plain": [
       "0.8"
      ]
     },
     "execution_count": 61,
     "metadata": {},
     "output_type": "execute_result"
    }
   ],
   "source": [
    "clf_emb.score(testX,testy)"
   ]
  },
  {
   "cell_type": "markdown",
   "metadata": {},
   "source": [
    "## EM"
   ]
  },
  {
   "cell_type": "code",
   "execution_count": 75,
   "metadata": {},
   "outputs": [],
   "source": [
    "EM_train=pd.read_csv('/Users/shiyuandeng/Desktop/UGA/DataScienceCompetition/Data Set (Imputed)/EM_imputed/Simulated_Data_Train_em.csv')\n",
    "EM_train=EM_train.drop(EM_train.columns[0],axis=1)\n",
    "EM_test=pd.read_csv('/Users/shiyuandeng/Desktop/UGA/DataScienceCompetition/Data Set (Imputed)/EM_imputed/Simulated_Data_Test_em.csv')\n",
    "EM_test=EM_test.drop(EM_test.columns[0],axis=1)\n",
    "EM_validation=pd.read_csv('/Users/shiyuandeng/Desktop/UGA/DataScienceCompetition/Data Set (Imputed)/EM_imputed/Simulated_Data_validatiion_em.csv')\n",
    "EM_validation=EM_validation.drop(EM_validation.columns[0],axis=1)"
   ]
  },
  {
   "cell_type": "code",
   "execution_count": 76,
   "metadata": {},
   "outputs": [],
   "source": [
    "#Change to categorical\n",
    "cat_em_train=Cate_to_object_excp_inq(EM_train)\n",
    "cat_em_test=Cate_to_object_excp_inq(EM_test)\n",
    "cat_em_validation=Cate_to_object_excp_inq(EM_validation)"
   ]
  },
  {
   "cell_type": "code",
   "execution_count": 77,
   "metadata": {},
   "outputs": [],
   "source": [
    "# Upsample train and validation\n",
    "cat_em_up_train=upsample(cat_em_train)\n",
    "cat_em_up_validation=upsample(cat_em_validation)"
   ]
  },
  {
   "cell_type": "code",
   "execution_count": 78,
   "metadata": {},
   "outputs": [],
   "source": [
    "datadummy=pd.get_dummies(cat_em_test)\n",
    "testX=np.array(datadummy.drop('Default_ind', axis=1))\n",
    "testy=datadummy['Default_ind']"
   ]
  },
  {
   "cell_type": "code",
   "execution_count": 79,
   "metadata": {},
   "outputs": [],
   "source": [
    "parameter_space = {\n",
    "    'colsample_bytree': [1.0],\n",
    "     'gamma': [1],\n",
    "     'learning_rate': [0.3],\n",
    "     'max_depth': [3],\n",
    "     'min_child_weight': [0.5],\n",
    "     'n_estimators': [50],\n",
    "     'nthread': [4],\n",
    "     'objective': ['reg:logistic'],\n",
    "     'scale_pos_weight': [1],\n",
    "     'seed': [123],\n",
    "     'subsample': [0.5],\n",
    "    'use_label_encoder':[False]\n",
    "    }"
   ]
  },
  {
   "cell_type": "code",
   "execution_count": 80,
   "metadata": {},
   "outputs": [],
   "source": [
    "clf_em,x_em,y_em=XGB(cat_em_up_train,cat_em_up_validation,parameter_space,criteria='accuracy', randomstate=0)"
   ]
  },
  {
   "cell_type": "code",
   "execution_count": 81,
   "metadata": {},
   "outputs": [
    {
     "data": {
      "text/plain": [
       "array([[3755,  844],\n",
       "       [  93,  308]])"
      ]
     },
     "execution_count": 81,
     "metadata": {},
     "output_type": "execute_result"
    }
   ],
   "source": [
    "y_pred=clf_emb.predict(testX)\n",
    "from sklearn.metrics import confusion_matrix\n",
    "confusion_matrix(testy,y_pred)"
   ]
  },
  {
   "cell_type": "code",
   "execution_count": 82,
   "metadata": {
    "scrolled": true
   },
   "outputs": [
    {
     "data": {
      "text/plain": [
       "0.815"
      ]
     },
     "execution_count": 82,
     "metadata": {},
     "output_type": "execute_result"
    }
   ],
   "source": [
    "clf_em.score(testX,testy)"
   ]
  },
  {
   "cell_type": "code",
   "execution_count": null,
   "metadata": {},
   "outputs": [],
   "source": []
  }
 ],
 "metadata": {
  "kernelspec": {
   "display_name": "Python 3",
   "language": "python",
   "name": "python3"
  },
  "language_info": {
   "codemirror_mode": {
    "name": "ipython",
    "version": 3
   },
   "file_extension": ".py",
   "mimetype": "text/x-python",
   "name": "python",
   "nbconvert_exporter": "python",
   "pygments_lexer": "ipython3",
   "version": "3.7.3"
  }
 },
 "nbformat": 4,
 "nbformat_minor": 2
}
