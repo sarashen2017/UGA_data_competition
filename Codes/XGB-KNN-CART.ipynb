{
 "cells": [
  {
   "cell_type": "code",
   "execution_count": 1,
   "metadata": {},
   "outputs": [],
   "source": [
    "#conda install -c anaconda py-xgboost\n",
    "# pip install xgboost\n",
    "from xgboost import XGBClassifier"
   ]
  },
  {
   "cell_type": "code",
   "execution_count": 2,
   "metadata": {},
   "outputs": [],
   "source": [
    "import numpy as np\n",
    "import pandas as pd\n",
    "from sklearn.ensemble import RandomForestClassifier\n",
    "from sklearn.datasets import make_classification\n",
    "from sklearn.model_selection import PredefinedSplit\n",
    "from sklearn.model_selection import GridSearchCV\n",
    "from sklearn.metrics import confusion_matrix\n",
    "#import ipynb.fs.full.data_preprocessing_after_imputing as datapre"
   ]
  },
  {
   "cell_type": "markdown",
   "metadata": {},
   "source": [
    "## XGBoost Sampling"
   ]
  },
  {
   "cell_type": "code",
   "execution_count": 3,
   "metadata": {},
   "outputs": [],
   "source": [
    "# Tunning Paramter Space\n",
    "parameter_space = {\n",
    "        'learning_rate':[0.1],\n",
    "        'n_estimators': [100],\n",
    "        'max_depth':[5],\n",
    "        'min_child_weight':[1],\n",
    "        'gamma':[0],\n",
    "        'subsample':[0.8],\n",
    "        'colsample_bytree':[0.8],\n",
    "        'objective': ['binary:logistic'],\n",
    "        'nthread': [4],\n",
    "        'scale_pos_weight':[1],\n",
    "        'seed':[27]\n",
    "    }\n"
   ]
  },
  {
   "cell_type": "code",
   "execution_count": 4,
   "metadata": {},
   "outputs": [],
   "source": [
    "def best_xgboost(datatrain, datavali, parameter_space,criteria='accuracy', randomstate=0):\n",
    "    '''\n",
    "    if not specified, the parameters are n_estimators=100, criterion=\"gini\", max_depth=8, min_samples_split=400, \n",
    "    min_samples_leaf=50, bootstrap=True, oob_score=False, warm_start=False, max_samples=3000, random_state=0\n",
    "    '''\n",
    "    from sklearn.model_selection import PredefinedSplit\n",
    "    import numpy as np\n",
    "    from xgboost.sklearn import XGBClassifier\n",
    "    \n",
    "    frames=pd.concat([datatrain, datavali])\n",
    "    frames_reind=frames.set_index([pd.Index(range(len(frames)))])\n",
    "    split_index=[-1]*len(datatrain)+[0]*len(datavali)\n",
    "    pds = PredefinedSplit(test_fold = split_index)\n",
    "    datadummy=pd.get_dummies(frames_reind)\n",
    "    datatrainX=np.array(datadummy.drop('Default_ind', axis=1))\n",
    "    datatrainy=datadummy['Default_ind']\n",
    "    \n",
    "    XGB=XGBClassifier()\n",
    "    from sklearn.model_selection import GridSearchCV\n",
    "    \n",
    "    modelGS=GridSearchCV(XGB, parameter_space,cv=pds,scoring=criteria)\n",
    "    modelGS.fit(datatrainX, datatrainy)\n",
    "    \n",
    "    return modelGS,datatrainX,datatrainy"
   ]
  },
  {
   "cell_type": "markdown",
   "metadata": {},
   "source": [
    "## Treat as Categorical data"
   ]
  },
  {
   "cell_type": "code",
   "execution_count": 5,
   "metadata": {},
   "outputs": [],
   "source": [
    "def Cate_to_object_excp_inq(dataset):\n",
    "    return(dataset.astype({'non_mtg_acc_past_due_12_months_num': 'object','non_mtg_acc_past_due_6_months_num': 'object','mortgages_past_due_6_months_num': 'object','card_inq_24_month_num': 'float64','inq_12_month_num': 'float64','card_open_36_month_num': 'object','auto_open_36_month_num': 'object','ind_acc_XYZ': 'object'}))"
   ]
  },
  {
   "cell_type": "markdown",
   "metadata": {},
   "source": [
    "## Upsampling"
   ]
  },
  {
   "cell_type": "code",
   "execution_count": 6,
   "metadata": {},
   "outputs": [],
   "source": [
    "def upsample(data):\n",
    "    from sklearn.utils import resample\n",
    "    \n",
    "    df_majority=data[data.Default_ind==0]\n",
    "    df_minority=data[data.Default_ind==1]\n",
    "    largenumber=len(df_majority)\n",
    "    df_minority_upsampled=resample(df_minority,replace=True,n_samples=int(1.2*largenumber),random_state=123)\n",
    "    df_upsampled=pd.concat([pd.DataFrame(df_majority),pd.DataFrame(df_minority_upsampled)])\n",
    "    return df_upsampled"
   ]
  },
  {
   "cell_type": "markdown",
   "metadata": {},
   "source": [
    "## KNN data"
   ]
  },
  {
   "cell_type": "code",
   "execution_count": 7,
   "metadata": {},
   "outputs": [],
   "source": [
    "knn_train=pd.read_csv('/Users/shiyuandeng/Desktop/UGA/DataScienceCompetition/imputed knn/KNN_impute.csv')\n",
    "knn_train=knn_train.drop(knn_train.columns[0],axis=1)\n",
    "knn_test=pd.read_csv('/Users/shiyuandeng/Desktop/UGA/DataScienceCompetition/imputed knn/KNN_impute_test.csv')\n",
    "knn_test=knn_test.drop(knn_test.columns[0],axis=1)\n",
    "knn_validation=pd.read_csv('/Users/shiyuandeng/Desktop/UGA/DataScienceCompetition/imputed knn/KNN_impute_validation.csv')\n",
    "knn_validation=knn_validation.drop(knn_validation.columns[0],axis=1)"
   ]
  },
  {
   "cell_type": "code",
   "execution_count": 8,
   "metadata": {},
   "outputs": [],
   "source": [
    "cat_knn_train=Cate_to_object_excp_inq(knn_train)\n",
    "cat_knn_test=Cate_to_object_excp_inq(knn_test)\n",
    "cat_knn_validation=Cate_to_object_excp_inq(knn_validation)"
   ]
  },
  {
   "cell_type": "markdown",
   "metadata": {},
   "source": [
    "### Upsample train and validation"
   ]
  },
  {
   "cell_type": "code",
   "execution_count": 9,
   "metadata": {},
   "outputs": [],
   "source": [
    "cat_knn_up_train=upsample(cat_knn_train)\n",
    "cat_knn_up_validation=upsample(cat_knn_validation)"
   ]
  },
  {
   "cell_type": "code",
   "execution_count": 10,
   "metadata": {},
   "outputs": [
    {
     "data": {
      "text/plain": [
       "0.8615001823212716"
      ]
     },
     "execution_count": 10,
     "metadata": {},
     "output_type": "execute_result"
    }
   ],
   "source": [
    "clf1,x1,y1=best_xgboost(cat_knn_up_train,cat_knn_up_validation,parameter_space,criteria='accuracy', randomstate=0)\n",
    "clf1.score(x1,y1)"
   ]
  },
  {
   "cell_type": "code",
   "execution_count": 11,
   "metadata": {},
   "outputs": [],
   "source": [
    "datadummy=pd.get_dummies(cat_knn_test)\n",
    "testX=np.array(datadummy.drop('Default_ind', axis=1))\n",
    "testy=datadummy['Default_ind']"
   ]
  },
  {
   "cell_type": "code",
   "execution_count": 12,
   "metadata": {},
   "outputs": [
    {
     "data": {
      "text/plain": [
       "0.824"
      ]
     },
     "execution_count": 12,
     "metadata": {},
     "output_type": "execute_result"
    }
   ],
   "source": [
    "clf1.score(testX,testy)"
   ]
  },
  {
   "cell_type": "code",
   "execution_count": 13,
   "metadata": {},
   "outputs": [
    {
     "data": {
      "text/plain": [
       "array([[3825,  774],\n",
       "       [ 106,  295]])"
      ]
     },
     "execution_count": 13,
     "metadata": {},
     "output_type": "execute_result"
    }
   ],
   "source": [
    "y_pred=clf1.predict(testX)\n",
    "from sklearn.metrics import confusion_matrix\n",
    "confusion_matrix( testy,y_pred)"
   ]
  },
  {
   "cell_type": "markdown",
   "metadata": {},
   "source": [
    "### Tunning Parameter KNN"
   ]
  },
  {
   "cell_type": "code",
   "execution_count": 14,
   "metadata": {},
   "outputs": [],
   "source": [
    "parameter_space = {\n",
    "    'colsample_bytree': [0.8,0.9,1.0],\n",
    "     'gamma': [0,0.5,1],\n",
    "     'learning_rate': [0.2,0.3],\n",
    "     'max_depth': [3,4,5],\n",
    "     'min_child_weight': [0.5,1],\n",
    "     'n_estimators': [30,40,50],\n",
    "     'nthread': [4,7,9],\n",
    "     'objective': ['binary:logistic'],\n",
    "     'scale_pos_weight': [1],\n",
    "     'seed': [123],\n",
    "     'subsample': [0.5,1]\n",
    "    }"
   ]
  },
  {
   "cell_type": "code",
   "execution_count": 15,
   "metadata": {},
   "outputs": [],
   "source": [
    "clf1,x1,y1=best_xgboost(cat_knn_up_train,cat_knn_up_validation,parameter_space,criteria='accuracy', randomstate=0)"
   ]
  },
  {
   "cell_type": "code",
   "execution_count": 16,
   "metadata": {},
   "outputs": [
    {
     "data": {
      "text/plain": [
       "{'colsample_bytree': 1.0,\n",
       " 'gamma': 1,\n",
       " 'learning_rate': 0.3,\n",
       " 'max_depth': 4,\n",
       " 'min_child_weight': 1,\n",
       " 'n_estimators': 30,\n",
       " 'nthread': 4,\n",
       " 'objective': 'binary:logistic',\n",
       " 'scale_pos_weight': 1,\n",
       " 'seed': 123,\n",
       " 'subsample': 0.5}"
      ]
     },
     "execution_count": 16,
     "metadata": {},
     "output_type": "execute_result"
    }
   ],
   "source": [
    "clf1.best_params_"
   ]
  },
  {
   "cell_type": "code",
   "execution_count": 17,
   "metadata": {},
   "outputs": [
    {
     "data": {
      "text/plain": [
       "array([[3724,  875],\n",
       "       [  84,  317]])"
      ]
     },
     "execution_count": 17,
     "metadata": {},
     "output_type": "execute_result"
    }
   ],
   "source": [
    "y_pred=clf1.predict(testX)\n",
    "from sklearn.metrics import confusion_matrix\n",
    "confusion_matrix( testy,y_pred)"
   ]
  },
  {
   "cell_type": "code",
   "execution_count": 18,
   "metadata": {},
   "outputs": [
    {
     "data": {
      "text/plain": [
       "0.8082"
      ]
     },
     "execution_count": 18,
     "metadata": {},
     "output_type": "execute_result"
    }
   ],
   "source": [
    "clf1.score(testX,testy)"
   ]
  },
  {
   "cell_type": "markdown",
   "metadata": {},
   "source": [
    "## Cart"
   ]
  },
  {
   "cell_type": "code",
   "execution_count": 31,
   "metadata": {},
   "outputs": [],
   "source": [
    "#Import dataset\n",
    "cart_train=pd.read_csv('/Users/shiyuandeng/Desktop/UGA/DataScienceCompetition/Data Set (Imputed)/Cart impute/Cart_impute.csv')\n",
    "cart_test=pd.read_csv('/Users/shiyuandeng/Desktop/UGA/DataScienceCompetition/Data Set (Imputed)/Cart impute/Cart_impute_Test.csv')\n",
    "cart_validation=pd.read_csv('/Users/shiyuandeng/Desktop/UGA/DataScienceCompetition/Data Set (Imputed)/Cart impute/Cart_impute_Vali.csv')"
   ]
  },
  {
   "cell_type": "code",
   "execution_count": 32,
   "metadata": {},
   "outputs": [],
   "source": [
    "#Change to categorical\n",
    "cat_cart_train=Cate_to_object_excp_inq(cart_train)\n",
    "cat_cart_test=Cate_to_object_excp_inq(cart_test)\n",
    "cat_cart_validation=Cate_to_object_excp_inq(cart_validation)"
   ]
  },
  {
   "cell_type": "code",
   "execution_count": 33,
   "metadata": {},
   "outputs": [],
   "source": [
    "# Upsample train and validation\n",
    "cat_cart_up_train=upsample(cat_cart_train)\n",
    "cat_cart_up_validation=upsample(cat_cart_validation)"
   ]
  },
  {
   "cell_type": "code",
   "execution_count": 34,
   "metadata": {},
   "outputs": [],
   "source": [
    "#test data Set\n",
    "datadummy=pd.get_dummies(cat_cart_test)\n",
    "testX=np.array(datadummy.drop('Default_ind', axis=1))\n",
    "testy=datadummy['Default_ind']"
   ]
  },
  {
   "cell_type": "markdown",
   "metadata": {},
   "source": [
    "### Tuning Parameter Cart"
   ]
  },
  {
   "cell_type": "code",
   "execution_count": 35,
   "metadata": {},
   "outputs": [],
   "source": [
    "parameter_space = {\n",
    "    'colsample_bytree': [0.8,0.9,1.0],\n",
    "     'gamma': [0,0.5,1],\n",
    "     'learning_rate': [0.2,0.3],\n",
    "     'max_depth': [3,4,5],\n",
    "     'min_child_weight': [0.5,1],\n",
    "     'n_estimators': [30,40,50],\n",
    "     'nthread': [4,7,9],\n",
    "     'objective': ['binary:logistic'],\n",
    "     'scale_pos_weight': [1],\n",
    "     'seed': [123],\n",
    "     'subsample': [0.5,1]\n",
    "    }"
   ]
  },
  {
   "cell_type": "code",
   "execution_count": 36,
   "metadata": {},
   "outputs": [],
   "source": [
    "clf2,x2,y2=best_xgboost(cat_cart_up_train,cat_cart_up_validation,parameter_space,criteria='accuracy', randomstate=0)"
   ]
  },
  {
   "cell_type": "code",
   "execution_count": 37,
   "metadata": {},
   "outputs": [
    {
     "data": {
      "text/plain": [
       "{'colsample_bytree': 0.9,\n",
       " 'gamma': 0,\n",
       " 'learning_rate': 0.3,\n",
       " 'max_depth': 3,\n",
       " 'min_child_weight': 0.5,\n",
       " 'n_estimators': 40,\n",
       " 'nthread': 4,\n",
       " 'objective': 'binary:logistic',\n",
       " 'scale_pos_weight': 1,\n",
       " 'seed': 123,\n",
       " 'subsample': 0.5}"
      ]
     },
     "execution_count": 37,
     "metadata": {},
     "output_type": "execute_result"
    }
   ],
   "source": [
    "clf2.best_params_"
   ]
  },
  {
   "cell_type": "code",
   "execution_count": 38,
   "metadata": {},
   "outputs": [
    {
     "data": {
      "text/plain": [
       "array([[3696,  903],\n",
       "       [  80,  321]])"
      ]
     },
     "execution_count": 38,
     "metadata": {},
     "output_type": "execute_result"
    }
   ],
   "source": [
    "y_pred=clf2.predict(testX)\n",
    "from sklearn.metrics import confusion_matrix\n",
    "confusion_matrix(testy,y_pred)"
   ]
  }
 ],
 "metadata": {
  "kernelspec": {
   "display_name": "Python 3",
   "language": "python",
   "name": "python3"
  },
  "language_info": {
   "codemirror_mode": {
    "name": "ipython",
    "version": 3
   },
   "file_extension": ".py",
   "mimetype": "text/x-python",
   "name": "python",
   "nbconvert_exporter": "python",
   "pygments_lexer": "ipython3",
   "version": "3.7.3"
  }
 },
 "nbformat": 4,
 "nbformat_minor": 2
}
