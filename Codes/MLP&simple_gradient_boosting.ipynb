{
 "cells": [
  {
   "cell_type": "markdown",
   "metadata": {},
   "source": [
    "# Read Dataset --KNN"
   ]
  },
  {
   "cell_type": "code",
   "execution_count": 296,
   "metadata": {},
   "outputs": [],
   "source": [
    "import pandas as pd\n",
    "df1=pd.read_csv('KNN_impute.csv')\n",
    "df1_vali=pd.read_csv('KNN_impute_validation.csv')\n",
    "df1_test=pd.read_csv('KNN_impute_test.csv')"
   ]
  },
  {
   "cell_type": "markdown",
   "metadata": {},
   "source": [
    "# MLP-- upsampling KNN"
   ]
  },
  {
   "cell_type": "code",
   "execution_count": 122,
   "metadata": {},
   "outputs": [],
   "source": [
    "\n",
    "def upsample(data):\n",
    "    from sklearn.utils import resample\n",
    "    \n",
    "    df_majority=data[data.Default_ind==0]\n",
    "    df_minority=data[data.Default_ind==1]\n",
    "    largenumber=len(df_majority)\n",
    "    df_minority_upsampled=resample(df_minority,replace=True,n_samples=int(1.2*largenumber),random_state=123)\n",
    "    df_upsampled=pd.concat([pd.DataFrame(df_majority),pd.DataFrame(df_minority_upsampled)])\n",
    "    return df_upsampled"
   ]
  },
  {
   "cell_type": "code",
   "execution_count": 123,
   "metadata": {},
   "outputs": [],
   "source": [
    "df1_up= upsample(df1)\n",
    "df1_vali_up=upsample(df1_vali)"
   ]
  },
  {
   "cell_type": "code",
   "execution_count": 124,
   "metadata": {},
   "outputs": [],
   "source": [
    "def Cate_to_object_excp_inq(dataset):\n",
    "    return(dataset.astype({'non_mtg_acc_past_due_12_months_num': 'object','non_mtg_acc_past_due_6_months_num': 'object','mortgages_past_due_6_months_num': 'object','card_inq_24_month_num': 'float64','inq_12_month_num': 'float64','card_open_36_month_num': 'object','auto_open_36_month_num': 'object','ind_acc_XYZ': 'object'}))"
   ]
  },
  {
   "cell_type": "code",
   "execution_count": 125,
   "metadata": {},
   "outputs": [],
   "source": [
    "df1_up=Cate_to_object_excp_inq(df1_up)\n",
    "df1_vali=Cate_to_object_excp_inq(df1_vali)"
   ]
  },
  {
   "cell_type": "code",
   "execution_count": 126,
   "metadata": {},
   "outputs": [],
   "source": [
    "def para_tune(datatrain, datavali, criteria='accuracy', randomstate=0):\n",
    "    ## X is the validation set variables\n",
    "    ## Y is the validation set response\n",
    "    from sklearn.model_selection import PredefinedSplit\n",
    "    import numpy as np\n",
    "    frames=pd.concat([datatrain, datavali])\n",
    "    frames_reind=frames.set_index([pd.Index(range(len(frames)))])\n",
    "    split_index=[-1]*len(datatrain)+[0]*len(datavali)\n",
    "    pds = PredefinedSplit(test_fold = split_index)\n",
    "    datadummy=pd.get_dummies(frames_reind)\n",
    "    datatrainX=np.array(datadummy.drop('Default_ind', axis=1))\n",
    "    datatrainy=datadummy['Default_ind']\n",
    "    parameter_space = {\n",
    "        'hidden_layer_sizes': [(50,50,50), (50,100,50), (100,)],\n",
    "        'activation': ['tanh', 'relu'],\n",
    "        'solver': ['lbfgs', 'adam'],\n",
    "        'alpha': [0.0001, 0.05],\n",
    "        'learning_rate': ['constant','adaptive'],\n",
    "    }\n",
    "    from sklearn.model_selection import GridSearchCV\n",
    "    from sklearn.neural_network import MLPClassifier\n",
    "    mlp = MLPClassifier(max_iter=1000)\n",
    "    clf = GridSearchCV(mlp, parameter_space, n_jobs=-1, cv=pds,scoring=criteria)\n",
    "    clf.fit(datatrainX, datatrainy)\n",
    "    return clf,datatrainX,datatrainy"
   ]
  },
  {
   "cell_type": "code",
   "execution_count": 127,
   "metadata": {},
   "outputs": [],
   "source": [
    "clf1,x1,y1=para_tune(df1_up,df1_vali_up)"
   ]
  },
  {
   "cell_type": "code",
   "execution_count": 290,
   "metadata": {},
   "outputs": [
    {
     "data": {
      "text/plain": [
       "{'activation': 'relu',\n",
       " 'alpha': 0.0001,\n",
       " 'hidden_layer_sizes': (50, 100, 50),\n",
       " 'learning_rate': 'adaptive',\n",
       " 'solver': 'adam'}"
      ]
     },
     "execution_count": 290,
     "metadata": {},
     "output_type": "execute_result"
    }
   ],
   "source": [
    "clf1.best_params_"
   ]
  },
  {
   "cell_type": "code",
   "execution_count": 293,
   "metadata": {},
   "outputs": [],
   "source": [
    "from sklearn.neural_network import MLPClassifier\n",
    "mlp = MLPClassifier(activation='relu',alpha=0.001,hidden_layer_sizes=(50,100,50),learning_rate='adaptive',\n",
    "                        solver='adam',max_iter=1000)"
   ]
  },
  {
   "cell_type": "code",
   "execution_count": 294,
   "metadata": {},
   "outputs": [
    {
     "data": {
      "text/plain": [
       "MLPClassifier(alpha=0.001, hidden_layer_sizes=(50, 100, 50),\n",
       "              learning_rate='adaptive', max_iter=1000)"
      ]
     },
     "execution_count": 294,
     "metadata": {},
     "output_type": "execute_result"
    }
   ],
   "source": [
    "mlp.fit(x1,y1)"
   ]
  },
  {
   "cell_type": "code",
   "execution_count": 298,
   "metadata": {},
   "outputs": [
    {
     "data": {
      "text/plain": [
       "0.4306"
      ]
     },
     "execution_count": 298,
     "metadata": {},
     "output_type": "execute_result"
    }
   ],
   "source": [
    "df1_test1=Cate_to_object_excp_inq(df1_test)\n",
    "df1_test1=pd.get_dummies(df1_test1)\n",
    "mlp.score(df1_test1.drop('Default_ind',axis=1),df1_test1['Default_ind'])"
   ]
  },
  {
   "cell_type": "code",
   "execution_count": 299,
   "metadata": {},
   "outputs": [
    {
     "data": {
      "text/plain": [
       "array([[1801, 2798],\n",
       "       [  49,  352]])"
      ]
     },
     "execution_count": 299,
     "metadata": {},
     "output_type": "execute_result"
    }
   ],
   "source": [
    "y_pred1=mlp.predict(df1_test1.drop('Default_ind',axis=1))\n",
    "from sklearn.metrics import confusion_matrix\n",
    "confusion_matrix( df1_test1['Default_ind'],y_pred1)\n"
   ]
  },
  {
   "cell_type": "markdown",
   "metadata": {},
   "source": [
    "# Read Dataset --Unconditional median"
   ]
  },
  {
   "cell_type": "code",
   "execution_count": 207,
   "metadata": {},
   "outputs": [],
   "source": [
    "import pandas as pd\n",
    "df2=pd.read_csv('Unconditional_median_impute.csv')\n",
    "df2_vali=pd.read_csv('Unconditional_median_impute_validation.csv')\n",
    "df2_test=pd.read_csv('Unconditional_median_impute_test.csv')"
   ]
  },
  {
   "cell_type": "markdown",
   "metadata": {},
   "source": [
    "# MLP-- Unconditional median"
   ]
  },
  {
   "cell_type": "code",
   "execution_count": 208,
   "metadata": {},
   "outputs": [],
   "source": [
    "df2_up= upsample(df2)\n",
    "df2_vali_up=upsample(df2_vali)"
   ]
  },
  {
   "cell_type": "code",
   "execution_count": 209,
   "metadata": {},
   "outputs": [],
   "source": [
    "df2_up=Cate_to_object_excp_inq(df2_up)\n",
    "df2_vali=Cate_to_object_excp_inq(df2_vali_up)"
   ]
  },
  {
   "cell_type": "code",
   "execution_count": 210,
   "metadata": {},
   "outputs": [],
   "source": [
    "clf2,x2,y2=para_tune(df2_up,df2_vali_up)"
   ]
  },
  {
   "cell_type": "code",
   "execution_count": 300,
   "metadata": {},
   "outputs": [
    {
     "data": {
      "text/plain": [
       "{'activation': 'relu',\n",
       " 'alpha': 0.05,\n",
       " 'hidden_layer_sizes': (50, 50, 50),\n",
       " 'learning_rate': 'constant',\n",
       " 'solver': 'adam'}"
      ]
     },
     "execution_count": 300,
     "metadata": {},
     "output_type": "execute_result"
    }
   ],
   "source": [
    "clf2.best_params_"
   ]
  },
  {
   "cell_type": "code",
   "execution_count": 212,
   "metadata": {},
   "outputs": [
    {
     "data": {
      "text/plain": [
       "0.0802"
      ]
     },
     "execution_count": 212,
     "metadata": {},
     "output_type": "execute_result"
    }
   ],
   "source": [
    "df2_test1=Cate_to_object_excp_inq(df2_test)\n",
    "df2_test1=pd.get_dummies(df2_test1)\n",
    "clf2.score(df2_test1.drop('Default_ind',axis=1),df2_test1['Default_ind'])"
   ]
  },
  {
   "cell_type": "code",
   "execution_count": 302,
   "metadata": {},
   "outputs": [
    {
     "data": {
      "text/plain": [
       "0.9196"
      ]
     },
     "execution_count": 302,
     "metadata": {},
     "output_type": "execute_result"
    }
   ],
   "source": [
    "from sklearn.neural_network import MLPClassifier\n",
    "mlp1 = MLPClassifier(activation='relu',alpha=0.05,hidden_layer_sizes=(50,50,50),learning_rate='constant',\n",
    "                        solver='adam',max_iter=1000)\n",
    "mlp1.fit(x2,y2)\n",
    "mlp1.score(df2_test1.drop('Default_ind',axis=1),df2_test1['Default_ind'])"
   ]
  },
  {
   "cell_type": "code",
   "execution_count": 303,
   "metadata": {},
   "outputs": [
    {
     "data": {
      "text/plain": [
       "array([[4423,  176],\n",
       "       [ 226,  175]])"
      ]
     },
     "execution_count": 303,
     "metadata": {},
     "output_type": "execute_result"
    }
   ],
   "source": [
    "y_pred2=mlp1.predict(df2_test1.drop('Default_ind',axis=1))\n",
    "from sklearn.metrics import confusion_matrix\n",
    "confusion_matrix( df2_test1['Default_ind'],y_pred2)\n"
   ]
  },
  {
   "cell_type": "markdown",
   "metadata": {},
   "source": [
    "# Read Dataset -- drop"
   ]
  },
  {
   "cell_type": "code",
   "execution_count": 144,
   "metadata": {},
   "outputs": [],
   "source": [
    "import pandas as pd\n",
    "df3=pd.read_csv('Listwise_deletion.csv')\n",
    "df3_vali=pd.read_csv('Listwise_deletion_validation.csv')\n",
    "df3_test=pd.read_csv('Listwise_deletion_test.csv')"
   ]
  },
  {
   "cell_type": "markdown",
   "metadata": {},
   "source": [
    "# MLP -- drop"
   ]
  },
  {
   "cell_type": "code",
   "execution_count": 145,
   "metadata": {},
   "outputs": [],
   "source": [
    "df3_up= upsample(df3)\n",
    "df3_vali_up=upsample(df3_vali)"
   ]
  },
  {
   "cell_type": "code",
   "execution_count": 146,
   "metadata": {},
   "outputs": [],
   "source": [
    "df3_up=Cate_to_object_excp_inq(df3_up)\n",
    "df3_vali=Cate_to_object_excp_inq(df3_vali)"
   ]
  },
  {
   "cell_type": "code",
   "execution_count": 147,
   "metadata": {},
   "outputs": [],
   "source": [
    "clf3,x3,y3=para_tune(df3_up,df3_vali_up)"
   ]
  },
  {
   "cell_type": "code",
   "execution_count": 149,
   "metadata": {},
   "outputs": [
    {
     "data": {
      "text/plain": [
       "0.9337509033967719"
      ]
     },
     "execution_count": 149,
     "metadata": {},
     "output_type": "execute_result"
    }
   ],
   "source": [
    "df3_test1=Cate_to_object_excp_inq(df3_test)\n",
    "df3_test1=pd.get_dummies(df3_test1)\n",
    "clf3.score(df3_test1.drop('Default_ind',axis=1),df3_test1['Default_ind'])"
   ]
  },
  {
   "cell_type": "code",
   "execution_count": 305,
   "metadata": {},
   "outputs": [
    {
     "data": {
      "text/plain": [
       "{'activation': 'relu',\n",
       " 'alpha': 0.0001,\n",
       " 'hidden_layer_sizes': (50, 100, 50),\n",
       " 'learning_rate': 'constant',\n",
       " 'solver': 'adam'}"
      ]
     },
     "execution_count": 305,
     "metadata": {},
     "output_type": "execute_result"
    }
   ],
   "source": [
    "clf3.best_params_"
   ]
  },
  {
   "cell_type": "code",
   "execution_count": 306,
   "metadata": {},
   "outputs": [
    {
     "data": {
      "text/plain": [
       "0.9296555046976632"
      ]
     },
     "execution_count": 306,
     "metadata": {},
     "output_type": "execute_result"
    }
   ],
   "source": [
    "from sklearn.neural_network import MLPClassifier\n",
    "mlp2 = MLPClassifier(activation='relu',alpha=0.001,hidden_layer_sizes=(50,50,50),learning_rate='constant',\n",
    "                        solver='adam',max_iter=1000)\n",
    "mlp2.fit(x3,y3)\n",
    "mlp2.score(df3_test1.drop('Default_ind',axis=1),df3_test1['Default_ind'])"
   ]
  },
  {
   "cell_type": "code",
   "execution_count": 307,
   "metadata": {},
   "outputs": [
    {
     "data": {
      "text/plain": [
       "array([[3782,   28],\n",
       "       [ 264,   77]])"
      ]
     },
     "execution_count": 307,
     "metadata": {},
     "output_type": "execute_result"
    }
   ],
   "source": [
    "y_pred3=mlp2.predict(df3_test1.drop('Default_ind',axis=1))\n",
    "from sklearn.metrics import confusion_matrix\n",
    "confusion_matrix(df3_test1['Default_ind'],y_pred3)"
   ]
  },
  {
   "cell_type": "markdown",
   "metadata": {},
   "source": [
    "# Read Dataset -- EM"
   ]
  },
  {
   "cell_type": "code",
   "execution_count": 338,
   "metadata": {},
   "outputs": [],
   "source": [
    "import pandas as pd\n",
    "df4=pd.read_csv('Simulated_Data_Train_em.csv')\n",
    "df4_vali=pd.read_csv('Simulated_Data_validatiion_em.csv')\n",
    "df4_test=pd.read_csv('Simulated_Data_test_em.csv')\n"
   ]
  },
  {
   "cell_type": "code",
   "execution_count": 339,
   "metadata": {},
   "outputs": [
    {
     "data": {
      "text/html": [
       "<div>\n",
       "<style scoped>\n",
       "    .dataframe tbody tr th:only-of-type {\n",
       "        vertical-align: middle;\n",
       "    }\n",
       "\n",
       "    .dataframe tbody tr th {\n",
       "        vertical-align: top;\n",
       "    }\n",
       "\n",
       "    .dataframe thead th {\n",
       "        text-align: right;\n",
       "    }\n",
       "</style>\n",
       "<table border=\"1\" class=\"dataframe\">\n",
       "  <thead>\n",
       "    <tr style=\"text-align: right;\">\n",
       "      <th></th>\n",
       "      <th>tot_credit_debt</th>\n",
       "      <th>avg_card_debt</th>\n",
       "      <th>credit_age</th>\n",
       "      <th>credit_good_age</th>\n",
       "      <th>card_age</th>\n",
       "      <th>non_mtg_acc_past_due_12_months_num</th>\n",
       "      <th>non_mtg_acc_past_due_6_months_num</th>\n",
       "      <th>mortgages_past_due_6_months_num</th>\n",
       "      <th>credit_past_due_amount</th>\n",
       "      <th>inq_12_month_num</th>\n",
       "      <th>...</th>\n",
       "      <th>rep_income</th>\n",
       "      <th>Default_ind</th>\n",
       "      <th>ind_acc_XYZ</th>\n",
       "      <th>States_AL</th>\n",
       "      <th>States_FL</th>\n",
       "      <th>States_GA</th>\n",
       "      <th>States_LA</th>\n",
       "      <th>States_MS</th>\n",
       "      <th>States_NC</th>\n",
       "      <th>States_SC</th>\n",
       "    </tr>\n",
       "  </thead>\n",
       "  <tbody>\n",
       "    <tr>\n",
       "      <th>0</th>\n",
       "      <td>80826.71</td>\n",
       "      <td>15872.99</td>\n",
       "      <td>300</td>\n",
       "      <td>114</td>\n",
       "      <td>292</td>\n",
       "      <td>0</td>\n",
       "      <td>0</td>\n",
       "      <td>0</td>\n",
       "      <td>0.00</td>\n",
       "      <td>3</td>\n",
       "      <td>...</td>\n",
       "      <td>69000.00000</td>\n",
       "      <td>0</td>\n",
       "      <td>0.0</td>\n",
       "      <td>1</td>\n",
       "      <td>0</td>\n",
       "      <td>0</td>\n",
       "      <td>0</td>\n",
       "      <td>0</td>\n",
       "      <td>0</td>\n",
       "      <td>0</td>\n",
       "    </tr>\n",
       "    <tr>\n",
       "      <th>1</th>\n",
       "      <td>96052.60</td>\n",
       "      <td>12178.02</td>\n",
       "      <td>281</td>\n",
       "      <td>102</td>\n",
       "      <td>232</td>\n",
       "      <td>0</td>\n",
       "      <td>0</td>\n",
       "      <td>0</td>\n",
       "      <td>0.00</td>\n",
       "      <td>2</td>\n",
       "      <td>...</td>\n",
       "      <td>61000.00000</td>\n",
       "      <td>0</td>\n",
       "      <td>0.0</td>\n",
       "      <td>0</td>\n",
       "      <td>1</td>\n",
       "      <td>0</td>\n",
       "      <td>0</td>\n",
       "      <td>0</td>\n",
       "      <td>0</td>\n",
       "      <td>0</td>\n",
       "    </tr>\n",
       "    <tr>\n",
       "      <th>2</th>\n",
       "      <td>75212.76</td>\n",
       "      <td>12052.24</td>\n",
       "      <td>261</td>\n",
       "      <td>149</td>\n",
       "      <td>260</td>\n",
       "      <td>0</td>\n",
       "      <td>0</td>\n",
       "      <td>0</td>\n",
       "      <td>0.00</td>\n",
       "      <td>1</td>\n",
       "      <td>...</td>\n",
       "      <td>63670.85451</td>\n",
       "      <td>0</td>\n",
       "      <td>0.0</td>\n",
       "      <td>1</td>\n",
       "      <td>0</td>\n",
       "      <td>0</td>\n",
       "      <td>0</td>\n",
       "      <td>0</td>\n",
       "      <td>0</td>\n",
       "      <td>0</td>\n",
       "    </tr>\n",
       "    <tr>\n",
       "      <th>3</th>\n",
       "      <td>70727.84</td>\n",
       "      <td>8416.80</td>\n",
       "      <td>227</td>\n",
       "      <td>93</td>\n",
       "      <td>223</td>\n",
       "      <td>2</td>\n",
       "      <td>1</td>\n",
       "      <td>1</td>\n",
       "      <td>11013.96</td>\n",
       "      <td>0</td>\n",
       "      <td>...</td>\n",
       "      <td>79000.00000</td>\n",
       "      <td>1</td>\n",
       "      <td>0.0</td>\n",
       "      <td>0</td>\n",
       "      <td>0</td>\n",
       "      <td>0</td>\n",
       "      <td>0</td>\n",
       "      <td>0</td>\n",
       "      <td>0</td>\n",
       "      <td>1</td>\n",
       "    </tr>\n",
       "    <tr>\n",
       "      <th>4</th>\n",
       "      <td>41604.47</td>\n",
       "      <td>10611.97</td>\n",
       "      <td>249</td>\n",
       "      <td>136</td>\n",
       "      <td>241</td>\n",
       "      <td>0</td>\n",
       "      <td>0</td>\n",
       "      <td>0</td>\n",
       "      <td>0.00</td>\n",
       "      <td>0</td>\n",
       "      <td>...</td>\n",
       "      <td>70557.92467</td>\n",
       "      <td>0</td>\n",
       "      <td>1.0</td>\n",
       "      <td>0</td>\n",
       "      <td>0</td>\n",
       "      <td>0</td>\n",
       "      <td>1</td>\n",
       "      <td>0</td>\n",
       "      <td>0</td>\n",
       "      <td>0</td>\n",
       "    </tr>\n",
       "    <tr>\n",
       "      <th>...</th>\n",
       "      <td>...</td>\n",
       "      <td>...</td>\n",
       "      <td>...</td>\n",
       "      <td>...</td>\n",
       "      <td>...</td>\n",
       "      <td>...</td>\n",
       "      <td>...</td>\n",
       "      <td>...</td>\n",
       "      <td>...</td>\n",
       "      <td>...</td>\n",
       "      <td>...</td>\n",
       "      <td>...</td>\n",
       "      <td>...</td>\n",
       "      <td>...</td>\n",
       "      <td>...</td>\n",
       "      <td>...</td>\n",
       "      <td>...</td>\n",
       "      <td>...</td>\n",
       "      <td>...</td>\n",
       "      <td>...</td>\n",
       "      <td>...</td>\n",
       "    </tr>\n",
       "    <tr>\n",
       "      <th>19995</th>\n",
       "      <td>104765.01</td>\n",
       "      <td>13905.40</td>\n",
       "      <td>182</td>\n",
       "      <td>84</td>\n",
       "      <td>165</td>\n",
       "      <td>0</td>\n",
       "      <td>0</td>\n",
       "      <td>0</td>\n",
       "      <td>0.00</td>\n",
       "      <td>4</td>\n",
       "      <td>...</td>\n",
       "      <td>62976.55898</td>\n",
       "      <td>0</td>\n",
       "      <td>NaN</td>\n",
       "      <td>0</td>\n",
       "      <td>0</td>\n",
       "      <td>0</td>\n",
       "      <td>0</td>\n",
       "      <td>0</td>\n",
       "      <td>0</td>\n",
       "      <td>0</td>\n",
       "    </tr>\n",
       "    <tr>\n",
       "      <th>19996</th>\n",
       "      <td>83990.07</td>\n",
       "      <td>10325.02</td>\n",
       "      <td>320</td>\n",
       "      <td>129</td>\n",
       "      <td>280</td>\n",
       "      <td>0</td>\n",
       "      <td>0</td>\n",
       "      <td>0</td>\n",
       "      <td>0.00</td>\n",
       "      <td>0</td>\n",
       "      <td>...</td>\n",
       "      <td>87000.00000</td>\n",
       "      <td>0</td>\n",
       "      <td>NaN</td>\n",
       "      <td>0</td>\n",
       "      <td>0</td>\n",
       "      <td>0</td>\n",
       "      <td>0</td>\n",
       "      <td>0</td>\n",
       "      <td>0</td>\n",
       "      <td>0</td>\n",
       "    </tr>\n",
       "    <tr>\n",
       "      <th>19997</th>\n",
       "      <td>107606.69</td>\n",
       "      <td>17838.79</td>\n",
       "      <td>290</td>\n",
       "      <td>168</td>\n",
       "      <td>271</td>\n",
       "      <td>1</td>\n",
       "      <td>0</td>\n",
       "      <td>0</td>\n",
       "      <td>0.00</td>\n",
       "      <td>3</td>\n",
       "      <td>...</td>\n",
       "      <td>63000.00000</td>\n",
       "      <td>0</td>\n",
       "      <td>NaN</td>\n",
       "      <td>0</td>\n",
       "      <td>0</td>\n",
       "      <td>0</td>\n",
       "      <td>0</td>\n",
       "      <td>0</td>\n",
       "      <td>0</td>\n",
       "      <td>0</td>\n",
       "    </tr>\n",
       "    <tr>\n",
       "      <th>19998</th>\n",
       "      <td>78787.72</td>\n",
       "      <td>11447.61</td>\n",
       "      <td>208</td>\n",
       "      <td>104</td>\n",
       "      <td>194</td>\n",
       "      <td>0</td>\n",
       "      <td>0</td>\n",
       "      <td>0</td>\n",
       "      <td>0.00</td>\n",
       "      <td>1</td>\n",
       "      <td>...</td>\n",
       "      <td>71000.00000</td>\n",
       "      <td>0</td>\n",
       "      <td>NaN</td>\n",
       "      <td>0</td>\n",
       "      <td>0</td>\n",
       "      <td>0</td>\n",
       "      <td>0</td>\n",
       "      <td>0</td>\n",
       "      <td>0</td>\n",
       "      <td>0</td>\n",
       "    </tr>\n",
       "    <tr>\n",
       "      <th>19999</th>\n",
       "      <td>78296.90</td>\n",
       "      <td>10053.16</td>\n",
       "      <td>348</td>\n",
       "      <td>175</td>\n",
       "      <td>299</td>\n",
       "      <td>0</td>\n",
       "      <td>0</td>\n",
       "      <td>0</td>\n",
       "      <td>0.00</td>\n",
       "      <td>2</td>\n",
       "      <td>...</td>\n",
       "      <td>85000.00000</td>\n",
       "      <td>0</td>\n",
       "      <td>NaN</td>\n",
       "      <td>0</td>\n",
       "      <td>0</td>\n",
       "      <td>0</td>\n",
       "      <td>0</td>\n",
       "      <td>0</td>\n",
       "      <td>0</td>\n",
       "      <td>0</td>\n",
       "    </tr>\n",
       "  </tbody>\n",
       "</table>\n",
       "<p>40000 rows × 27 columns</p>\n",
       "</div>"
      ],
      "text/plain": [
       "       tot_credit_debt  avg_card_debt  credit_age  credit_good_age  card_age  \\\n",
       "0             80826.71       15872.99         300              114       292   \n",
       "1             96052.60       12178.02         281              102       232   \n",
       "2             75212.76       12052.24         261              149       260   \n",
       "3             70727.84        8416.80         227               93       223   \n",
       "4             41604.47       10611.97         249              136       241   \n",
       "...                ...            ...         ...              ...       ...   \n",
       "19995        104765.01       13905.40         182               84       165   \n",
       "19996         83990.07       10325.02         320              129       280   \n",
       "19997        107606.69       17838.79         290              168       271   \n",
       "19998         78787.72       11447.61         208              104       194   \n",
       "19999         78296.90       10053.16         348              175       299   \n",
       "\n",
       "       non_mtg_acc_past_due_12_months_num  non_mtg_acc_past_due_6_months_num  \\\n",
       "0                                       0                                  0   \n",
       "1                                       0                                  0   \n",
       "2                                       0                                  0   \n",
       "3                                       2                                  1   \n",
       "4                                       0                                  0   \n",
       "...                                   ...                                ...   \n",
       "19995                                   0                                  0   \n",
       "19996                                   0                                  0   \n",
       "19997                                   1                                  0   \n",
       "19998                                   0                                  0   \n",
       "19999                                   0                                  0   \n",
       "\n",
       "       mortgages_past_due_6_months_num  credit_past_due_amount  \\\n",
       "0                                    0                    0.00   \n",
       "1                                    0                    0.00   \n",
       "2                                    0                    0.00   \n",
       "3                                    1                11013.96   \n",
       "4                                    0                    0.00   \n",
       "...                                ...                     ...   \n",
       "19995                                0                    0.00   \n",
       "19996                                0                    0.00   \n",
       "19997                                0                    0.00   \n",
       "19998                                0                    0.00   \n",
       "19999                                0                    0.00   \n",
       "\n",
       "       inq_12_month_num  ...   rep_income  Default_ind  ind_acc_XYZ  \\\n",
       "0                     3  ...  69000.00000            0          0.0   \n",
       "1                     2  ...  61000.00000            0          0.0   \n",
       "2                     1  ...  63670.85451            0          0.0   \n",
       "3                     0  ...  79000.00000            1          0.0   \n",
       "4                     0  ...  70557.92467            0          1.0   \n",
       "...                 ...  ...          ...          ...          ...   \n",
       "19995                 4  ...  62976.55898            0          NaN   \n",
       "19996                 0  ...  87000.00000            0          NaN   \n",
       "19997                 3  ...  63000.00000            0          NaN   \n",
       "19998                 1  ...  71000.00000            0          NaN   \n",
       "19999                 2  ...  85000.00000            0          NaN   \n",
       "\n",
       "       States_AL  States_FL  States_GA  States_LA  States_MS  States_NC  \\\n",
       "0              1          0          0          0          0          0   \n",
       "1              0          1          0          0          0          0   \n",
       "2              1          0          0          0          0          0   \n",
       "3              0          0          0          0          0          0   \n",
       "4              0          0          0          1          0          0   \n",
       "...          ...        ...        ...        ...        ...        ...   \n",
       "19995          0          0          0          0          0          0   \n",
       "19996          0          0          0          0          0          0   \n",
       "19997          0          0          0          0          0          0   \n",
       "19998          0          0          0          0          0          0   \n",
       "19999          0          0          0          0          0          0   \n",
       "\n",
       "       States_SC  \n",
       "0              0  \n",
       "1              0  \n",
       "2              0  \n",
       "3              1  \n",
       "4              0  \n",
       "...          ...  \n",
       "19995          0  \n",
       "19996          0  \n",
       "19997          0  \n",
       "19998          0  \n",
       "19999          0  \n",
       "\n",
       "[40000 rows x 27 columns]"
      ]
     },
     "execution_count": 339,
     "metadata": {},
     "output_type": "execute_result"
    }
   ],
   "source": [
    "pd.get_dummies(pd.concat([df4, df4_vali]))"
   ]
  },
  {
   "cell_type": "markdown",
   "metadata": {},
   "source": [
    "# MLP -- EM"
   ]
  },
  {
   "cell_type": "code",
   "execution_count": 340,
   "metadata": {},
   "outputs": [],
   "source": [
    "df4_up= upsample(df4)\n",
    "df4_vali_up=upsample(df4_vali)"
   ]
  },
  {
   "cell_type": "code",
   "execution_count": 341,
   "metadata": {},
   "outputs": [],
   "source": [
    "df4_up=Cate_to_object_excp_inq(df4_up)\n",
    "df4_vali_up=Cate_to_object_excp_inq(df4_vali_up)"
   ]
  },
  {
   "cell_type": "code",
   "execution_count": 342,
   "metadata": {},
   "outputs": [
    {
     "data": {
      "text/html": [
       "<div>\n",
       "<style scoped>\n",
       "    .dataframe tbody tr th:only-of-type {\n",
       "        vertical-align: middle;\n",
       "    }\n",
       "\n",
       "    .dataframe tbody tr th {\n",
       "        vertical-align: top;\n",
       "    }\n",
       "\n",
       "    .dataframe thead th {\n",
       "        text-align: right;\n",
       "    }\n",
       "</style>\n",
       "<table border=\"1\" class=\"dataframe\">\n",
       "  <thead>\n",
       "    <tr style=\"text-align: right;\">\n",
       "      <th></th>\n",
       "      <th>tot_credit_debt</th>\n",
       "      <th>avg_card_debt</th>\n",
       "      <th>credit_age</th>\n",
       "      <th>credit_good_age</th>\n",
       "      <th>card_age</th>\n",
       "      <th>non_mtg_acc_past_due_12_months_num</th>\n",
       "      <th>non_mtg_acc_past_due_6_months_num</th>\n",
       "      <th>mortgages_past_due_6_months_num</th>\n",
       "      <th>credit_past_due_amount</th>\n",
       "      <th>inq_12_month_num</th>\n",
       "      <th>...</th>\n",
       "      <th>card_open_36_month_num</th>\n",
       "      <th>auto_open_36_month_num</th>\n",
       "      <th>uti_card</th>\n",
       "      <th>uti_50plus_pct</th>\n",
       "      <th>uti_max_credit_line</th>\n",
       "      <th>uti_card_50plus_pct</th>\n",
       "      <th>rep_income</th>\n",
       "      <th>Default_ind</th>\n",
       "      <th>States</th>\n",
       "      <th>ind_acc_XYZ</th>\n",
       "    </tr>\n",
       "  </thead>\n",
       "  <tbody>\n",
       "    <tr>\n",
       "      <th>0</th>\n",
       "      <td>80826.71</td>\n",
       "      <td>15872.99</td>\n",
       "      <td>300</td>\n",
       "      <td>114</td>\n",
       "      <td>292</td>\n",
       "      <td>0</td>\n",
       "      <td>0</td>\n",
       "      <td>0</td>\n",
       "      <td>0.0</td>\n",
       "      <td>3.0</td>\n",
       "      <td>...</td>\n",
       "      <td>0</td>\n",
       "      <td>0</td>\n",
       "      <td>0.365902</td>\n",
       "      <td>0.475594</td>\n",
       "      <td>0.410504</td>\n",
       "      <td>0.520785</td>\n",
       "      <td>69000.00000</td>\n",
       "      <td>0</td>\n",
       "      <td>AL</td>\n",
       "      <td>0</td>\n",
       "    </tr>\n",
       "    <tr>\n",
       "      <th>1</th>\n",
       "      <td>96052.60</td>\n",
       "      <td>12178.02</td>\n",
       "      <td>281</td>\n",
       "      <td>102</td>\n",
       "      <td>232</td>\n",
       "      <td>0</td>\n",
       "      <td>0</td>\n",
       "      <td>0</td>\n",
       "      <td>0.0</td>\n",
       "      <td>2.0</td>\n",
       "      <td>...</td>\n",
       "      <td>1</td>\n",
       "      <td>0</td>\n",
       "      <td>0.542786</td>\n",
       "      <td>0.543158</td>\n",
       "      <td>0.535147</td>\n",
       "      <td>0.587351</td>\n",
       "      <td>61000.00000</td>\n",
       "      <td>0</td>\n",
       "      <td>FL</td>\n",
       "      <td>0</td>\n",
       "    </tr>\n",
       "    <tr>\n",
       "      <th>2</th>\n",
       "      <td>75212.76</td>\n",
       "      <td>12052.24</td>\n",
       "      <td>261</td>\n",
       "      <td>149</td>\n",
       "      <td>260</td>\n",
       "      <td>0</td>\n",
       "      <td>0</td>\n",
       "      <td>0</td>\n",
       "      <td>0.0</td>\n",
       "      <td>1.0</td>\n",
       "      <td>...</td>\n",
       "      <td>0</td>\n",
       "      <td>1</td>\n",
       "      <td>0.323678</td>\n",
       "      <td>0.321776</td>\n",
       "      <td>0.348713</td>\n",
       "      <td>0.413293</td>\n",
       "      <td>63670.85451</td>\n",
       "      <td>0</td>\n",
       "      <td>AL</td>\n",
       "      <td>0</td>\n",
       "    </tr>\n",
       "    <tr>\n",
       "      <th>4</th>\n",
       "      <td>41604.47</td>\n",
       "      <td>10611.97</td>\n",
       "      <td>249</td>\n",
       "      <td>136</td>\n",
       "      <td>241</td>\n",
       "      <td>0</td>\n",
       "      <td>0</td>\n",
       "      <td>0</td>\n",
       "      <td>0.0</td>\n",
       "      <td>0.0</td>\n",
       "      <td>...</td>\n",
       "      <td>0</td>\n",
       "      <td>0</td>\n",
       "      <td>0.644030</td>\n",
       "      <td>0.619987</td>\n",
       "      <td>0.546655</td>\n",
       "      <td>0.588442</td>\n",
       "      <td>70557.92467</td>\n",
       "      <td>0</td>\n",
       "      <td>LA</td>\n",
       "      <td>1</td>\n",
       "    </tr>\n",
       "    <tr>\n",
       "      <th>5</th>\n",
       "      <td>89198.22</td>\n",
       "      <td>15193.09</td>\n",
       "      <td>319</td>\n",
       "      <td>147</td>\n",
       "      <td>279</td>\n",
       "      <td>0</td>\n",
       "      <td>0</td>\n",
       "      <td>0</td>\n",
       "      <td>0.0</td>\n",
       "      <td>2.0</td>\n",
       "      <td>...</td>\n",
       "      <td>1</td>\n",
       "      <td>0</td>\n",
       "      <td>0.183918</td>\n",
       "      <td>0.309341</td>\n",
       "      <td>0.254744</td>\n",
       "      <td>0.193060</td>\n",
       "      <td>76000.00000</td>\n",
       "      <td>0</td>\n",
       "      <td>LA</td>\n",
       "      <td>0</td>\n",
       "    </tr>\n",
       "  </tbody>\n",
       "</table>\n",
       "<p>5 rows × 21 columns</p>\n",
       "</div>"
      ],
      "text/plain": [
       "   tot_credit_debt  avg_card_debt  credit_age  credit_good_age  card_age  \\\n",
       "0         80826.71       15872.99         300              114       292   \n",
       "1         96052.60       12178.02         281              102       232   \n",
       "2         75212.76       12052.24         261              149       260   \n",
       "4         41604.47       10611.97         249              136       241   \n",
       "5         89198.22       15193.09         319              147       279   \n",
       "\n",
       "  non_mtg_acc_past_due_12_months_num non_mtg_acc_past_due_6_months_num  \\\n",
       "0                                  0                                 0   \n",
       "1                                  0                                 0   \n",
       "2                                  0                                 0   \n",
       "4                                  0                                 0   \n",
       "5                                  0                                 0   \n",
       "\n",
       "  mortgages_past_due_6_months_num  credit_past_due_amount  inq_12_month_num  \\\n",
       "0                               0                     0.0               3.0   \n",
       "1                               0                     0.0               2.0   \n",
       "2                               0                     0.0               1.0   \n",
       "4                               0                     0.0               0.0   \n",
       "5                               0                     0.0               2.0   \n",
       "\n",
       "   ...  card_open_36_month_num auto_open_36_month_num  uti_card  \\\n",
       "0  ...                       0                      0  0.365902   \n",
       "1  ...                       1                      0  0.542786   \n",
       "2  ...                       0                      1  0.323678   \n",
       "4  ...                       0                      0  0.644030   \n",
       "5  ...                       1                      0  0.183918   \n",
       "\n",
       "   uti_50plus_pct  uti_max_credit_line  uti_card_50plus_pct   rep_income  \\\n",
       "0        0.475594             0.410504             0.520785  69000.00000   \n",
       "1        0.543158             0.535147             0.587351  61000.00000   \n",
       "2        0.321776             0.348713             0.413293  63670.85451   \n",
       "4        0.619987             0.546655             0.588442  70557.92467   \n",
       "5        0.309341             0.254744             0.193060  76000.00000   \n",
       "\n",
       "   Default_ind  States ind_acc_XYZ  \n",
       "0            0      AL           0  \n",
       "1            0      FL           0  \n",
       "2            0      AL           0  \n",
       "4            0      LA           1  \n",
       "5            0      LA           0  \n",
       "\n",
       "[5 rows x 21 columns]"
      ]
     },
     "execution_count": 342,
     "metadata": {},
     "output_type": "execute_result"
    }
   ],
   "source": [
    "df4_up.head()"
   ]
  },
  {
   "cell_type": "code",
   "execution_count": 343,
   "metadata": {},
   "outputs": [],
   "source": [
    "clf4,x4,y4=para_tune(df4_up,df4_vali_up)"
   ]
  },
  {
   "cell_type": "code",
   "execution_count": 344,
   "metadata": {},
   "outputs": [],
   "source": [
    "df4_test1=Cate_to_object_excp_inq(df4_test)\n",
    "df4_test1=pd.get_dummies(df4_test1)"
   ]
  },
  {
   "cell_type": "code",
   "execution_count": 345,
   "metadata": {},
   "outputs": [
    {
     "data": {
      "text/plain": [
       "{'activation': 'relu',\n",
       " 'alpha': 0.05,\n",
       " 'hidden_layer_sizes': (50, 100, 50),\n",
       " 'learning_rate': 'adaptive',\n",
       " 'solver': 'adam'}"
      ]
     },
     "execution_count": 345,
     "metadata": {},
     "output_type": "execute_result"
    }
   ],
   "source": [
    "clf4.best_params_"
   ]
  },
  {
   "cell_type": "code",
   "execution_count": 346,
   "metadata": {},
   "outputs": [
    {
     "data": {
      "text/html": [
       "<div>\n",
       "<style scoped>\n",
       "    .dataframe tbody tr th:only-of-type {\n",
       "        vertical-align: middle;\n",
       "    }\n",
       "\n",
       "    .dataframe tbody tr th {\n",
       "        vertical-align: top;\n",
       "    }\n",
       "\n",
       "    .dataframe thead th {\n",
       "        text-align: right;\n",
       "    }\n",
       "</style>\n",
       "<table border=\"1\" class=\"dataframe\">\n",
       "  <thead>\n",
       "    <tr style=\"text-align: right;\">\n",
       "      <th></th>\n",
       "      <th>0</th>\n",
       "      <th>1</th>\n",
       "      <th>2</th>\n",
       "      <th>3</th>\n",
       "      <th>4</th>\n",
       "      <th>5</th>\n",
       "      <th>6</th>\n",
       "      <th>7</th>\n",
       "      <th>8</th>\n",
       "      <th>9</th>\n",
       "      <th>...</th>\n",
       "      <th>28</th>\n",
       "      <th>29</th>\n",
       "      <th>30</th>\n",
       "      <th>31</th>\n",
       "      <th>32</th>\n",
       "      <th>33</th>\n",
       "      <th>34</th>\n",
       "      <th>35</th>\n",
       "      <th>36</th>\n",
       "      <th>37</th>\n",
       "    </tr>\n",
       "  </thead>\n",
       "  <tbody>\n",
       "    <tr>\n",
       "      <th>0</th>\n",
       "      <td>80826.71</td>\n",
       "      <td>15872.99</td>\n",
       "      <td>300.0</td>\n",
       "      <td>114.0</td>\n",
       "      <td>292.0</td>\n",
       "      <td>0.0</td>\n",
       "      <td>3.0</td>\n",
       "      <td>4.0</td>\n",
       "      <td>0.365902</td>\n",
       "      <td>0.475594</td>\n",
       "      <td>...</td>\n",
       "      <td>0.0</td>\n",
       "      <td>1.0</td>\n",
       "      <td>0.0</td>\n",
       "      <td>0.0</td>\n",
       "      <td>0.0</td>\n",
       "      <td>0.0</td>\n",
       "      <td>0.0</td>\n",
       "      <td>0.0</td>\n",
       "      <td>1.0</td>\n",
       "      <td>0.0</td>\n",
       "    </tr>\n",
       "    <tr>\n",
       "      <th>1</th>\n",
       "      <td>96052.60</td>\n",
       "      <td>12178.02</td>\n",
       "      <td>281.0</td>\n",
       "      <td>102.0</td>\n",
       "      <td>232.0</td>\n",
       "      <td>0.0</td>\n",
       "      <td>2.0</td>\n",
       "      <td>4.0</td>\n",
       "      <td>0.542786</td>\n",
       "      <td>0.543158</td>\n",
       "      <td>...</td>\n",
       "      <td>0.0</td>\n",
       "      <td>0.0</td>\n",
       "      <td>1.0</td>\n",
       "      <td>0.0</td>\n",
       "      <td>0.0</td>\n",
       "      <td>0.0</td>\n",
       "      <td>0.0</td>\n",
       "      <td>0.0</td>\n",
       "      <td>1.0</td>\n",
       "      <td>0.0</td>\n",
       "    </tr>\n",
       "    <tr>\n",
       "      <th>2</th>\n",
       "      <td>75212.76</td>\n",
       "      <td>12052.24</td>\n",
       "      <td>261.0</td>\n",
       "      <td>149.0</td>\n",
       "      <td>260.0</td>\n",
       "      <td>0.0</td>\n",
       "      <td>1.0</td>\n",
       "      <td>3.0</td>\n",
       "      <td>0.323678</td>\n",
       "      <td>0.321776</td>\n",
       "      <td>...</td>\n",
       "      <td>0.0</td>\n",
       "      <td>1.0</td>\n",
       "      <td>0.0</td>\n",
       "      <td>0.0</td>\n",
       "      <td>0.0</td>\n",
       "      <td>0.0</td>\n",
       "      <td>0.0</td>\n",
       "      <td>0.0</td>\n",
       "      <td>1.0</td>\n",
       "      <td>0.0</td>\n",
       "    </tr>\n",
       "    <tr>\n",
       "      <th>3</th>\n",
       "      <td>41604.47</td>\n",
       "      <td>10611.97</td>\n",
       "      <td>249.0</td>\n",
       "      <td>136.0</td>\n",
       "      <td>241.0</td>\n",
       "      <td>0.0</td>\n",
       "      <td>0.0</td>\n",
       "      <td>2.0</td>\n",
       "      <td>0.644030</td>\n",
       "      <td>0.619987</td>\n",
       "      <td>...</td>\n",
       "      <td>0.0</td>\n",
       "      <td>0.0</td>\n",
       "      <td>0.0</td>\n",
       "      <td>0.0</td>\n",
       "      <td>1.0</td>\n",
       "      <td>0.0</td>\n",
       "      <td>0.0</td>\n",
       "      <td>0.0</td>\n",
       "      <td>0.0</td>\n",
       "      <td>1.0</td>\n",
       "    </tr>\n",
       "    <tr>\n",
       "      <th>4</th>\n",
       "      <td>89198.22</td>\n",
       "      <td>15193.09</td>\n",
       "      <td>319.0</td>\n",
       "      <td>147.0</td>\n",
       "      <td>279.0</td>\n",
       "      <td>0.0</td>\n",
       "      <td>2.0</td>\n",
       "      <td>3.0</td>\n",
       "      <td>0.183918</td>\n",
       "      <td>0.309341</td>\n",
       "      <td>...</td>\n",
       "      <td>0.0</td>\n",
       "      <td>0.0</td>\n",
       "      <td>0.0</td>\n",
       "      <td>0.0</td>\n",
       "      <td>1.0</td>\n",
       "      <td>0.0</td>\n",
       "      <td>0.0</td>\n",
       "      <td>0.0</td>\n",
       "      <td>1.0</td>\n",
       "      <td>0.0</td>\n",
       "    </tr>\n",
       "  </tbody>\n",
       "</table>\n",
       "<p>5 rows × 38 columns</p>\n",
       "</div>"
      ],
      "text/plain": [
       "         0         1      2      3      4    5    6    7         8         9   \\\n",
       "0  80826.71  15872.99  300.0  114.0  292.0  0.0  3.0  4.0  0.365902  0.475594   \n",
       "1  96052.60  12178.02  281.0  102.0  232.0  0.0  2.0  4.0  0.542786  0.543158   \n",
       "2  75212.76  12052.24  261.0  149.0  260.0  0.0  1.0  3.0  0.323678  0.321776   \n",
       "3  41604.47  10611.97  249.0  136.0  241.0  0.0  0.0  2.0  0.644030  0.619987   \n",
       "4  89198.22  15193.09  319.0  147.0  279.0  0.0  2.0  3.0  0.183918  0.309341   \n",
       "\n",
       "   ...   28   29   30   31   32   33   34   35   36   37  \n",
       "0  ...  0.0  1.0  0.0  0.0  0.0  0.0  0.0  0.0  1.0  0.0  \n",
       "1  ...  0.0  0.0  1.0  0.0  0.0  0.0  0.0  0.0  1.0  0.0  \n",
       "2  ...  0.0  1.0  0.0  0.0  0.0  0.0  0.0  0.0  1.0  0.0  \n",
       "3  ...  0.0  0.0  0.0  0.0  1.0  0.0  0.0  0.0  0.0  1.0  \n",
       "4  ...  0.0  0.0  0.0  0.0  1.0  0.0  0.0  0.0  1.0  0.0  \n",
       "\n",
       "[5 rows x 38 columns]"
      ]
     },
     "execution_count": 346,
     "metadata": {},
     "output_type": "execute_result"
    }
   ],
   "source": [
    "pd.DataFrame(x4).head()"
   ]
  },
  {
   "cell_type": "code",
   "execution_count": 347,
   "metadata": {},
   "outputs": [
    {
     "data": {
      "text/plain": [
       "0.731"
      ]
     },
     "execution_count": 347,
     "metadata": {},
     "output_type": "execute_result"
    }
   ],
   "source": [
    "from sklearn.neural_network import MLPClassifier\n",
    "mlp3 = MLPClassifier(activation='tanh',alpha=0.0001,hidden_layer_sizes=(50,50,50),learning_rate='constant',\n",
    "                        solver='adam',max_iter=1000)\n",
    "mlp3.fit(x4,y4)\n",
    "mlp3.score(df4_test1.drop('Default_ind',axis=1),df4_test1['Default_ind'])"
   ]
  },
  {
   "cell_type": "code",
   "execution_count": 348,
   "metadata": {},
   "outputs": [
    {
     "data": {
      "text/plain": [
       "array([[3490, 1109],\n",
       "       [ 236,  165]])"
      ]
     },
     "execution_count": 348,
     "metadata": {},
     "output_type": "execute_result"
    }
   ],
   "source": [
    "y_pred4=mlp3.predict(df4_test1.drop('Default_ind',axis=1))\n",
    "from sklearn.metrics import confusion_matrix\n",
    "confusion_matrix(df4_test1['Default_ind'],y_pred4)"
   ]
  },
  {
   "cell_type": "markdown",
   "metadata": {},
   "source": [
    "# Read Dataset -- CART"
   ]
  },
  {
   "cell_type": "code",
   "execution_count": 351,
   "metadata": {},
   "outputs": [],
   "source": [
    "import pandas as pd\n",
    "df5=pd.read_csv('cart_impute.csv')\n",
    "df5_vali=pd.read_csv('cart_impute_vali.csv')\n",
    "df5_test=pd.read_csv('cart_impute_Test.csv')\n"
   ]
  },
  {
   "cell_type": "markdown",
   "metadata": {},
   "source": [
    "# MLP--cart"
   ]
  },
  {
   "cell_type": "code",
   "execution_count": 384,
   "metadata": {},
   "outputs": [],
   "source": [
    "df5_up= upsample(df5)\n",
    "df5_vali_up=upsample(df5_vali)"
   ]
  },
  {
   "cell_type": "code",
   "execution_count": 385,
   "metadata": {},
   "outputs": [],
   "source": [
    "df5_up=Cate_to_object_excp_inq(df5_up)\n",
    "df5_vali=Cate_to_object_excp_inq(df5_vali)"
   ]
  },
  {
   "cell_type": "code",
   "execution_count": 386,
   "metadata": {},
   "outputs": [],
   "source": [
    "clf5,x5,y5=para_tune(df5_up,df5_vali_up)"
   ]
  },
  {
   "cell_type": "code",
   "execution_count": 387,
   "metadata": {},
   "outputs": [
    {
     "data": {
      "text/plain": [
       "{'activation': 'relu',\n",
       " 'alpha': 0.0001,\n",
       " 'hidden_layer_sizes': (100,),\n",
       " 'learning_rate': 'adaptive',\n",
       " 'solver': 'adam'}"
      ]
     },
     "execution_count": 387,
     "metadata": {},
     "output_type": "execute_result"
    }
   ],
   "source": [
    "clf5.best_params_"
   ]
  },
  {
   "cell_type": "code",
   "execution_count": 388,
   "metadata": {},
   "outputs": [],
   "source": [
    "df5_test1=Cate_to_object_excp_inq(df5_test)\n",
    "df5_test1=pd.get_dummies(df5_test1)"
   ]
  },
  {
   "cell_type": "code",
   "execution_count": 389,
   "metadata": {},
   "outputs": [
    {
     "data": {
      "text/plain": [
       "0.9322"
      ]
     },
     "execution_count": 389,
     "metadata": {},
     "output_type": "execute_result"
    }
   ],
   "source": [
    "from sklearn.neural_network import MLPClassifier\n",
    "mlp4 = MLPClassifier(activation='relu',alpha=0.0001,hidden_layer_sizes=(100,),learning_rate='adaptive',\n",
    "                        solver='adam',max_iter=1000)\n",
    "mlp4.fit(x5,y5)\n",
    "mlp4.score(df5_test1.drop('Default_ind',axis=1),df5_test1['Default_ind'])"
   ]
  },
  {
   "cell_type": "code",
   "execution_count": 390,
   "metadata": {},
   "outputs": [
    {
     "data": {
      "text/plain": [
       "array([[4530,   69],\n",
       "       [ 270,  131]])"
      ]
     },
     "execution_count": 390,
     "metadata": {},
     "output_type": "execute_result"
    }
   ],
   "source": [
    "y_pred5=mlp4.predict(df5_test1.drop('Default_ind',axis=1))\n",
    "from sklearn.metrics import confusion_matrix\n",
    "confusion_matrix(df5_test1['Default_ind'],y_pred5)"
   ]
  },
  {
   "cell_type": "markdown",
   "metadata": {},
   "source": [
    "# Read data --RF "
   ]
  },
  {
   "cell_type": "code",
   "execution_count": 158,
   "metadata": {},
   "outputs": [],
   "source": [
    "import pandas as pd\n",
    "df6=pd.read_csv('rf.csv')\n",
    "df6_vali=pd.read_csv('rf_Vali.csv')\n",
    "df6_test=pd.read_csv('rf_Test.csv')\n"
   ]
  },
  {
   "cell_type": "markdown",
   "metadata": {},
   "source": [
    "# MLP--RF"
   ]
  },
  {
   "cell_type": "code",
   "execution_count": 159,
   "metadata": {},
   "outputs": [],
   "source": [
    "df6_up= upsample(df6)\n",
    "df6_vali_up=upsample(df6_vali)\n",
    "df6_up=Cate_to_object_excp_inq(df6_up)\n",
    "df6_vali=Cate_to_object_excp_inq(df6_vali)"
   ]
  },
  {
   "cell_type": "code",
   "execution_count": 160,
   "metadata": {},
   "outputs": [],
   "source": [
    "clf6,x6,y6=para_tune(df6_up,df6_vali_up)"
   ]
  },
  {
   "cell_type": "code",
   "execution_count": 356,
   "metadata": {},
   "outputs": [
    {
     "data": {
      "text/plain": [
       "{'activation': 'relu',\n",
       " 'alpha': 0.0001,\n",
       " 'hidden_layer_sizes': (50, 100, 50),\n",
       " 'learning_rate': 'constant',\n",
       " 'solver': 'adam'}"
      ]
     },
     "execution_count": 356,
     "metadata": {},
     "output_type": "execute_result"
    }
   ],
   "source": [
    "clf6.best_params_"
   ]
  },
  {
   "cell_type": "code",
   "execution_count": 162,
   "metadata": {},
   "outputs": [
    {
     "data": {
      "text/plain": [
       "0.8786"
      ]
     },
     "execution_count": 162,
     "metadata": {},
     "output_type": "execute_result"
    }
   ],
   "source": [
    "df6_test1=Cate_to_object_excp_inq(df6_test)\n",
    "df6_test1=pd.get_dummies(df6_test1)\n",
    "clf6.score(df6_test1.drop('Default_ind',axis=1),df6_test1['Default_ind'])"
   ]
  },
  {
   "cell_type": "code",
   "execution_count": 357,
   "metadata": {},
   "outputs": [
    {
     "data": {
      "text/plain": [
       "0.577"
      ]
     },
     "execution_count": 357,
     "metadata": {},
     "output_type": "execute_result"
    }
   ],
   "source": [
    "from sklearn.neural_network import MLPClassifier\n",
    "mlp5= MLPClassifier(activation='relu',alpha=0.0001,hidden_layer_sizes=(50,100,50),learning_rate='constant',\n",
    "                        solver='adam',max_iter=1000)\n",
    "mlp5.fit(x6,y6)\n",
    "mlp5.score(df6_test1.drop('Default_ind',axis=1),df6_test1['Default_ind'])"
   ]
  },
  {
   "cell_type": "code",
   "execution_count": 358,
   "metadata": {},
   "outputs": [
    {
     "data": {
      "text/plain": [
       "array([[2564, 2035],\n",
       "       [  80,  321]])"
      ]
     },
     "execution_count": 358,
     "metadata": {},
     "output_type": "execute_result"
    }
   ],
   "source": [
    "y_pred6=mlp5.predict(df6_test1.drop('Default_ind',axis=1))\n",
    "from sklearn.metrics import confusion_matrix\n",
    "confusion_matrix(df6_test1['Default_ind'],y_pred6)"
   ]
  },
  {
   "cell_type": "markdown",
   "metadata": {},
   "source": [
    "# Read data --EMB "
   ]
  },
  {
   "cell_type": "code",
   "execution_count": 164,
   "metadata": {},
   "outputs": [],
   "source": [
    "import pandas as pd\n",
    "df7=pd.read_csv('EMB_impute.csv')\n",
    "df7_vali=pd.read_csv('EMB_impute_Vali.csv')\n",
    "df7_test=pd.read_csv('EMB_impute_Test.csv')\n",
    "\n"
   ]
  },
  {
   "cell_type": "markdown",
   "metadata": {},
   "source": [
    "# MLP--EMB"
   ]
  },
  {
   "cell_type": "code",
   "execution_count": 165,
   "metadata": {},
   "outputs": [],
   "source": [
    "df7_up= upsample(df7)\n",
    "df7_vali_up=upsample(df7_vali)\n",
    "df7_up=Cate_to_object_excp_inq(df7_up)\n",
    "df7_vali=Cate_to_object_excp_inq(df7_vali)"
   ]
  },
  {
   "cell_type": "code",
   "execution_count": 166,
   "metadata": {},
   "outputs": [],
   "source": [
    "clf7,x7,y7=para_tune(df7_up,df7_vali_up)"
   ]
  },
  {
   "cell_type": "code",
   "execution_count": 359,
   "metadata": {},
   "outputs": [
    {
     "data": {
      "text/plain": [
       "{'activation': 'relu',\n",
       " 'alpha': 0.05,\n",
       " 'hidden_layer_sizes': (50, 100, 50),\n",
       " 'learning_rate': 'constant',\n",
       " 'solver': 'adam'}"
      ]
     },
     "execution_count": 359,
     "metadata": {},
     "output_type": "execute_result"
    }
   ],
   "source": [
    "clf7.best_params_"
   ]
  },
  {
   "cell_type": "code",
   "execution_count": 168,
   "metadata": {},
   "outputs": [
    {
     "data": {
      "text/plain": [
       "0.9336"
      ]
     },
     "execution_count": 168,
     "metadata": {},
     "output_type": "execute_result"
    }
   ],
   "source": [
    "df7_test1=Cate_to_object_excp_inq(df7_test)\n",
    "df7_test1=pd.get_dummies(df7_test1)\n",
    "clf7.score(df7_test1.drop('Default_ind',axis=1),df7_test1['Default_ind'])"
   ]
  },
  {
   "cell_type": "code",
   "execution_count": 360,
   "metadata": {},
   "outputs": [
    {
     "data": {
      "text/plain": [
       "0.9314"
      ]
     },
     "execution_count": 360,
     "metadata": {},
     "output_type": "execute_result"
    }
   ],
   "source": [
    "from sklearn.neural_network import MLPClassifier\n",
    "mlp6 = MLPClassifier(activation='relu',alpha=0.05,hidden_layer_sizes=(50,100,50),learning_rate='constant',\n",
    "                        solver='adam',max_iter=1000)\n",
    "mlp6.fit(x7,y7)\n",
    "mlp6.score(df7_test1.drop('Default_ind',axis=1),df7_test1['Default_ind'])"
   ]
  },
  {
   "cell_type": "code",
   "execution_count": 361,
   "metadata": {},
   "outputs": [
    {
     "data": {
      "text/plain": [
       "array([[4557,   42],\n",
       "       [ 301,  100]])"
      ]
     },
     "execution_count": 361,
     "metadata": {},
     "output_type": "execute_result"
    }
   ],
   "source": [
    "y_pred7=mlp6.predict(df7_test1.drop('Default_ind',axis=1))\n",
    "from sklearn.metrics import confusion_matrix\n",
    "confusion_matrix(df7_test1['Default_ind'],y_pred7)"
   ]
  },
  {
   "cell_type": "markdown",
   "metadata": {},
   "source": [
    "# Read data-- unconditional mean"
   ]
  },
  {
   "cell_type": "code",
   "execution_count": 391,
   "metadata": {},
   "outputs": [],
   "source": [
    "import pandas as pd\n",
    "dfn=pd.read_csv('Unconditional_mean_impute_Test.csv')\n",
    "dfn_vali=pd.read_csv('Unconditional_mean_impute_Validation.csv')\n",
    "dfn_test=pd.read_csv('Unconditional_mean_impute_Test.csv')\n",
    "\n"
   ]
  },
  {
   "cell_type": "code",
   "execution_count": 392,
   "metadata": {},
   "outputs": [],
   "source": [
    "dfn_up= upsample(dfn)\n",
    "dfn_vali_up=upsample(dfn_vali)\n",
    "dfn_up=Cate_to_object_excp_inq(dfn_up)\n",
    "dfn_vali=Cate_to_object_excp_inq(dfn_vali)"
   ]
  },
  {
   "cell_type": "code",
   "execution_count": 393,
   "metadata": {},
   "outputs": [],
   "source": [
    "clfn,xn,yn=para_tune(dfn_up,dfn_vali_up)"
   ]
  },
  {
   "cell_type": "code",
   "execution_count": 394,
   "metadata": {},
   "outputs": [
    {
     "data": {
      "text/plain": [
       "{'activation': 'relu',\n",
       " 'alpha': 0.0001,\n",
       " 'hidden_layer_sizes': (100,),\n",
       " 'learning_rate': 'adaptive',\n",
       " 'solver': 'adam'}"
      ]
     },
     "execution_count": 394,
     "metadata": {},
     "output_type": "execute_result"
    }
   ],
   "source": [
    "clfn.best_params_"
   ]
  },
  {
   "cell_type": "code",
   "execution_count": 395,
   "metadata": {},
   "outputs": [
    {
     "data": {
      "text/plain": [
       "0.9296"
      ]
     },
     "execution_count": 395,
     "metadata": {},
     "output_type": "execute_result"
    }
   ],
   "source": [
    "dfn_test1=Cate_to_object_excp_inq(dfn_test)\n",
    "dfn_test1=pd.get_dummies(dfn_test1)\n",
    "clfn.score(dfn_test1.drop('Default_ind',axis=1),dfn_test1['Default_ind'])"
   ]
  },
  {
   "cell_type": "code",
   "execution_count": 396,
   "metadata": {},
   "outputs": [
    {
     "data": {
      "text/plain": [
       "0.8482"
      ]
     },
     "execution_count": 396,
     "metadata": {},
     "output_type": "execute_result"
    }
   ],
   "source": [
    "from sklearn.neural_network import MLPClassifier\n",
    "mlpn = MLPClassifier(activation='relu',alpha=0.0001,hidden_layer_sizes=(100,),learning_rate='adaptive',\n",
    "                        solver='adam',max_iter=1000)\n",
    "mlpn.fit(xn,yn)\n",
    "mlpn.score(dfn_test1.drop('Default_ind',axis=1),dfn_test1['Default_ind'])"
   ]
  },
  {
   "cell_type": "code",
   "execution_count": 397,
   "metadata": {},
   "outputs": [
    {
     "data": {
      "text/plain": [
       "array([[4027,  572],\n",
       "       [ 187,  214]])"
      ]
     },
     "execution_count": 397,
     "metadata": {},
     "output_type": "execute_result"
    }
   ],
   "source": [
    "y_predn=mlpn.predict(dfn_test1.drop('Default_ind',axis=1))\n",
    "from sklearn.metrics import confusion_matrix\n",
    "confusion_matrix(dfn_test1['Default_ind'],y_predn)"
   ]
  },
  {
   "cell_type": "code",
   "execution_count": 422,
   "metadata": {},
   "outputs": [],
   "source": [
    "from sklearn.preprocessing import label_binarize\n",
    "from sklearn.metrics import roc_curve"
   ]
  },
  {
   "cell_type": "code",
   "execution_count": 448,
   "metadata": {},
   "outputs": [],
   "source": [
    "fpr, tpr, threshold = roc_curve(dfn_test1['Default_ind'], mlpn.predict(dfn_test1.drop('Default_ind',axis=1)))\n",
    "roc_auc = auc(fpr, tpr)"
   ]
  },
  {
   "cell_type": "code",
   "execution_count": 449,
   "metadata": {},
   "outputs": [],
   "source": [
    "from sklearn.metrics import roc_curve, auc\n",
    "fpr2, tpr2, threshold = roc_curve(dfn_test1['Default_ind'], mlpn.predict_proba(dfn_test1.drop('Default_ind',axis=1))[:,1])\n",
    "roc_auc2 = auc(fpr2, tpr2)"
   ]
  },
  {
   "cell_type": "code",
   "execution_count": 451,
   "metadata": {},
   "outputs": [
    {
     "data": {
      "image/png": "[encoded data removed]",
      "text/plain": [
       "<Figure size 432x288 with 1 Axes>"
      ]
     },
     "metadata": {
      "needs_background": "light"
     },
     "output_type": "display_data"
    }
   ],
   "source": [
    "import matplotlib.pyplot as plt\n",
    "plt.figure()\n",
    "plt.title('Receiver Operating Characteristic')\n",
    "plt.plot(fpr, tpr, label = 'class 0 AUC = %0.2f' % roc_auc)\n",
    "plt.plot(fpr2, tpr2, label = 'class 1 AUC = %0.2f' % roc_auc2)\n",
    "plt.legend(loc = 'lower right')\n",
    "plt.plot([0, 1], [0, 1],'r--')\n",
    "plt.xlim([0, 1])\n",
    "plt.ylim([0, 1])\n",
    "plt.ylabel('True Positive Rate')\n",
    "plt.xlabel('False Positive Rate')\n",
    "plt.show()"
   ]
  },
  {
   "cell_type": "markdown",
   "metadata": {},
   "source": [
    "# simple Gboost --KNN"
   ]
  },
  {
   "cell_type": "code",
   "execution_count": 33,
   "metadata": {},
   "outputs": [],
   "source": [
    "def boost(datatrain,datavali, nestimator=100, learningrate=1.0, maxdepth=1, randomstate=0):\n",
    "    '''\n",
    "    if not specified, the parameters are nestimator=100, criterion=\"gini\", max_depth=8, min_samples_split=400, \n",
    "    min_samples_leaf=50, bootstrap=True, oob_score=False, warm_start=False, max_samples=3000, random_state=0\n",
    "    '''\n",
    "    import numpy as np\n",
    "    from xgboost.sklearn import XGBClassifier\n",
    "    datatraindummy=pd.get_dummies(datatrain)\n",
    "    datatrainX=np.array(datatraindummy.drop('Default_ind', axis=1))\n",
    "    datatrainy=datatraindummy['Default_ind']\n",
    "    \n",
    "    XGB=XGBClassifier(n_estimators=nestimator, learning_rate=learningrate, max_depth=maxdepth, random_state=randomstate)\n",
    "    \n",
    "    '''RFclass = RandomForestClassifier(n_estimators=nestimator, criterion=criter,\n",
    "                                     max_depth=mdepth, min_samples_split=misamples_split, \n",
    "                                     min_samples_leaf=misamples_leaf, bootstrap=bootstra,\n",
    "                                     oob_score=oobscore, warm_start=warmstart,\n",
    "                                     max_samples=maxsamples, random_state=randomstate)\n",
    "    ''' \n",
    "    modelRF=XGB.fit(datatrainX,datatrainy)\n",
    "    \n",
    "    return(modelRF,datatrainX,datatrainy)"
   ]
  },
  {
   "cell_type": "code",
   "execution_count": 34,
   "metadata": {},
   "outputs": [],
   "source": [
    "clf6,x6,y6=boost(df1_up,df1_vali_up)"
   ]
  },
  {
   "cell_type": "code",
   "execution_count": 250,
   "metadata": {},
   "outputs": [
    {
     "data": {
      "text/plain": [
       "GridSearchCV(cv=PredefinedSplit(test_fold=array([-1, -1, ...,  0,  0])),\n",
       "             estimator=MLPClassifier(max_iter=1000), n_jobs=-1,\n",
       "             param_grid={'activation': ['tanh', 'relu'],\n",
       "                         'alpha': [0.0001, 0.05],\n",
       "                         'hidden_layer_sizes': [(50, 50, 50), (50, 100, 50),\n",
       "                                                (100,)],\n",
       "                         'learning_rate': ['constant', 'adaptive'],\n",
       "                         'solver': ['lbfgs', 'adam']},\n",
       "             scoring='accuracy')"
      ]
     },
     "execution_count": 250,
     "metadata": {},
     "output_type": "execute_result"
    }
   ],
   "source": [
    "clf6.fit(x6,y6)"
   ]
  },
  {
   "cell_type": "code",
   "execution_count": 252,
   "metadata": {},
   "outputs": [
    {
     "data": {
      "text/plain": [
       "0.6856781278822848"
      ]
     },
     "execution_count": 252,
     "metadata": {},
     "output_type": "execute_result"
    }
   ],
   "source": [
    "clf6.scores(x6,y6)"
   ]
  },
  {
   "cell_type": "code",
   "execution_count": 268,
   "metadata": {},
   "outputs": [
    {
     "data": {
      "text/plain": [
       "0.7738"
      ]
     },
     "execution_count": 268,
     "metadata": {},
     "output_type": "execute_result"
    }
   ],
   "source": [
    "df6_test1=Cate_to_object_excp_inq(df1_test)\n",
    "df6_test1=pd.get_dummies(df6_test1)\n",
    "clf6.score(df6_test1.drop('Default_ind',axis=1),df6_test1['Default_ind'])"
   ]
  },
  {
   "cell_type": "code",
   "execution_count": 269,
   "metadata": {},
   "outputs": [
    {
     "data": {
      "text/plain": [
       "array([[3629,  970],\n",
       "       [ 161,  240]])"
      ]
     },
     "execution_count": 269,
     "metadata": {},
     "output_type": "execute_result"
    }
   ],
   "source": [
    "y_pred6=clf6.predict(df6_test1.drop('Default_ind',axis=1))\n",
    "from sklearn.metrics import confusion_matrix\n",
    "confusion_matrix(df6_test1['Default_ind'],y_pred6)"
   ]
  },
  {
   "cell_type": "code",
   "execution_count": 62,
   "metadata": {},
   "outputs": [],
   "source": [
    "def best_xgboost(datatrain, datavali, criteria='accuracy', randomstate=0):\n",
    "    '''\n",
    "    if not specified, the parameters are n_estimators=100, criterion=\"gini\", max_depth=8, min_samples_split=400, \n",
    "    min_samples_leaf=50, bootstrap=True, oob_score=False, warm_start=False, max_samples=3000, random_state=0\n",
    "    '''\n",
    "    from sklearn.model_selection import PredefinedSplit\n",
    "    import numpy as np\n",
    "    from xgboost.sklearn import XGBClassifier\n",
    "    frames=pd.concat([datatrain, datavali])\n",
    "    frames_reind=frames.set_index([pd.Index(range(len(frames)))])\n",
    "    split_index=[-1]*len(datatrain)+[0]*len(datavali)\n",
    "    pds = PredefinedSplit(test_fold = split_index)\n",
    "    datadummy=pd.get_dummies(frames_reind)\n",
    "    datatrainX=np.array(datadummy.drop('Default_ind', axis=1))\n",
    "    datatrainy=datadummy['Default_ind']\n",
    "    \n",
    "    XGB=XGBClassifier()\n",
    "    from sklearn.model_selection import GridSearchCV\n",
    "    parameter_space = {\n",
    "        'loss':['deviance', 'exponential'],\n",
    "        'n_estimators': [100,300],\n",
    "        'subsample': [0.5, 1],\n",
    "        'criterion':['friedman_mse', 'mse'], \n",
    "        'max_depth':range(3,10,2),\n",
    "    }\n",
    "    modelGS=GridSearchCV(XGB, parameter_space,cv=pds,scoring=criteria)\n",
    "    modelGS.fit(datatrainX, datatrainy)\n",
    "    return modelGS,datatrainX,datatrainy"
   ]
  },
  {
   "cell_type": "code",
   "execution_count": 64,
   "metadata": {},
   "outputs": [],
   "source": [
    "def best_xgboost(datatrain, datavali, criteria='accuracy', randomstate=0):\n",
    "    '''\n",
    "    if not specified, the parameters are n_estimators=100, criterion=\"gini\", max_depth=8, min_samples_split=400, \n",
    "    min_samples_leaf=50, bootstrap=True, oob_score=False, warm_start=False, max_samples=3000, random_state=0\n",
    "    '''\n",
    "    from sklearn.model_selection import PredefinedSplit\n",
    "    import numpy as np\n",
    "    from sklearn.ensemble import GradientBoostingClassifier\n",
    "    frames=pd.concat([datatrain, datavali])\n",
    "    frames_reind=frames.set_index([pd.Index(range(len(frames)))])\n",
    "    split_index=[-1]*len(datatrain)+[0]*len(datavali)\n",
    "    pds = PredefinedSplit(test_fold = split_index)\n",
    "    datadummy=pd.get_dummies(frames_reind)\n",
    "    datatrainX=np.array(datadummy.drop('Default_ind', axis=1))\n",
    "    datatrainy=datadummy['Default_ind']\n",
    "    \n",
    "    XGB=GradientBoostingClassifier()\n",
    "    from sklearn.model_selection import GridSearchCV\n",
    "    parameter_space = {\n",
    "        'loss':['deviance', 'exponential'],\n",
    "    }\n",
    "    modelGS=GridSearchCV(XGB, parameter_space,cv=pds,scoring=criteria)\n",
    "    modelGS.fit(datatrainX, datatrainy)\n",
    "    return modelGS,datatrainX,datatrainy"
   ]
  },
  {
   "cell_type": "code",
   "execution_count": 65,
   "metadata": {},
   "outputs": [],
   "source": [
    "clf7,x7,y7=best_xgboost(df1_up,df1_vali_up)"
   ]
  },
  {
   "cell_type": "code",
   "execution_count": 76,
   "metadata": {},
   "outputs": [],
   "source": [
    "def best_xgboost(datatrain, datavali, criteria='accuracy', randomstate=0):\n",
    "    '''\n",
    "    if not specified, the parameters are n_estimators=100, criterion=\"gini\", max_depth=8, min_samples_split=400, \n",
    "    min_samples_leaf=50, bootstrap=True, oob_score=False, warm_start=False, max_samples=3000, random_state=0\n",
    "    '''\n",
    "    from sklearn.model_selection import PredefinedSplit\n",
    "    import numpy as np\n",
    "    from sklearn.ensemble import GradientBoostingClassifier\n",
    "    frames=pd.concat([datatrain, datavali])\n",
    "    frames_reind=frames.set_index([pd.Index(range(len(frames)))])\n",
    "    split_index=[-1]*len(datatrain)+[0]*len(datavali)\n",
    "    pds = PredefinedSplit(test_fold = split_index)\n",
    "    datadummy=pd.get_dummies(frames_reind)\n",
    "    datatrainX=np.array(datadummy.drop('Default_ind', axis=1))\n",
    "    datatrainy=datadummy['Default_ind']\n",
    "    \n",
    "    XGB=GradientBoostingClassifier(loss='exponential')\n",
    "    from sklearn.model_selection import GridSearchCV\n",
    "    parameter_space = {\n",
    "        'n_estimators': [100,300]\n",
    "        \n",
    "    }\n",
    "    modelGS=GridSearchCV(XGB,parameter_space,cv=pds,scoring=criteria)\n",
    "    modelGS.fit(datatrainX, datatrainy)\n",
    "    return modelGS,datatrainX,datatrainy\n"
   ]
  },
  {
   "cell_type": "code",
   "execution_count": 77,
   "metadata": {},
   "outputs": [],
   "source": [
    "clf7,x7,y7=best_xgboost(df1_up,df1_vali_up)"
   ]
  },
  {
   "cell_type": "code",
   "execution_count": 79,
   "metadata": {},
   "outputs": [
    {
     "data": {
      "text/plain": [
       "{'n_estimators': 100}"
      ]
     },
     "execution_count": 79,
     "metadata": {},
     "output_type": "execute_result"
    }
   ],
   "source": [
    "clf7.best_params_"
   ]
  },
  {
   "cell_type": "code",
   "execution_count": 80,
   "metadata": {},
   "outputs": [],
   "source": [
    "def best_xgboost(datatrain, datavali, criteria='accuracy', randomstate=0):\n",
    "    '''\n",
    "    if not specified, the parameters are n_estimators=100, criterion=\"gini\", max_depth=8, min_samples_split=400, \n",
    "    min_samples_leaf=50, bootstrap=True, oob_score=False, warm_start=False, max_samples=3000, random_state=0\n",
    "    '''\n",
    "    from sklearn.model_selection import PredefinedSplit\n",
    "    import numpy as np\n",
    "    from sklearn.ensemble import GradientBoostingClassifier\n",
    "    frames=pd.concat([datatrain, datavali])\n",
    "    frames_reind=frames.set_index([pd.Index(range(len(frames)))])\n",
    "    split_index=[-1]*len(datatrain)+[0]*len(datavali)\n",
    "    pds = PredefinedSplit(test_fold = split_index)\n",
    "    datadummy=pd.get_dummies(frames_reind)\n",
    "    datatrainX=np.array(datadummy.drop('Default_ind', axis=1))\n",
    "    datatrainy=datadummy['Default_ind']\n",
    "    \n",
    "    XGB=GradientBoostingClassifier(loss='exponential')\n",
    "    from sklearn.model_selection import GridSearchCV\n",
    "    parameter_space = {\n",
    "        'n_estimators': range(50,100,10),\n",
    "    }\n",
    "    modelGS=GridSearchCV(XGB, parameter_space,cv=pds,scoring=criteria)\n",
    "    modelGS.fit(datatrainX, datatrainy)\n",
    "    return modelGS,datatrainX,datatrainy"
   ]
  },
  {
   "cell_type": "code",
   "execution_count": 81,
   "metadata": {},
   "outputs": [],
   "source": [
    "clf7,x7,y7=best_xgboost(df1_up,df1_vali_up)"
   ]
  },
  {
   "cell_type": "code",
   "execution_count": 82,
   "metadata": {},
   "outputs": [
    {
     "data": {
      "text/plain": [
       "{'n_estimators': 90}"
      ]
     },
     "execution_count": 82,
     "metadata": {},
     "output_type": "execute_result"
    }
   ],
   "source": [
    "clf7.best_params_"
   ]
  },
  {
   "cell_type": "code",
   "execution_count": 91,
   "metadata": {},
   "outputs": [],
   "source": [
    "def best_xgboost(datatrain, datavali, criteria='accuracy', randomstate=0):\n",
    "    '''\n",
    "    if not specified, the parameters are n_estimators=100, criterion=\"gini\", max_depth=8, min_samples_split=400, \n",
    "    min_samples_leaf=50, bootstrap=True, oob_score=False, warm_start=False, max_samples=3000, random_state=0\n",
    "    '''\n",
    "    from sklearn.model_selection import PredefinedSplit\n",
    "    import numpy as np\n",
    "    from sklearn.ensemble import GradientBoostingClassifier\n",
    "    frames=pd.concat([datatrain, datavali])\n",
    "    frames_reind=frames.set_index([pd.Index(range(len(frames)))])\n",
    "    split_index=[-1]*len(datatrain)+[0]*len(datavali)\n",
    "    pds = PredefinedSplit(test_fold = split_index)\n",
    "    datadummy=pd.get_dummies(frames_reind)\n",
    "    datatrainX=np.array(datadummy.drop('Default_ind', axis=1))\n",
    "    datatrainy=datadummy['Default_ind']\n",
    "    \n",
    "    XGB=GradientBoostingClassifier(loss='exponential',n_estimators=90)\n",
    "    from sklearn.model_selection import GridSearchCV\n",
    "    parameter_space = {\n",
    "        'subsample':[0.5,1]\n",
    "    }\n",
    "    modelGS=GridSearchCV(XGB, parameter_space,cv=pds,scoring=criteria)\n",
    "    modelGS.fit(datatrainX, datatrainy)\n",
    "    return modelGS,datatrainX,datatrainy"
   ]
  },
  {
   "cell_type": "code",
   "execution_count": 92,
   "metadata": {},
   "outputs": [],
   "source": [
    "clf7,x7,y7=best_xgboost(df1_up,df1_vali_up)"
   ]
  },
  {
   "cell_type": "code",
   "execution_count": 94,
   "metadata": {},
   "outputs": [
    {
     "data": {
      "text/plain": [
       "{'subsample': 1}"
      ]
     },
     "execution_count": 94,
     "metadata": {},
     "output_type": "execute_result"
    }
   ],
   "source": [
    "clf7.best_params_"
   ]
  },
  {
   "cell_type": "code",
   "execution_count": 97,
   "metadata": {},
   "outputs": [],
   "source": [
    "def best_xgboost(datatrain, datavali, criteria='accuracy', randomstate=0):\n",
    "    '''\n",
    "    if not specified, the parameters are n_estimators=100, criterion=\"gini\", max_depth=8, min_samples_split=400, \n",
    "    min_samples_leaf=50, bootstrap=True, oob_score=False, warm_start=False, max_samples=3000, random_state=0\n",
    "    '''\n",
    "    from sklearn.model_selection import PredefinedSplit\n",
    "    import numpy as np\n",
    "    from sklearn.ensemble import GradientBoostingClassifier\n",
    "    frames=pd.concat([datatrain, datavali])\n",
    "    frames_reind=frames.set_index([pd.Index(range(len(frames)))])\n",
    "    split_index=[-1]*len(datatrain)+[0]*len(datavali)\n",
    "    pds = PredefinedSplit(test_fold = split_index)\n",
    "    datadummy=pd.get_dummies(frames_reind)\n",
    "    datatrainX=np.array(datadummy.drop('Default_ind', axis=1))\n",
    "    datatrainy=datadummy['Default_ind']\n",
    "    \n",
    "    XGB=GradientBoostingClassifier(loss='exponential',n_estimators=90,subsample=1)\n",
    "    from sklearn.model_selection import GridSearchCV\n",
    "    parameter_space = {\n",
    "        'criterion':['friedman_mse', 'mse']\n",
    "    }\n",
    "    modelGS=GridSearchCV(XGB, parameter_space,cv=pds,scoring=criteria)\n",
    "    modelGS.fit(datatrainX, datatrainy)\n",
    "    return modelGS,datatrainX,datatrainy"
   ]
  },
  {
   "cell_type": "code",
   "execution_count": 98,
   "metadata": {},
   "outputs": [],
   "source": [
    "clf7,x7,y7=best_xgboost(df1_up,df1_vali_up)"
   ]
  },
  {
   "cell_type": "code",
   "execution_count": 99,
   "metadata": {},
   "outputs": [
    {
     "data": {
      "text/plain": [
       "{'criterion': 'friedman_mse'}"
      ]
     },
     "execution_count": 99,
     "metadata": {},
     "output_type": "execute_result"
    }
   ],
   "source": [
    "clf7.best_params_"
   ]
  },
  {
   "cell_type": "code",
   "execution_count": 103,
   "metadata": {},
   "outputs": [],
   "source": [
    "def best_xgboost(datatrain, datavali, criteria='accuracy', randomstate=0):\n",
    "    '''\n",
    "    if not specified, the parameters are n_estimators=100, criterion=\"gini\", max_depth=8, min_samples_split=400, \n",
    "    min_samples_leaf=50, bootstrap=True, oob_score=False, warm_start=False, max_samples=3000, random_state=0\n",
    "    '''\n",
    "    from sklearn.model_selection import PredefinedSplit\n",
    "    import numpy as np\n",
    "    from sklearn.ensemble import GradientBoostingClassifier\n",
    "    frames=pd.concat([datatrain, datavali])\n",
    "    frames_reind=frames.set_index([pd.Index(range(len(frames)))])\n",
    "    split_index=[-1]*len(datatrain)+[0]*len(datavali)\n",
    "    pds = PredefinedSplit(test_fold = split_index)\n",
    "    datadummy=pd.get_dummies(frames_reind)\n",
    "    datatrainX=np.array(datadummy.drop('Default_ind', axis=1))\n",
    "    datatrainy=datadummy['Default_ind']\n",
    "    \n",
    "    XGB=GradientBoostingClassifier(loss='exponential',n_estimators=90,subsample=1,criterion='friedman_mse')\n",
    "    from sklearn.model_selection import GridSearchCV\n",
    "    parameter_space = {'max_depth':range(1,7,2)\n",
    "        \n",
    "    }\n",
    "    modelGS=GridSearchCV(XGB, parameter_space,cv=pds,scoring=criteria)\n",
    "    modelGS.fit(datatrainX, datatrainy)\n",
    "    return modelGS,datatrainX,datatrainy"
   ]
  },
  {
   "cell_type": "code",
   "execution_count": 104,
   "metadata": {},
   "outputs": [],
   "source": [
    "clf7,x7,y7=best_xgboost(df1_up,df1_vali_up)"
   ]
  },
  {
   "cell_type": "code",
   "execution_count": 105,
   "metadata": {},
   "outputs": [
    {
     "data": {
      "text/plain": [
       "{'max_depth': 3}"
      ]
     },
     "execution_count": 105,
     "metadata": {},
     "output_type": "execute_result"
    }
   ],
   "source": [
    "clf7.best_params_"
   ]
  },
  {
   "cell_type": "code",
   "execution_count": 106,
   "metadata": {},
   "outputs": [],
   "source": [
    "def best_xgboost(datatrain, datavali, criteria='accuracy', randomstate=0):\n",
    "    '''\n",
    "    if not specified, the parameters are n_estimators=100, criterion=\"gini\", max_depth=8, min_samples_split=400, \n",
    "    min_samples_leaf=50, bootstrap=True, oob_score=False, warm_start=False, max_samples=3000, random_state=0\n",
    "    '''\n",
    "    from sklearn.model_selection import PredefinedSplit\n",
    "    import numpy as np\n",
    "    from sklearn.ensemble import GradientBoostingClassifier\n",
    "    frames=pd.concat([datatrain, datavali])\n",
    "    frames_reind=frames.set_index([pd.Index(range(len(frames)))])\n",
    "    split_index=[-1]*len(datatrain)+[0]*len(datavali)\n",
    "    pds = PredefinedSplit(test_fold = split_index)\n",
    "    datadummy=pd.get_dummies(frames_reind)\n",
    "    datatrainX=np.array(datadummy.drop('Default_ind', axis=1))\n",
    "    datatrainy=datadummy['Default_ind']\n",
    "    \n",
    "    XGB=GradientBoostingClassifier(loss='exponential',subsample=1,criterion='friedman_mse')\n",
    "    from sklearn.model_selection import GridSearchCV\n",
    "    parameter_space = {'max_depth':range(1,7,2),\n",
    "                        'n_estimators':range(80,100,5)\n",
    "    }\n",
    "    modelGS=GridSearchCV(XGB, parameter_space,cv=pds,scoring=criteria)\n",
    "    modelGS.fit(datatrainX, datatrainy)\n",
    "    return modelGS,datatrainX,datatrainy"
   ]
  },
  {
   "cell_type": "code",
   "execution_count": 107,
   "metadata": {},
   "outputs": [],
   "source": [
    "clf7,x7,y7=best_xgboost(df1_up,df1_vali_up)"
   ]
  },
  {
   "cell_type": "code",
   "execution_count": 365,
   "metadata": {},
   "outputs": [
    {
     "data": {
      "text/plain": [
       "0.7994"
      ]
     },
     "execution_count": 365,
     "metadata": {},
     "output_type": "execute_result"
    }
   ],
   "source": [
    "from sklearn.ensemble import GradientBoostingClassifier\n",
    "xg1 = GradientBoostingClassifier(loss='exponential',subsample=1,criterion='friedman_mse',max_depth=3,n_estimators=90)\n",
    "xg1.fit(x7,y7)\n",
    "xg1.score(df7_test1.drop('Default_ind',axis=1),df7_test1['Default_ind'])"
   ]
  },
  {
   "cell_type": "code",
   "execution_count": 108,
   "metadata": {},
   "outputs": [
    {
     "data": {
      "text/plain": [
       "{'max_depth': 3, 'n_estimators': 90}"
      ]
     },
     "execution_count": 108,
     "metadata": {},
     "output_type": "execute_result"
    }
   ],
   "source": [
    "clf7.best_params_"
   ]
  },
  {
   "cell_type": "code",
   "execution_count": 266,
   "metadata": {},
   "outputs": [
    {
     "data": {
      "text/plain": [
       "0.8978"
      ]
     },
     "execution_count": 266,
     "metadata": {},
     "output_type": "execute_result"
    }
   ],
   "source": [
    "df7_test1=Cate_to_object_excp_inq(df1_test)\n",
    "df7_test1=pd.get_dummies(df7_test1)"
   ]
  },
  {
   "cell_type": "code",
   "execution_count": 366,
   "metadata": {},
   "outputs": [
    {
     "data": {
      "text/plain": [
       "array([[3675,  924],\n",
       "       [  79,  322]])"
      ]
     },
     "execution_count": 366,
     "metadata": {},
     "output_type": "execute_result"
    }
   ],
   "source": [
    "y_pred7=xg1.predict(df7_test1.drop('Default_ind',axis=1))\n",
    "from sklearn.metrics import confusion_matrix\n",
    "confusion_matrix(df7_test1['Default_ind'],y_pred7)"
   ]
  },
  {
   "cell_type": "markdown",
   "metadata": {},
   "source": [
    "# simple Gboost --drop"
   ]
  },
  {
   "cell_type": "code",
   "execution_count": 182,
   "metadata": {},
   "outputs": [],
   "source": [
    "def best_xgboost(datatrain, datavali, criteria='accuracy', randomstate=0):\n",
    "    '''\n",
    "    if not specified, the parameters are n_estimators=100, criterion=\"gini\", max_depth=8, min_samples_split=400, \n",
    "    min_samples_leaf=50, bootstrap=True, oob_score=False, warm_start=False, max_samples=3000, random_state=0\n",
    "    '''\n",
    "    from sklearn.model_selection import PredefinedSplit\n",
    "    import numpy as np\n",
    "    from sklearn.ensemble import GradientBoostingClassifier\n",
    "    frames=pd.concat([datatrain, datavali])\n",
    "    frames_reind=frames.set_index([pd.Index(range(len(frames)))])\n",
    "    split_index=[-1]*len(datatrain)+[0]*len(datavali)\n",
    "    pds = PredefinedSplit(test_fold = split_index)\n",
    "    datadummy=pd.get_dummies(frames_reind)\n",
    "    datatrainX=np.array(datadummy.drop('Default_ind', axis=1))\n",
    "    datatrainy=datadummy['Default_ind']\n",
    "    \n",
    "    XGB=GradientBoostingClassifier(loss='exponential',subsample=1,criterion='friedman_mse')\n",
    "    from sklearn.model_selection import GridSearchCV\n",
    "    parameter_space = {'max_depth':range(1,7,2),\n",
    "                        'n_estimators':range(80,100,5)\n",
    "    }\n",
    "    modelGS=GridSearchCV(XGB, parameter_space,cv=pds,scoring=criteria)\n",
    "    modelGS.fit(datatrainX, datatrainy)\n",
    "    return modelGS,datatrainX,datatrainy"
   ]
  },
  {
   "cell_type": "code",
   "execution_count": 183,
   "metadata": {},
   "outputs": [],
   "source": [
    "clf8,x8,y8=best_xgboost(df3_up,df3_vali_up)"
   ]
  },
  {
   "cell_type": "code",
   "execution_count": 367,
   "metadata": {},
   "outputs": [
    {
     "data": {
      "text/plain": [
       "{'max_depth': 5, 'n_estimators': 95}"
      ]
     },
     "execution_count": 367,
     "metadata": {},
     "output_type": "execute_result"
    }
   ],
   "source": [
    "clf8.best_params_"
   ]
  },
  {
   "cell_type": "code",
   "execution_count": 369,
   "metadata": {},
   "outputs": [
    {
     "data": {
      "text/plain": [
       "0.8313659359190556"
      ]
     },
     "execution_count": 369,
     "metadata": {},
     "output_type": "execute_result"
    }
   ],
   "source": [
    "from sklearn.ensemble import GradientBoostingClassifier\n",
    "xg2 = GradientBoostingClassifier(loss='exponential',subsample=1,criterion='friedman_mse',max_depth=5,n_estimators=95)\n",
    "xg2.fit(x8,y8)\n",
    "xg2.score(df3_test1.drop('Default_ind',axis=1),df3_test1['Default_ind'])"
   ]
  },
  {
   "cell_type": "code",
   "execution_count": 370,
   "metadata": {},
   "outputs": [
    {
     "data": {
      "text/plain": [
       "array([[3205,  605],\n",
       "       [  95,  246]])"
      ]
     },
     "execution_count": 370,
     "metadata": {},
     "output_type": "execute_result"
    }
   ],
   "source": [
    "y_pred8=xg2.predict(df3_test1.drop('Default_ind',axis=1))\n",
    "from sklearn.metrics import confusion_matrix\n",
    "confusion_matrix(df3_test1['Default_ind'],y_pred8)"
   ]
  },
  {
   "cell_type": "markdown",
   "metadata": {},
   "source": [
    "# simple GBoost -CART"
   ]
  },
  {
   "cell_type": "code",
   "execution_count": 188,
   "metadata": {},
   "outputs": [],
   "source": [
    "clf9,x9,y9=best_xgboost(df5_up,df5_vali_up)"
   ]
  },
  {
   "cell_type": "code",
   "execution_count": 271,
   "metadata": {},
   "outputs": [
    {
     "data": {
      "text/plain": [
       "{'max_depth': 3, 'n_estimators': 95}"
      ]
     },
     "execution_count": 271,
     "metadata": {},
     "output_type": "execute_result"
    }
   ],
   "source": [
    "clf9.best_params_"
   ]
  },
  {
   "cell_type": "code",
   "execution_count": 272,
   "metadata": {},
   "outputs": [],
   "source": [
    "from sklearn.ensemble import GradientBoostingClassifier\n",
    "clf9_up=GradientBoostingClassifier(max_depth=3,n_estimators=95)"
   ]
  },
  {
   "cell_type": "code",
   "execution_count": 273,
   "metadata": {},
   "outputs": [
    {
     "data": {
      "text/plain": [
       "GradientBoostingClassifier(n_estimators=95)"
      ]
     },
     "execution_count": 273,
     "metadata": {},
     "output_type": "execute_result"
    }
   ],
   "source": [
    "clf9_up.fit(x9,y9)"
   ]
  },
  {
   "cell_type": "code",
   "execution_count": 277,
   "metadata": {},
   "outputs": [
    {
     "data": {
      "text/plain": [
       "0.797"
      ]
     },
     "execution_count": 277,
     "metadata": {},
     "output_type": "execute_result"
    }
   ],
   "source": [
    "\n",
    "clf9_up.score(df5_test1.drop('Default_ind',axis=1),df5_test1['Default_ind'])"
   ]
  },
  {
   "cell_type": "code",
   "execution_count": 278,
   "metadata": {},
   "outputs": [
    {
     "data": {
      "text/plain": [
       "array([[3668,  931],\n",
       "       [  84,  317]])"
      ]
     },
     "execution_count": 278,
     "metadata": {},
     "output_type": "execute_result"
    }
   ],
   "source": [
    "y_pred9=clf9_up.predict(df5_test1.drop('Default_ind',axis=1))\n",
    "from sklearn.metrics import confusion_matrix\n",
    "confusion_matrix(df5_test1['Default_ind'],y_pred9)"
   ]
  },
  {
   "cell_type": "markdown",
   "metadata": {},
   "source": [
    "# simple GBoost -RF"
   ]
  },
  {
   "cell_type": "code",
   "execution_count": 192,
   "metadata": {},
   "outputs": [],
   "source": [
    "clf10,x10,y10=best_xgboost(df6_up,df6_vali_up)"
   ]
  },
  {
   "cell_type": "code",
   "execution_count": 279,
   "metadata": {},
   "outputs": [
    {
     "data": {
      "text/plain": [
       "{'max_depth': 3, 'n_estimators': 95}"
      ]
     },
     "execution_count": 279,
     "metadata": {},
     "output_type": "execute_result"
    }
   ],
   "source": [
    "clf10.best_params_"
   ]
  },
  {
   "cell_type": "code",
   "execution_count": 280,
   "metadata": {},
   "outputs": [],
   "source": [
    "from sklearn.ensemble import GradientBoostingClassifier\n",
    "clf10_up=GradientBoostingClassifier(max_depth=3,n_estimators=95)"
   ]
  },
  {
   "cell_type": "code",
   "execution_count": 282,
   "metadata": {},
   "outputs": [
    {
     "data": {
      "text/plain": [
       "GradientBoostingClassifier(n_estimators=95)"
      ]
     },
     "execution_count": 282,
     "metadata": {},
     "output_type": "execute_result"
    }
   ],
   "source": [
    "clf10_up.fit(x10,y10)"
   ]
  },
  {
   "cell_type": "code",
   "execution_count": 283,
   "metadata": {},
   "outputs": [
    {
     "data": {
      "text/plain": [
       "0.7976"
      ]
     },
     "execution_count": 283,
     "metadata": {},
     "output_type": "execute_result"
    }
   ],
   "source": [
    "clf10_up.score(df6_test1.drop('Default_ind',axis=1),df6_test1['Default_ind'])"
   ]
  },
  {
   "cell_type": "code",
   "execution_count": 284,
   "metadata": {},
   "outputs": [
    {
     "data": {
      "text/plain": [
       "array([[3666,  933],\n",
       "       [  79,  322]])"
      ]
     },
     "execution_count": 284,
     "metadata": {},
     "output_type": "execute_result"
    }
   ],
   "source": [
    "y_pred10=clf10_up.predict(df6_test1.drop('Default_ind',axis=1))\n",
    "from sklearn.metrics import confusion_matrix\n",
    "confusion_matrix(df6_test1['Default_ind'],y_pred10)"
   ]
  },
  {
   "cell_type": "markdown",
   "metadata": {},
   "source": [
    "# simple GBoost --EMB "
   ]
  },
  {
   "cell_type": "code",
   "execution_count": 196,
   "metadata": {},
   "outputs": [],
   "source": [
    "clf11,x11,y11=best_xgboost(df7_up,df7_vali_up)"
   ]
  },
  {
   "cell_type": "code",
   "execution_count": 245,
   "metadata": {},
   "outputs": [
    {
     "data": {
      "text/plain": [
       "array([[17116,  4076],\n",
       "       [ 4638, 20791]])"
      ]
     },
     "execution_count": 245,
     "metadata": {},
     "output_type": "execute_result"
    }
   ],
   "source": [
    "clf11.fit(x11, y11)\n",
    "confusion_matrix(y11,clf11.predict(x11))"
   ]
  },
  {
   "cell_type": "code",
   "execution_count": 371,
   "metadata": {},
   "outputs": [
    {
     "data": {
      "text/plain": [
       "{'max_depth': 3, 'n_estimators': 95}"
      ]
     },
     "execution_count": 371,
     "metadata": {},
     "output_type": "execute_result"
    }
   ],
   "source": [
    "clf11.best_params_"
   ]
  },
  {
   "cell_type": "code",
   "execution_count": 372,
   "metadata": {},
   "outputs": [
    {
     "data": {
      "text/plain": [
       "0.7994"
      ]
     },
     "execution_count": 372,
     "metadata": {},
     "output_type": "execute_result"
    }
   ],
   "source": [
    "from sklearn.ensemble import GradientBoostingClassifier\n",
    "xg4 = GradientBoostingClassifier(loss='exponential',subsample=1,criterion='friedman_mse',max_depth=3,n_estimators=90)\n",
    "xg4.fit(x11,y11)\n",
    "xg4.score(df7_test1.drop('Default_ind',axis=1),df7_test1['Default_ind'])"
   ]
  },
  {
   "cell_type": "code",
   "execution_count": 373,
   "metadata": {},
   "outputs": [
    {
     "data": {
      "text/plain": [
       "array([[3675,  924],\n",
       "       [  79,  322]])"
      ]
     },
     "execution_count": 373,
     "metadata": {},
     "output_type": "execute_result"
    }
   ],
   "source": [
    "y_pred11=xg4.predict(df7_test1.drop('Default_ind',axis=1))\n",
    "from sklearn.metrics import confusion_matrix\n",
    "confusion_matrix(df7_test1['Default_ind'],y_pred11)"
   ]
  },
  {
   "cell_type": "markdown",
   "metadata": {},
   "source": [
    "# simple GBoost -- Median"
   ]
  },
  {
   "cell_type": "code",
   "execution_count": 214,
   "metadata": {},
   "outputs": [],
   "source": [
    "clf12,x12,y12=best_xgboost(df2_up,df2_vali_up)"
   ]
  },
  {
   "cell_type": "code",
   "execution_count": 244,
   "metadata": {},
   "outputs": [
    {
     "data": {
      "text/plain": [
       "array([[17087,  4105],\n",
       "       [ 4654, 20775]])"
      ]
     },
     "execution_count": 244,
     "metadata": {},
     "output_type": "execute_result"
    }
   ],
   "source": [
    "clf11.fit(x11, y11)\n",
    "confusion_matrix(y12,clf12.predict(x12))"
   ]
  },
  {
   "cell_type": "code",
   "execution_count": 375,
   "metadata": {},
   "outputs": [
    {
     "data": {
      "text/plain": [
       "{'max_depth': 3, 'n_estimators': 80}"
      ]
     },
     "execution_count": 375,
     "metadata": {},
     "output_type": "execute_result"
    }
   ],
   "source": [
    "clf12.best_params_"
   ]
  },
  {
   "cell_type": "code",
   "execution_count": 376,
   "metadata": {},
   "outputs": [
    {
     "data": {
      "text/plain": [
       "0.8008"
      ]
     },
     "execution_count": 376,
     "metadata": {},
     "output_type": "execute_result"
    }
   ],
   "source": [
    "from sklearn.ensemble import GradientBoostingClassifier\n",
    "xg5 = GradientBoostingClassifier(loss='exponential',subsample=1,criterion='friedman_mse',max_depth=3,n_estimators=80)\n",
    "xg5.fit(x11,y11)\n",
    "xg5.score(df2_test1.drop('Default_ind',axis=1),df2_test1['Default_ind'])"
   ]
  },
  {
   "cell_type": "code",
   "execution_count": 377,
   "metadata": {},
   "outputs": [
    {
     "data": {
      "text/plain": [
       "array([[3681,  918],\n",
       "       [  78,  323]])"
      ]
     },
     "execution_count": 377,
     "metadata": {},
     "output_type": "execute_result"
    }
   ],
   "source": [
    "y_pred12=xg5.predict(df2_test1.drop('Default_ind',axis=1))\n",
    "from sklearn.metrics import confusion_matrix\n",
    "confusion_matrix(df2_test1['Default_ind'],y_pred12)"
   ]
  },
  {
   "cell_type": "markdown",
   "metadata": {},
   "source": [
    "# simple GBoost -- mean"
   ]
  },
  {
   "cell_type": "code",
   "execution_count": 236,
   "metadata": {},
   "outputs": [],
   "source": [
    "clf13,x13,y13=best_xgboost(dfn_up,dfn_vali_up)"
   ]
  },
  {
   "cell_type": "code",
   "execution_count": 285,
   "metadata": {},
   "outputs": [
    {
     "data": {
      "text/plain": [
       "{'max_depth': 1, 'n_estimators': 95}"
      ]
     },
     "execution_count": 285,
     "metadata": {},
     "output_type": "execute_result"
    }
   ],
   "source": [
    "clf13.best_params_\n"
   ]
  },
  {
   "cell_type": "code",
   "execution_count": 286,
   "metadata": {},
   "outputs": [],
   "source": [
    "from sklearn.ensemble import GradientBoostingClassifier\n",
    "clf13_up=GradientBoostingClassifier(max_depth=1,n_estimators=95)"
   ]
  },
  {
   "cell_type": "code",
   "execution_count": 287,
   "metadata": {},
   "outputs": [
    {
     "data": {
      "text/plain": [
       "GradientBoostingClassifier(max_depth=1, n_estimators=95)"
      ]
     },
     "execution_count": 287,
     "metadata": {},
     "output_type": "execute_result"
    }
   ],
   "source": [
    "clf13_up.fit(x13,y13)"
   ]
  },
  {
   "cell_type": "code",
   "execution_count": 288,
   "metadata": {},
   "outputs": [
    {
     "data": {
      "text/plain": [
       "0.8138"
      ]
     },
     "execution_count": 288,
     "metadata": {},
     "output_type": "execute_result"
    }
   ],
   "source": [
    "clf13_up.score(dfn_test1.drop('Default_ind',axis=1),dfn_test1['Default_ind'])"
   ]
  },
  {
   "cell_type": "code",
   "execution_count": 378,
   "metadata": {},
   "outputs": [
    {
     "data": {
      "text/plain": [
       "array([[3746,  853],\n",
       "       [  78,  323]])"
      ]
     },
     "execution_count": 378,
     "metadata": {},
     "output_type": "execute_result"
    }
   ],
   "source": [
    "y_pred13=clf13_up.predict(dfn_test1.drop('Default_ind',axis=1))\n",
    "from sklearn.metrics import confusion_matrix\n",
    "confusion_matrix(dfn_test1['Default_ind'],y_pred13)"
   ]
  },
  {
   "cell_type": "code",
   "execution_count": 402,
   "metadata": {},
   "outputs": [],
   "source": [
    "pd.DataFrame(clf3.predict_proba(dfn_test1.drop('Default_ind',axis=1))).to_csv('probility.csv')"
   ]
  },
  {
   "cell_type": "markdown",
   "metadata": {},
   "source": [
    "# simple GBoost -- EM"
   ]
  },
  {
   "cell_type": "code",
   "execution_count": 379,
   "metadata": {},
   "outputs": [],
   "source": [
    "clf14,x14,y14=best_xgboost(df4_up,df4_vali_up)"
   ]
  },
  {
   "cell_type": "code",
   "execution_count": 380,
   "metadata": {},
   "outputs": [
    {
     "data": {
      "text/plain": [
       "{'max_depth': 5, 'n_estimators': 95}"
      ]
     },
     "execution_count": 380,
     "metadata": {},
     "output_type": "execute_result"
    }
   ],
   "source": [
    "clf14.best_params_"
   ]
  },
  {
   "cell_type": "code",
   "execution_count": 381,
   "metadata": {},
   "outputs": [],
   "source": [
    "from sklearn.ensemble import GradientBoostingClassifier\n",
    "clf14_up=GradientBoostingClassifier(loss='exponential',subsample=1,criterion='friedman_mse',max_depth=5,n_estimators=95)"
   ]
  },
  {
   "cell_type": "code",
   "execution_count": 382,
   "metadata": {},
   "outputs": [
    {
     "data": {
      "text/plain": [
       "0.8274"
      ]
     },
     "execution_count": 382,
     "metadata": {},
     "output_type": "execute_result"
    }
   ],
   "source": [
    "clf14_up.fit(x14,y14)\n",
    "clf14_up.score(df4_test1.drop('Default_ind',axis=1),df4_test1['Default_ind'])"
   ]
  },
  {
   "cell_type": "code",
   "execution_count": 383,
   "metadata": {},
   "outputs": [
    {
     "data": {
      "text/plain": [
       "array([[3838,  761],\n",
       "       [ 102,  299]])"
      ]
     },
     "execution_count": 383,
     "metadata": {},
     "output_type": "execute_result"
    }
   ],
   "source": [
    "y_pred14=clf14_up.predict(df4_test1.drop('Default_ind',axis=1))\n",
    "from sklearn.metrics import confusion_matrix\n",
    "confusion_matrix(df4_test1['Default_ind'],y_pred14)"
   ]
  },
  {
   "cell_type": "code",
   "execution_count": null,
   "metadata": {},
   "outputs": [],
   "source": []
  }
 ],
 "metadata": {
  "kernelspec": {
   "display_name": "Python 3",
   "language": "python",
   "name": "python3"
  },
  "language_info": {
   "codemirror_mode": {
    "name": "ipython",
    "version": 3
   },
   "file_extension": ".py",
   "mimetype": "text/x-python",
   "name": "python",
   "nbconvert_exporter": "python",
   "pygments_lexer": "ipython3",
   "version": "3.8.5"
  }
 },
 "nbformat": 4,
 "nbformat_minor": 4
}
