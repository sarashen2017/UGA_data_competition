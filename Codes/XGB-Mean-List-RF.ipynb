{
 "cells": [
  {
   "cell_type": "code",
   "execution_count": 1,
   "metadata": {},
   "outputs": [],
   "source": [
    "#conda install -c anaconda py-xgboost\n",
    "# pip install xgboost\n",
    "from xgboost import XGBClassifier"
   ]
  },
  {
   "cell_type": "code",
   "execution_count": 2,
   "metadata": {},
   "outputs": [],
   "source": [
    "import numpy as np\n",
    "import pandas as pd\n",
    "from sklearn.ensemble import RandomForestClassifier\n",
    "from sklearn.datasets import make_classification\n",
    "from sklearn.model_selection import PredefinedSplit\n",
    "from sklearn.model_selection import GridSearchCV\n",
    "from sklearn.metrics import confusion_matrix\n",
    "#import ipynb.fs.full.data_preprocessing_after_imputing as datapre"
   ]
  },
  {
   "cell_type": "code",
   "execution_count": 3,
   "metadata": {},
   "outputs": [],
   "source": [
    "def best_xgboost(datatrain, datavali, parameter_space,criteria='accuracy', randomstate=0):\n",
    "    '''\n",
    "    if not specified, the parameters are n_estimators=100, criterion=\"gini\", max_depth=8, min_samples_split=400, \n",
    "    min_samples_leaf=50, bootstrap=True, oob_score=False, warm_start=False, max_samples=3000, random_state=0\n",
    "    '''\n",
    "    from sklearn.model_selection import PredefinedSplit\n",
    "    import numpy as np\n",
    "    from xgboost.sklearn import XGBClassifier\n",
    "    \n",
    "    frames=pd.concat([datatrain, datavali])\n",
    "    frames_reind=frames.set_index([pd.Index(range(len(frames)))])\n",
    "    split_index=[-1]*len(datatrain)+[0]*len(datavali)\n",
    "    pds = PredefinedSplit(test_fold = split_index)\n",
    "    datadummy=pd.get_dummies(frames_reind)\n",
    "    datatrainX=np.array(datadummy.drop('Default_ind', axis=1))\n",
    "    datatrainy=datadummy['Default_ind']\n",
    "    \n",
    "    XGB=XGBClassifier()\n",
    "    from sklearn.model_selection import GridSearchCV\n",
    "    \n",
    "    modelGS=GridSearchCV(XGB, parameter_space,cv=pds,scoring=criteria)\n",
    "    modelGS.fit(datatrainX, datatrainy)\n",
    "    \n",
    "    return modelGS,datatrainX,datatrainy"
   ]
  },
  {
   "cell_type": "code",
   "execution_count": 4,
   "metadata": {},
   "outputs": [],
   "source": [
    "def Cate_to_object_excp_inq(dataset):\n",
    "    return(dataset.astype({'non_mtg_acc_past_due_12_months_num': 'object','non_mtg_acc_past_due_6_months_num': 'object','mortgages_past_due_6_months_num': 'object','card_inq_24_month_num': 'float64','inq_12_month_num': 'float64','card_open_36_month_num': 'object','auto_open_36_month_num': 'object','ind_acc_XYZ': 'object'}))"
   ]
  },
  {
   "cell_type": "code",
   "execution_count": 5,
   "metadata": {},
   "outputs": [],
   "source": [
    "def upsample(data):\n",
    "    from sklearn.utils import resample\n",
    "    \n",
    "    df_majority=data[data.Default_ind==0]\n",
    "    df_minority=data[data.Default_ind==1]\n",
    "    largenumber=len(df_majority)\n",
    "    df_minority_upsampled=resample(df_minority,replace=True,n_samples=int(1.2*largenumber),random_state=123)\n",
    "    df_upsampled=pd.concat([pd.DataFrame(df_majority),pd.DataFrame(df_minority_upsampled)])\n",
    "    return df_upsampled"
   ]
  },
  {
   "cell_type": "markdown",
   "metadata": {},
   "source": [
    "## Data Unconditional Mean"
   ]
  },
  {
   "cell_type": "code",
   "execution_count": 20,
   "metadata": {},
   "outputs": [],
   "source": [
    "umean_train=pd.read_csv(\"Data_Set/Unconditional_mean_impute/Unconditional_mean_impute.csv\")\n",
    "umean_test=pd.read_csv(\"Data_Set/Unconditional_mean_impute/Unconditional_mean_impute_Test.csv\")\n",
    "umean_validation=pd.read_csv(\"Data_Set/Unconditional_mean_impute/Unconditional_mean_impute_Validation.csv\")"
   ]
  },
  {
   "cell_type": "code",
   "execution_count": 27,
   "metadata": {},
   "outputs": [],
   "source": [
    "umean_validation=umean_validation.drop(umean_validation.columns[0],axis=1)"
   ]
  },
  {
   "cell_type": "code",
   "execution_count": 29,
   "metadata": {},
   "outputs": [],
   "source": [
    "#Change to categorical\n",
    "cat_umean_train=Cate_to_object_excp_inq(umean_train)\n",
    "cat_umean_test=Cate_to_object_excp_inq(umean_test)\n",
    "cat_umean_validation=Cate_to_object_excp_inq(umean_validation)"
   ]
  },
  {
   "cell_type": "code",
   "execution_count": 30,
   "metadata": {},
   "outputs": [],
   "source": [
    "# Upsample train and validation\n",
    "cat_umean_up_train=upsample(cat_umean_train)\n",
    "cat_umean_up_validation=upsample(cat_umean_validation)"
   ]
  },
  {
   "cell_type": "code",
   "execution_count": 31,
   "metadata": {},
   "outputs": [],
   "source": [
    "datadummy=pd.get_dummies(cat_umean_test)\n",
    "testX=np.array(datadummy.drop('Default_ind', axis=1))\n",
    "testy=datadummy['Default_ind']"
   ]
  },
  {
   "cell_type": "code",
   "execution_count": 40,
   "metadata": {},
   "outputs": [],
   "source": [
    "parameter_space = {\n",
    "    'colsample_bytree': [0.9],\n",
    "     'gamma': [0],\n",
    "     'learning_rate': [0.2],\n",
    "     'max_depth': [4],\n",
    "     'min_child_weight': [1],\n",
    "     'n_estimators': [40],\n",
    "     'nthread': [7],\n",
    "     'objective': ['binary:logistic'],\n",
    "     'scale_pos_weight': [1],\n",
    "     'seed': [123],\n",
    "     'subsample': [0.5]\n",
    "    }"
   ]
  },
  {
   "cell_type": "code",
   "execution_count": 44,
   "metadata": {},
   "outputs": [],
   "source": [
    "parameter_space = {\n",
    "    'colsample_bytree': [0.8,0.9,1.0],\n",
    "     'gamma': [0,0.5,1],\n",
    "     'learning_rate': [0.2,0.3],\n",
    "     'max_depth': [3,4,5],\n",
    "     'min_child_weight': [0.5,1],\n",
    "     'n_estimators': [30,40,50],\n",
    "     'nthread': [4,7,9],\n",
    "     'objective': ['reg:logistic'],\n",
    "     'scale_pos_weight': [1],\n",
    "     'seed': [123],\n",
    "     'subsample': [0.5,1],\n",
    "    'use_label_encoder':[False]\n",
    "    }"
   ]
  },
  {
   "cell_type": "code",
   "execution_count": 45,
   "metadata": {},
   "outputs": [],
   "source": [
    "clf1,x1,y1=best_xgboost(cat_umean_up_train,cat_umean_up_validation,parameter_space,criteria='accuracy', randomstate=0)"
   ]
  },
  {
   "cell_type": "code",
   "execution_count": 46,
   "metadata": {},
   "outputs": [
    {
     "data": {
      "text/plain": [
       "{'colsample_bytree': 0.8,\n",
       " 'gamma': 0.5,\n",
       " 'learning_rate': 0.3,\n",
       " 'max_depth': 4,\n",
       " 'min_child_weight': 0.5,\n",
       " 'n_estimators': 30,\n",
       " 'nthread': 4,\n",
       " 'objective': 'reg:logistic',\n",
       " 'scale_pos_weight': 1,\n",
       " 'seed': 123,\n",
       " 'subsample': 0.5,\n",
       " 'use_label_encoder': False}"
      ]
     },
     "execution_count": 46,
     "metadata": {},
     "output_type": "execute_result"
    }
   ],
   "source": [
    "clf1.best_params_"
   ]
  },
  {
   "cell_type": "code",
   "execution_count": 47,
   "metadata": {},
   "outputs": [
    {
     "data": {
      "text/plain": [
       "array([[3701,  898],\n",
       "       [  87,  314]], dtype=int64)"
      ]
     },
     "execution_count": 47,
     "metadata": {},
     "output_type": "execute_result"
    }
   ],
   "source": [
    "y_pred=clf1.predict(testX)\n",
    "from sklearn.metrics import confusion_matrix\n",
    "confusion_matrix(testy,y_pred)"
   ]
  },
  {
   "cell_type": "markdown",
   "metadata": {},
   "source": [
    "## Listwise"
   ]
  },
  {
   "cell_type": "code",
   "execution_count": 56,
   "metadata": {},
   "outputs": [],
   "source": [
    "list_train=pd.read_csv(\"Data_Set/Listwisedeletion/Listwise_deletion.csv\")\n",
    "list_test=pd.read_csv(\"Data_Set/Listwisedeletion/Listwise_deletion_test.csv\")\n",
    "list_validation=pd.read_csv(\"Data_Set/Listwisedeletion/Listwise_deletion_validation.csv\")"
   ]
  },
  {
   "cell_type": "code",
   "execution_count": 57,
   "metadata": {
    "scrolled": true
   },
   "outputs": [],
   "source": [
    "#Change to categorical\n",
    "cat_list_train=Cate_to_object_excp_inq(list_train)\n",
    "cat_list_test=Cate_to_object_excp_inq(list_test)\n",
    "cat_list_validation=Cate_to_object_excp_inq(list_validation)"
   ]
  },
  {
   "cell_type": "code",
   "execution_count": 71,
   "metadata": {},
   "outputs": [],
   "source": [
    "# Upsample train and validation\n",
    "cat_list_up_train=upsample(cat_list_train)\n",
    "cat_list_up_validation=upsample(cat_list_validation)"
   ]
  },
  {
   "cell_type": "code",
   "execution_count": 72,
   "metadata": {},
   "outputs": [],
   "source": [
    "datadummy=pd.get_dummies(cat_list_test)\n",
    "testX=np.array(datadummy.drop('Default_ind', axis=1))\n",
    "testy=datadummy['Default_ind']"
   ]
  },
  {
   "cell_type": "code",
   "execution_count": 60,
   "metadata": {},
   "outputs": [],
   "source": [
    "parameter_space = {\n",
    "    'colsample_bytree': [0.8,0.9,1.0],\n",
    "     'gamma': [0,0.5,1],\n",
    "     'learning_rate': [0.2,0.3],\n",
    "     'max_depth': [3,4,5],\n",
    "     'min_child_weight': [0.5,1],\n",
    "     'n_estimators': [30,40,50],\n",
    "     'nthread': [4,7,9],\n",
    "     'objective': ['reg:logistic'],\n",
    "     'scale_pos_weight': [1],\n",
    "     'seed': [123],\n",
    "     'subsample': [0.5,1],\n",
    "    'use_label_encoder':[False]\n",
    "    }"
   ]
  },
  {
   "cell_type": "code",
   "execution_count": 61,
   "metadata": {},
   "outputs": [],
   "source": [
    "clf2,x2,y2=best_xgboost(cat_list_up_train,cat_list_up_validation,parameter_space,criteria='accuracy', randomstate=0)"
   ]
  },
  {
   "cell_type": "code",
   "execution_count": 73,
   "metadata": {},
   "outputs": [
    {
     "data": {
      "text/plain": [
       "array([[3282,  528],\n",
       "       [ 105,  236]], dtype=int64)"
      ]
     },
     "execution_count": 73,
     "metadata": {},
     "output_type": "execute_result"
    }
   ],
   "source": [
    "y_pred=clf2.predict(testX)\n",
    "from sklearn.metrics import confusion_matrix\n",
    "confusion_matrix(testy,y_pred)"
   ]
  },
  {
   "cell_type": "code",
   "execution_count": 76,
   "metadata": {},
   "outputs": [
    {
     "data": {
      "text/plain": [
       "{'colsample_bytree': 1.0,\n",
       " 'gamma': 0,\n",
       " 'learning_rate': 0.3,\n",
       " 'max_depth': 5,\n",
       " 'min_child_weight': 0.5,\n",
       " 'n_estimators': 50,\n",
       " 'nthread': 4,\n",
       " 'objective': 'reg:logistic',\n",
       " 'scale_pos_weight': 1,\n",
       " 'seed': 123,\n",
       " 'subsample': 0.5,\n",
       " 'use_label_encoder': False}"
      ]
     },
     "execution_count": 76,
     "metadata": {},
     "output_type": "execute_result"
    }
   ],
   "source": [
    "clf2.best_params_"
   ]
  },
  {
   "cell_type": "markdown",
   "metadata": {},
   "source": [
    "## RF"
   ]
  },
  {
   "cell_type": "code",
   "execution_count": 62,
   "metadata": {},
   "outputs": [],
   "source": [
    "rf_train=pd.read_csv(\"Data_Set/rfimpute/rf.csv\")\n",
    "rf_test=pd.read_csv(\"Data_Set/rfimpute/rf_Test.csv\")\n",
    "rf_validation=pd.read_csv(\"Data_Set/rfimpute/rf_Vali.csv\")"
   ]
  },
  {
   "cell_type": "code",
   "execution_count": 66,
   "metadata": {},
   "outputs": [],
   "source": [
    "#Change to categorical\n",
    "cat_rf_train=Cate_to_object_excp_inq(rf_train)\n",
    "cat_rf_test=Cate_to_object_excp_inq(rf_test)\n",
    "cat_rf_validation=Cate_to_object_excp_inq(rf_validation)"
   ]
  },
  {
   "cell_type": "code",
   "execution_count": 67,
   "metadata": {},
   "outputs": [],
   "source": [
    "# Upsample train and validation\n",
    "cat_rf_up_train=upsample(cat_rf_train)\n",
    "cat_rf_up_validation=upsample(cat_rf_validation)"
   ]
  },
  {
   "cell_type": "code",
   "execution_count": 74,
   "metadata": {},
   "outputs": [],
   "source": [
    "datadummy=pd.get_dummies(cat_rf_test)\n",
    "testX=np.array(datadummy.drop('Default_ind', axis=1))\n",
    "testy=datadummy['Default_ind']"
   ]
  },
  {
   "cell_type": "code",
   "execution_count": 69,
   "metadata": {},
   "outputs": [],
   "source": [
    "parameter_space = {\n",
    "    'colsample_bytree': [0.8,0.9,1.0],\n",
    "     'gamma': [0,0.5,1],\n",
    "     'learning_rate': [0.2,0.3],\n",
    "     'max_depth': [3,4,5],\n",
    "     'min_child_weight': [0.5,1],\n",
    "     'n_estimators': [30,40,50],\n",
    "     'nthread': [4,7,9],\n",
    "     'objective': ['reg:logistic'],\n",
    "     'scale_pos_weight': [1],\n",
    "     'seed': [123],\n",
    "     'subsample': [0.5,1],\n",
    "    'use_label_encoder':[False]\n",
    "    }"
   ]
  },
  {
   "cell_type": "code",
   "execution_count": 70,
   "metadata": {},
   "outputs": [],
   "source": [
    "clf4,x4,y4=best_xgboost(cat_rf_up_train,cat_rf_up_validation,parameter_space,criteria='accuracy', randomstate=0)"
   ]
  },
  {
   "cell_type": "code",
   "execution_count": 75,
   "metadata": {},
   "outputs": [
    {
     "data": {
      "text/plain": [
       "array([[3695,  904],\n",
       "       [  82,  319]], dtype=int64)"
      ]
     },
     "execution_count": 75,
     "metadata": {},
     "output_type": "execute_result"
    }
   ],
   "source": [
    "y_pred=clf4.predict(testX)\n",
    "from sklearn.metrics import confusion_matrix\n",
    "confusion_matrix(testy,y_pred)"
   ]
  },
  {
   "cell_type": "code",
   "execution_count": 77,
   "metadata": {},
   "outputs": [
    {
     "data": {
      "text/plain": [
       "{'colsample_bytree': 1.0,\n",
       " 'gamma': 1,\n",
       " 'learning_rate': 0.3,\n",
       " 'max_depth': 3,\n",
       " 'min_child_weight': 1,\n",
       " 'n_estimators': 40,\n",
       " 'nthread': 4,\n",
       " 'objective': 'reg:logistic',\n",
       " 'scale_pos_weight': 1,\n",
       " 'seed': 123,\n",
       " 'subsample': 0.5,\n",
       " 'use_label_encoder': False}"
      ]
     },
     "execution_count": 77,
     "metadata": {},
     "output_type": "execute_result"
    }
   ],
   "source": [
    "clf4.best_params_"
   ]
  }
 ],
 "metadata": {
  "kernelspec": {
   "display_name": "Python 3",
   "language": "python",
   "name": "python3"
  },
  "language_info": {
   "codemirror_mode": {
    "name": "ipython",
    "version": 3
   },
   "file_extension": ".py",
   "mimetype": "text/x-python",
   "name": "python",
   "nbconvert_exporter": "python",
   "pygments_lexer": "ipython3",
   "version": "3.7.3"
  }
 },
 "nbformat": 4,
 "nbformat_minor": 2
}
