{
 "cells": [
  {
   "cell_type": "code",
   "execution_count": 2,
   "metadata": {},
   "outputs": [],
   "source": [
    "#conda install -c anaconda py-xgboost\n",
    "# pip install xgboost\n",
    "from xgboost import XGBClassifier"
   ]
  },
  {
   "cell_type": "code",
   "execution_count": 3,
   "metadata": {},
   "outputs": [],
   "source": [
    "import numpy as np\n",
    "import pandas as pd\n",
    "from sklearn.ensemble import RandomForestClassifier\n",
    "from sklearn.datasets import make_classification\n",
    "from sklearn.model_selection import PredefinedSplit\n",
    "from sklearn.model_selection import GridSearchCV\n",
    "from sklearn.metrics import confusion_matrix\n",
    "#import ipynb.fs.full.data_preprocessing_after_imputing as datapre"
   ]
  },
  {
   "cell_type": "code",
   "execution_count": 4,
   "metadata": {},
   "outputs": [],
   "source": [
    "def best_xgboost(datatrain, datavali, parameter_space,criteria='accuracy', randomstate=0):\n",
    "    '''\n",
    "    if not specified, the parameters are n_estimators=100, criterion=\"gini\", max_depth=8, min_samples_split=400, \n",
    "    min_samples_leaf=50, bootstrap=True, oob_score=False, warm_start=False, max_samples=3000, random_state=0\n",
    "    '''\n",
    "    from sklearn.model_selection import PredefinedSplit\n",
    "    import numpy as np\n",
    "    from xgboost.sklearn import XGBClassifier\n",
    "    \n",
    "    frames=pd.concat([datatrain, datavali])\n",
    "    frames_reind=frames.set_index([pd.Index(range(len(frames)))])\n",
    "    split_index=[-1]*len(datatrain)+[0]*len(datavali)\n",
    "    pds = PredefinedSplit(test_fold = split_index)\n",
    "    datadummy=pd.get_dummies(frames_reind)\n",
    "    datatrainX=np.array(datadummy.drop('Default_ind', axis=1))\n",
    "    datatrainy=datadummy['Default_ind']\n",
    "    \n",
    "    XGB=XGBClassifier()\n",
    "    from sklearn.model_selection import GridSearchCV\n",
    "    \n",
    "    modelGS=GridSearchCV(XGB, parameter_space,cv=pds,scoring=criteria)\n",
    "    modelGS.fit(datatrainX, datatrainy)\n",
    "    \n",
    "    return modelGS,datatrainX,datatrainy"
   ]
  },
  {
   "cell_type": "code",
   "execution_count": 5,
   "metadata": {},
   "outputs": [],
   "source": [
    "def Cate_to_object_excp_inq(dataset):\n",
    "    return(dataset.astype({'non_mtg_acc_past_due_12_months_num': 'object','non_mtg_acc_past_due_6_months_num': 'object','mortgages_past_due_6_months_num': 'object','card_inq_24_month_num': 'float64','inq_12_month_num': 'float64','card_open_36_month_num': 'object','auto_open_36_month_num': 'object','ind_acc_XYZ': 'object'}))"
   ]
  },
  {
   "cell_type": "code",
   "execution_count": 6,
   "metadata": {},
   "outputs": [],
   "source": [
    "def upsample(data):\n",
    "    from sklearn.utils import resample\n",
    "    \n",
    "    df_majority=data[data.Default_ind==0]\n",
    "    df_minority=data[data.Default_ind==1]\n",
    "    largenumber=len(df_majority)\n",
    "    df_minority_upsampled=resample(df_minority,replace=True,n_samples=int(1.2*largenumber),random_state=123)\n",
    "    df_upsampled=pd.concat([pd.DataFrame(df_majority),pd.DataFrame(df_minority_upsampled)])\n",
    "    return df_upsampled"
   ]
  },
  {
   "cell_type": "markdown",
   "metadata": {},
   "source": [
    "## Median Data"
   ]
  },
  {
   "cell_type": "code",
   "execution_count": 8,
   "metadata": {},
   "outputs": [],
   "source": [
    "median_train=pd.read_csv('DataSet(Imputed)/Unconditionalmedianimpute/Unconditional_median_impute.csv')\n",
    "median_test=pd.read_csv('DataSet(Imputed)/Unconditionalmedianimpute/Unconditional_median_impute_Test.csv')\n",
    "median_validation=pd.read_csv('DataSet(Imputed)/Unconditionalmedianimpute/Unconditional_median_impute_Validation.csv')\n"
   ]
  },
  {
   "cell_type": "code",
   "execution_count": 9,
   "metadata": {},
   "outputs": [],
   "source": [
    "#Change to categorical\n",
    "cat_median_train=Cate_to_object_excp_inq(median_train)\n",
    "cat_median_test=Cate_to_object_excp_inq(median_test)\n",
    "cat_median_validation=Cate_to_object_excp_inq(median_validation)"
   ]
  },
  {
   "cell_type": "code",
   "execution_count": 10,
   "metadata": {},
   "outputs": [],
   "source": [
    "# Upsample train and validation\n",
    "cat_median_up_train=upsample(cat_median_train)\n",
    "cat_median_up_validation=upsample(cat_median_validation)"
   ]
  },
  {
   "cell_type": "code",
   "execution_count": 11,
   "metadata": {},
   "outputs": [],
   "source": [
    "datadummy=pd.get_dummies(cat_median_test)\n",
    "testX=np.array(datadummy.drop('Default_ind', axis=1))\n",
    "testy=datadummy['Default_ind']"
   ]
  },
  {
   "cell_type": "code",
   "execution_count": 16,
   "metadata": {},
   "outputs": [],
   "source": [
    "parameter_space = {\n",
    "    'colsample_bytree': [0.8,0.9,1.0],\n",
    "     'gamma': [0,0.5,1],\n",
    "     'learning_rate': [0.2,0.3],\n",
    "     'max_depth': [3,4,5],\n",
    "     'min_child_weight': [0.5,1],\n",
    "     'n_estimators': [30,40,50],\n",
    "     'nthread': [4,7,9],\n",
    "     'objective': ['reg:logistic'],\n",
    "     'scale_pos_weight': [1],\n",
    "     'seed': [123],\n",
    "     'subsample': [0.5,1],\n",
    "    'use_label_encoder':[False]\n",
    "    }"
   ]
  },
  {
   "cell_type": "code",
   "execution_count": 17,
   "metadata": {},
   "outputs": [],
   "source": [
    "clf2,x2,y2=best_xgboost(cat_median_up_train,cat_median_up_validation,parameter_space,criteria='accuracy', randomstate=0)"
   ]
  },
  {
   "cell_type": "code",
   "execution_count": 18,
   "metadata": {},
   "outputs": [
    {
     "data": {
      "text/plain": [
       "array([[3696,  903],\n",
       "       [  88,  313]], dtype=int64)"
      ]
     },
     "execution_count": 18,
     "metadata": {},
     "output_type": "execute_result"
    }
   ],
   "source": [
    "y_pred=clf2.predict(testX)\n",
    "from sklearn.metrics import confusion_matrix\n",
    "confusion_matrix( testy,y_pred)"
   ]
  },
  {
   "cell_type": "code",
   "execution_count": 19,
   "metadata": {},
   "outputs": [
    {
     "data": {
      "text/plain": [
       "{'colsample_bytree': 0.8,\n",
       " 'gamma': 0.5,\n",
       " 'learning_rate': 0.3,\n",
       " 'max_depth': 4,\n",
       " 'min_child_weight': 0.5,\n",
       " 'n_estimators': 30,\n",
       " 'nthread': 4,\n",
       " 'objective': 'reg:logistic',\n",
       " 'scale_pos_weight': 1,\n",
       " 'seed': 123,\n",
       " 'subsample': 0.5,\n",
       " 'use_label_encoder': False}"
      ]
     },
     "execution_count": 19,
     "metadata": {},
     "output_type": "execute_result"
    }
   ],
   "source": [
    "clf2.best_params_"
   ]
  },
  {
   "cell_type": "markdown",
   "metadata": {},
   "source": [
    "## EMB"
   ]
  },
  {
   "cell_type": "code",
   "execution_count": 20,
   "metadata": {},
   "outputs": [],
   "source": [
    "EMB_train=pd.read_csv('DataSet(Imputed)/EMB_impute/EMB_impute.csv')\n",
    "EMB_test=pd.read_csv('DataSet(Imputed)/EMB_impute/EMB_impute_Test.csv')\n",
    "EMB_validation=pd.read_csv('DataSet(Imputed)/EMB_impute/EMB_impute_Vali.csv')"
   ]
  },
  {
   "cell_type": "code",
   "execution_count": 25,
   "metadata": {},
   "outputs": [],
   "source": [
    "#Change to categorical\n",
    "cat_emb_train=Cate_to_object_excp_inq(EMB_train)\n",
    "cat_emb_test=Cate_to_object_excp_inq(EMB_test)\n",
    "cat_emb_validation=Cate_to_object_excp_inq(EMB_validation)"
   ]
  },
  {
   "cell_type": "code",
   "execution_count": 26,
   "metadata": {},
   "outputs": [],
   "source": [
    "# Upsample train and validation\n",
    "cat_emb_up_train=upsample(cat_emb_train)\n",
    "cat_emb_up_validation=upsample(cat_emb_validation)"
   ]
  },
  {
   "cell_type": "code",
   "execution_count": 27,
   "metadata": {},
   "outputs": [],
   "source": [
    "datadummy=pd.get_dummies(cat_emb_test)\n",
    "testX=np.array(datadummy.drop('Default_ind', axis=1))\n",
    "testy=datadummy['Default_ind']"
   ]
  },
  {
   "cell_type": "code",
   "execution_count": 28,
   "metadata": {},
   "outputs": [],
   "source": [
    "parameter_space = {\n",
    "    'colsample_bytree': [0.8,0.9,1.0],\n",
    "     'gamma': [0,0.5,1],\n",
    "     'learning_rate': [0.2,0.3],\n",
    "     'max_depth': [3,4,5],\n",
    "     'min_child_weight': [0.5,1],\n",
    "     'n_estimators': [30,40,50],\n",
    "     'nthread': [4,7,9],\n",
    "     'objective': ['reg:logistic'],\n",
    "     'scale_pos_weight': [1],\n",
    "     'seed': [123],\n",
    "     'subsample': [0.5,1],\n",
    "    'use_label_encoder':[False]\n",
    "    }"
   ]
  },
  {
   "cell_type": "code",
   "execution_count": 29,
   "metadata": {},
   "outputs": [],
   "source": [
    "clf3,x3,y3=best_xgboost(cat_emb_up_train,cat_emb_up_validation,parameter_space,criteria='accuracy', randomstate=0)"
   ]
  },
  {
   "cell_type": "code",
   "execution_count": 30,
   "metadata": {},
   "outputs": [
    {
     "data": {
      "text/plain": [
       "array([[3688,  911],\n",
       "       [  89,  312]], dtype=int64)"
      ]
     },
     "execution_count": 30,
     "metadata": {},
     "output_type": "execute_result"
    }
   ],
   "source": [
    "y_pred=clf3.predict(testX)\n",
    "from sklearn.metrics import confusion_matrix\n",
    "confusion_matrix( testy,y_pred)"
   ]
  },
  {
   "cell_type": "code",
   "execution_count": 31,
   "metadata": {},
   "outputs": [
    {
     "data": {
      "text/plain": [
       "{'colsample_bytree': 1.0,\n",
       " 'gamma': 0,\n",
       " 'learning_rate': 0.3,\n",
       " 'max_depth': 3,\n",
       " 'min_child_weight': 0.5,\n",
       " 'n_estimators': 40,\n",
       " 'nthread': 4,\n",
       " 'objective': 'reg:logistic',\n",
       " 'scale_pos_weight': 1,\n",
       " 'seed': 123,\n",
       " 'subsample': 0.5,\n",
       " 'use_label_encoder': False}"
      ]
     },
     "execution_count": 31,
     "metadata": {},
     "output_type": "execute_result"
    }
   ],
   "source": [
    "clf3.best_params_"
   ]
  },
  {
   "cell_type": "markdown",
   "metadata": {},
   "source": [
    "## EM"
   ]
  },
  {
   "cell_type": "code",
   "execution_count": 8,
   "metadata": {},
   "outputs": [],
   "source": [
    "EM_train=pd.read_csv('/Users/shiyuandeng/Desktop/UGA/DataScienceCompetition/Data Set (Imputed)/EM_imputed/Simulated_Data_Train_em.csv')\n",
    "EM_train=EM_train.drop(EM_train.columns[0],axis=1)\n",
    "EM_test=pd.read_csv('/Users/shiyuandeng/Desktop/UGA/DataScienceCompetition/Data Set (Imputed)/EM_imputed/Simulated_Data_Test_em.csv')\n",
    "EM_test=EM_test.drop(EM_test.columns[0],axis=1)\n",
    "EM_validation=pd.read_csv('/Users/shiyuandeng/Desktop/UGA/DataScienceCompetition/Data Set (Imputed)/EM_imputed/Simulated_Data_validatiion_em.csv')\n",
    "EM_validation=EM_validation.drop(EM_validation.columns[0],axis=1)"
   ]
  },
  {
   "cell_type": "code",
   "execution_count": 9,
   "metadata": {},
   "outputs": [],
   "source": [
    "#Change to categorical\n",
    "cat_em_train=Cate_to_object_excp_inq(EM_train)\n",
    "cat_em_test=Cate_to_object_excp_inq(EM_test)\n",
    "cat_em_validation=Cate_to_object_excp_inq(EM_validation)"
   ]
  },
  {
   "cell_type": "code",
   "execution_count": 10,
   "metadata": {},
   "outputs": [],
   "source": [
    "# Upsample train and validation\n",
    "cat_em_up_train=upsample(cat_em_train)\n",
    "cat_em_up_validation=upsample(cat_em_validation)"
   ]
  },
  {
   "cell_type": "code",
   "execution_count": 11,
   "metadata": {},
   "outputs": [],
   "source": [
    "datadummy=pd.get_dummies(cat_em_test)\n",
    "testX=np.array(datadummy.drop('Default_ind', axis=1))\n",
    "testy=datadummy['Default_ind']"
   ]
  },
  {
   "cell_type": "code",
   "execution_count": 12,
   "metadata": {},
   "outputs": [],
   "source": [
    "parameter_space = {\n",
    "    'colsample_bytree': [0.8,0.9,1.0],\n",
    "     'gamma': [0,0.5,1],\n",
    "     'learning_rate': [0.2,0.3],\n",
    "     'max_depth': [3,4,5],\n",
    "     'min_child_weight': [0.5,1],\n",
    "     'n_estimators': [30,40,50],\n",
    "     'nthread': [4,7,9],\n",
    "     'objective': ['reg:logistic'],\n",
    "     'scale_pos_weight': [1],\n",
    "     'seed': [123],\n",
    "     'subsample': [0.5,1],\n",
    "    'use_label_encoder':[False]\n",
    "    }"
   ]
  },
  {
   "cell_type": "code",
   "execution_count": 13,
   "metadata": {},
   "outputs": [],
   "source": [
    "clf4,x4,y4=best_xgboost(cat_em_up_train,cat_em_up_validation,parameter_space,criteria='accuracy', randomstate=0)"
   ]
  },
  {
   "cell_type": "code",
   "execution_count": 14,
   "metadata": {},
   "outputs": [
    {
     "data": {
      "text/plain": [
       "array([[3921,  678],\n",
       "       [ 130,  271]])"
      ]
     },
     "execution_count": 14,
     "metadata": {},
     "output_type": "execute_result"
    }
   ],
   "source": [
    "y_pred=clf4.predict(testX)\n",
    "from sklearn.metrics import confusion_matrix\n",
    "confusion_matrix( testy,y_pred)"
   ]
  },
  {
   "cell_type": "code",
   "execution_count": 15,
   "metadata": {},
   "outputs": [
    {
     "data": {
      "text/plain": [
       "{'colsample_bytree': 1.0,\n",
       " 'gamma': 1,\n",
       " 'learning_rate': 0.3,\n",
       " 'max_depth': 5,\n",
       " 'min_child_weight': 0.5,\n",
       " 'n_estimators': 50,\n",
       " 'nthread': 4,\n",
       " 'objective': 'reg:logistic',\n",
       " 'scale_pos_weight': 1,\n",
       " 'seed': 123,\n",
       " 'subsample': 0.5,\n",
       " 'use_label_encoder': False}"
      ]
     },
     "execution_count": 15,
     "metadata": {},
     "output_type": "execute_result"
    }
   ],
   "source": [
    "clf4.best_params_"
   ]
  },
  {
   "cell_type": "code",
   "execution_count": null,
   "metadata": {},
   "outputs": [],
   "source": []
  }
 ],
 "metadata": {
  "kernelspec": {
   "display_name": "Python 3",
   "language": "python",
   "name": "python3"
  },
  "language_info": {
   "codemirror_mode": {
    "name": "ipython",
    "version": 3
   },
   "file_extension": ".py",
   "mimetype": "text/x-python",
   "name": "python",
   "nbconvert_exporter": "python",
   "pygments_lexer": "ipython3",
   "version": "3.7.3"
  }
 },
 "nbformat": 4,
 "nbformat_minor": 2
}
