{
 "cells": [
  {
   "cell_type": "code",
   "execution_count": 53,
   "metadata": {},
   "outputs": [],
   "source": [
    "import pandas as pd\n",
    "import numpy as np\n",
    "import math\n",
    "import prince\n",
    "import time\n",
    "from numpy.random import default_rng\n",
    "import ipynb.fs.full.Functions_sara as fs\n",
    "import ipynb.fs.full.data_preprocessing_after_imputing as dpai\n",
    "import ipynb.fs.full.Adaboost as adaGB"
   ]
  },
  {
   "cell_type": "markdown",
   "metadata": {},
   "source": [
    "# Adaptive Gradient Boosting"
   ]
  },
  {
   "cell_type": "markdown",
   "metadata": {},
   "source": [
    "Using Adaptive Gradient Boosting to fit datasets. Firstly, fitting 8 imputed training data sets with validation set as parameter tuning data set to search hyper parameter grid. After tuning parameters, find the model with best performance and then employe the best parameter to fit a model using the combination of training and validation data set and test the model on our test data set. Thus the final model is based on the best model out of 8, with the best parameters."
   ]
  },
  {
   "cell_type": "code",
   "execution_count": 76,
   "metadata": {},
   "outputs": [],
   "source": [
    "# KNN\n",
    "KNN_train = pd.read_csv(\"/Users/BB10190915/Desktop/Data_Comp/TrainData/KNN_impute.csv\")\n",
    "KNN_vali = pd.read_csv(\"/Users/BB10190915/Desktop/Data_Comp/ValiData/KNN_impute_validation.csv\")\n",
    "KNN_test = pd.read_csv(\"/Users/BB10190915/Desktop/Data_Comp/TestData/KNN_impute_test.csv\")\n",
    "\n",
    "\n",
    "# Unconditional Mean\n",
    "Mean_train = pd.read_csv(\"/Users/BB10190915/Desktop/Data_Comp/TrainData/Unconditional_mean_impute.csv\")\n",
    "Mean_vali = pd.read_csv(\"/Users/BB10190915/Desktop/Data_Comp/ValiData/Unconditional_mean_impute_Validation.csv\")\n",
    "Mean_test = pd.read_csv(\"/Users/BB10190915/Desktop/Data_Comp/TestData/Unconditional_mean_impute_Test.csv\")\n",
    "\n",
    "# Listwise_deletion\n",
    "Drop_train = pd.read_csv(\"/Users/BB10190915/Desktop/Data_Comp/TrainData/Listwise_deletion.csv\")\n",
    "Drop_vali = pd.read_csv(\"/Users/BB10190915/Desktop/Data_Comp/ValiData/Listwise_deletion_Validation.csv\")\n",
    "Drop_test = pd.read_csv(\"/Users/BB10190915/Desktop/Data_Comp/TestData/Listwise_deletion_Test.csv\")\n",
    "\n"
   ]
  },
  {
   "cell_type": "code",
   "execution_count": 8,
   "metadata": {},
   "outputs": [],
   "source": [
    "def upsample(data):\n",
    "    from sklearn.utils import resample\n",
    "    \n",
    "    df_majority=data[data.Default_ind==0]\n",
    "    df_minority=data[data.Default_ind==1]\n",
    "    largenumber=len(df_majority)\n",
    "    df_minority_upsampled=resample(df_minority,replace=True,n_samples=int(1.2*largenumber),random_state=123)\n",
    "    df_upsampled=pd.concat([pd.DataFrame(df_majority),pd.DataFrame(df_minority_upsampled)])\n",
    "    return df_upsampled"
   ]
  },
  {
   "cell_type": "code",
   "execution_count": 77,
   "metadata": {},
   "outputs": [],
   "source": [
    "KNN_train = upsample(KNN_train)\n",
    "KNN_vali = upsample(KNN_vali)\n",
    "\n",
    "Mean_train = upsample(Mean_train)\n",
    "Mean_vali = upsample(Mean_vali)\n",
    "\n",
    "Drop_train = upsample(Drop_train)\n",
    "Drop_vali = upsample(Drop_vali)\n"
   ]
  },
  {
   "cell_type": "code",
   "execution_count": 78,
   "metadata": {},
   "outputs": [],
   "source": [
    "KNN_train = dpai.Cate_to_object_excp_inq(KNN_train)\n",
    "KNN_vali = dpai.Cate_to_object_excp_inq(KNN_vali)\n",
    "KNN_test= dpai.Cate_to_object_excp_inq(KNN_test)\n",
    "# Doesn't work\n",
    "Mean_train = dpai.Cate_to_object_excp_inq(Mean_train)\n",
    "Mean_vali = dpai.Cate_to_object_excp_inq(Mean_vali)\n",
    "Mean_test= dpai.Cate_to_object_excp_inq(Mean_test)\n",
    "# Doesn't work\n",
    "\n",
    "Drop_train = dpai.Cate_to_object_excp_inq(Drop_train)\n",
    "Drop_vali = dpai.Cate_to_object_excp_inq(Drop_vali)\n",
    "Drop_test= dpai.Cate_to_object_excp_inq(Drop_test)"
   ]
  },
  {
   "cell_type": "code",
   "execution_count": 31,
   "metadata": {},
   "outputs": [],
   "source": [
    "# Tunning Paramter Space\n",
    "parameter_space = {\n",
    "        'learning_rate':[0.1,0.01,0.001],\n",
    "        'n_estimators': [50,100,150],     \n",
    "        'algorithm':['SAMME.R','SAMME']\n",
    "    }"
   ]
  },
  {
   "cell_type": "code",
   "execution_count": 32,
   "metadata": {},
   "outputs": [],
   "source": [
    "def best_adaboost(datatrain, datavali, parameter_space,criteria='accuracy', randomstate=0):\n",
    "    '''\n",
    "    if not specified, the parameters are n_estimators=100, criterion=\"gini\", max_depth=8, min_samples_split=400, \n",
    "    min_samples_leaf=50, bootstrap=True, oob_score=False, warm_start=False, max_samples=3000, random_state=0\n",
    "    '''\n",
    "    from sklearn.model_selection import PredefinedSplit\n",
    "    import numpy as np\n",
    "    from sklearn.ensemble import AdaBoostClassifier\n",
    "    frames=pd.concat([datatrain, datavali])\n",
    "    frames_reind=frames.set_index([pd.Index(range(len(frames)))])\n",
    "    split_index=[-1]*len(datatrain)+[0]*len(datavali)\n",
    "    pds = PredefinedSplit(test_fold = split_index)\n",
    "    datadummy=pd.get_dummies(frames_reind)\n",
    "    datatrainX=np.array(datadummy.drop('Default_ind', axis=1))\n",
    "    datatrainy=datadummy['Default_ind']\n",
    "    \n",
    "    AGB=AdaBoostClassifier()\n",
    "    from sklearn.model_selection import GridSearchCV\n",
    "    #parameter_space = {\n",
    "     #   'loss':['deviance', 'exponential'],\n",
    "     #   'n_estimators': [100,300],\n",
    "      #  'subsample': [0.5, 1],\n",
    "       # #'criterion':['friedman_mse', 'mse', 'mae'], \n",
    "     #   'max_depth':range(1,10,2),\n",
    "   # }\n",
    "    modelAGS=GridSearchCV(AGB, parameter_space,cv=pds,scoring=criteria)\n",
    "    modelAGS.fit(datatrainX, datatrainy)\n",
    "    return modelAGS,datatrainX,datatrainy"
   ]
  },
  {
   "cell_type": "markdown",
   "metadata": {},
   "source": [
    "# KNN"
   ]
  },
  {
   "cell_type": "code",
   "execution_count": 80,
   "metadata": {},
   "outputs": [],
   "source": [
    "t = time.time()\n",
    "adaKNN,x1,y1 = best_adaboost(KNN_train,KNN_vali,parameter_space)\n",
    "elapsed = time.time() - t"
   ]
  },
  {
   "cell_type": "code",
   "execution_count": 81,
   "metadata": {},
   "outputs": [
    {
     "name": "stdout",
     "output_type": "stream",
     "text": [
      "485.90358805656433\n"
     ]
    },
    {
     "data": {
      "text/plain": [
       "0.792282447823942"
      ]
     },
     "execution_count": 81,
     "metadata": {},
     "output_type": "execute_result"
    }
   ],
   "source": [
    "print(elapsed)\n",
    "adaKNN.score(x1,y1)"
   ]
  },
  {
   "cell_type": "code",
   "execution_count": 87,
   "metadata": {},
   "outputs": [
    {
     "name": "stdout",
     "output_type": "stream",
     "text": [
      "0.8028\n"
     ]
    },
    {
     "data": {
      "text/plain": [
       "array([[3683,  916],\n",
       "       [  70,  331]])"
      ]
     },
     "execution_count": 87,
     "metadata": {},
     "output_type": "execute_result"
    }
   ],
   "source": [
    "# Prediction and Confusion MAtrix\n",
    "datadummy = pd.get_dummies(KNN_test)\n",
    "testX = np.array(datadummy.drop('Default_ind', axis=1))\n",
    "testy = datadummy['Default_ind']\n",
    "\n",
    "print(adaKNN.score(testX,testy))\n",
    "y_pred=adaKNN.predict(testX)\n",
    "\n",
    "confusion_matrix( testy,y_pred)"
   ]
  },
  {
   "cell_type": "code",
   "execution_count": null,
   "metadata": {},
   "outputs": [],
   "source": [
    "adaKNN.best_params_"
   ]
  },
  {
   "cell_type": "code",
   "execution_count": 121,
   "metadata": {},
   "outputs": [],
   "source": [
    "# Combine Train+Validation data sets\n",
    "frames=pd.concat([KNN_train, KNN_vali])\n",
    "datadummy=pd.get_dummies(frames)\n",
    "KNNX=np.array(datadummy.drop('Default_ind', axis=1))\n",
    "KNNy=datadummy['Default_ind']\n",
    "# best_param = {'algorithm': 'SAMME.R', 'learning_rate': 0.1, 'n_estimators': 100}"
   ]
  },
  {
   "cell_type": "code",
   "execution_count": 133,
   "metadata": {},
   "outputs": [],
   "source": [
    "t=time.time()\n",
    "from sklearn.ensemble import AdaBoostClassifier\n",
    "adaKNNf = AdaBoostClassifier(algorithm='SAMME.R', learning_rate=0.1,n_estimators=100)\n",
    "adaKNNfull=adaKNNf.fit(KNNX,KNNy)\n",
    "elapsed = time.time() - t"
   ]
  },
  {
   "cell_type": "code",
   "execution_count": 134,
   "metadata": {},
   "outputs": [
    {
     "name": "stdout",
     "output_type": "stream",
     "text": [
      "6.999530792236328\n"
     ]
    },
    {
     "data": {
      "text/plain": [
       "0.7931004690199951"
      ]
     },
     "execution_count": 134,
     "metadata": {},
     "output_type": "execute_result"
    }
   ],
   "source": [
    "print(elapsed)\n",
    "adaKNNfull.score(x1,y1)"
   ]
  },
  {
   "cell_type": "code",
   "execution_count": 135,
   "metadata": {},
   "outputs": [
    {
     "name": "stdout",
     "output_type": "stream",
     "text": [
      "0.8028\n"
     ]
    },
    {
     "data": {
      "text/plain": [
       "array([[3683,  916],\n",
       "       [  70,  331]])"
      ]
     },
     "execution_count": 135,
     "metadata": {},
     "output_type": "execute_result"
    }
   ],
   "source": [
    "# Prediction and Confusion Matrix\n",
    "datadummy = pd.get_dummies(KNN_test)\n",
    "testX = np.array(datadummy.drop('Default_ind', axis=1))\n",
    "testy = datadummy['Default_ind']\n",
    "\n",
    "print(adaKNNfull.score(testX,testy))\n",
    "y_pred=adaKNNfull.predict(testX)\n",
    "\n",
    "confusion_matrix( testy,y_pred)"
   ]
  },
  {
   "cell_type": "code",
   "execution_count": null,
   "metadata": {},
   "outputs": [],
   "source": [
    "y_pred."
   ]
  },
  {
   "cell_type": "code",
   "execution_count": 192,
   "metadata": {},
   "outputs": [
    {
     "data": {
      "text/plain": [
       "0.19917373342030875"
      ]
     },
     "execution_count": 192,
     "metadata": {},
     "output_type": "execute_result"
    }
   ],
   "source": [
    "916/(3683+ 916)"
   ]
  },
  {
   "cell_type": "markdown",
   "metadata": {},
   "source": [
    "# Mean"
   ]
  },
  {
   "cell_type": "code",
   "execution_count": 89,
   "metadata": {},
   "outputs": [],
   "source": [
    "t = time.time()\n",
    "adaMean,x1,y1 = best_adaboost(Mean_train,Mean_vali,parameter_space)\n",
    "elapsed = time.time() - t"
   ]
  },
  {
   "cell_type": "code",
   "execution_count": 90,
   "metadata": {},
   "outputs": [
    {
     "name": "stdout",
     "output_type": "stream",
     "text": [
      "555.8331120014191\n"
     ]
    },
    {
     "data": {
      "text/plain": [
       "0.8019347504343536"
      ]
     },
     "execution_count": 90,
     "metadata": {},
     "output_type": "execute_result"
    }
   ],
   "source": [
    "print(elapsed)\n",
    "adaMean.score(x1,y1)"
   ]
  },
  {
   "cell_type": "code",
   "execution_count": 91,
   "metadata": {},
   "outputs": [
    {
     "name": "stdout",
     "output_type": "stream",
     "text": [
      "0.7994\n"
     ]
    },
    {
     "data": {
      "text/plain": [
       "array([[3675,  924],\n",
       "       [  79,  322]])"
      ]
     },
     "execution_count": 91,
     "metadata": {},
     "output_type": "execute_result"
    }
   ],
   "source": [
    "# Prediction and Confusion MAtrix\n",
    "datadummy = pd.get_dummies(Mean_test)\n",
    "testX = np.array(datadummy.drop('Default_ind', axis=1))\n",
    "testy = datadummy['Default_ind']\n",
    "\n",
    "print(adaMean.score(testX,testy))\n",
    "y_pred=adaMean.predict(testX)\n",
    "\n",
    "confusion_matrix( testy,y_pred)"
   ]
  },
  {
   "cell_type": "code",
   "execution_count": 92,
   "metadata": {},
   "outputs": [
    {
     "data": {
      "text/plain": [
       "{'algorithm': 'SAMME.R', 'learning_rate': 0.2, 'n_estimators': 200}"
      ]
     },
     "execution_count": 92,
     "metadata": {},
     "output_type": "execute_result"
    }
   ],
   "source": [
    "adaMean.best_params_"
   ]
  },
  {
   "cell_type": "code",
   "execution_count": 136,
   "metadata": {},
   "outputs": [],
   "source": [
    "# Combine Train+Validation data sets\n",
    "frames=pd.concat([Mean_train, Mean_vali])\n",
    "datadummy=pd.get_dummies(frames)\n",
    "MeanX=np.array(datadummy.drop('Default_ind', axis=1))\n",
    "Meany=datadummy['Default_ind']\n"
   ]
  },
  {
   "cell_type": "code",
   "execution_count": 140,
   "metadata": {},
   "outputs": [],
   "source": [
    "t=time.time()\n",
    "from sklearn.ensemble import AdaBoostClassifier\n",
    "adaMeanf = AdaBoostClassifier(algorithm='SAMME.R', learning_rate=0.1,n_estimators=200)\n",
    "adaMeanfull=adaMeanf.fit(MeanX,Meany)\n",
    "elapsed = time.time() - t"
   ]
  },
  {
   "cell_type": "code",
   "execution_count": 141,
   "metadata": {},
   "outputs": [
    {
     "name": "stdout",
     "output_type": "stream",
     "text": [
      "13.530037879943848\n"
     ]
    },
    {
     "data": {
      "text/plain": [
       "0.7969883979264379"
      ]
     },
     "execution_count": 141,
     "metadata": {},
     "output_type": "execute_result"
    }
   ],
   "source": [
    "print(elapsed)\n",
    "adaMeanfull.score(x1,y1)"
   ]
  },
  {
   "cell_type": "code",
   "execution_count": 142,
   "metadata": {},
   "outputs": [
    {
     "name": "stdout",
     "output_type": "stream",
     "text": [
      "0.801\n"
     ]
    },
    {
     "data": {
      "text/plain": [
       "array([[3679,  920],\n",
       "       [  75,  326]])"
      ]
     },
     "execution_count": 142,
     "metadata": {},
     "output_type": "execute_result"
    }
   ],
   "source": [
    "# Prediction and Confusion Matrix\n",
    "datadummy = pd.get_dummies(Mean_test)\n",
    "testX = np.array(datadummy.drop('Default_ind', axis=1))\n",
    "testy = datadummy['Default_ind']\n",
    "\n",
    "print(adaMeanfull.score(testX,testy))\n",
    "y_pred=adaMeanfull.predict(testX)\n",
    "\n",
    "confusion_matrix( testy,y_pred)"
   ]
  },
  {
   "cell_type": "markdown",
   "metadata": {},
   "source": [
    "# ListWise Deletion"
   ]
  },
  {
   "cell_type": "code",
   "execution_count": 36,
   "metadata": {},
   "outputs": [
    {
     "data": {
      "text/plain": [
       "0.802693121220246"
      ]
     },
     "execution_count": 36,
     "metadata": {},
     "output_type": "execute_result"
    }
   ],
   "source": [
    "t = time.time()\n",
    "adaDrop,x1,y1 = best_adaboost(Drop_train,Drop_vali,parameter_space)\n",
    "elapsed = time.time() - t"
   ]
  },
  {
   "cell_type": "code",
   "execution_count": 49,
   "metadata": {},
   "outputs": [
    {
     "data": {
      "text/plain": [
       "0.802693121220246"
      ]
     },
     "execution_count": 49,
     "metadata": {},
     "output_type": "execute_result"
    }
   ],
   "source": [
    "adaDrop.score(x1,y1)"
   ]
  },
  {
   "cell_type": "code",
   "execution_count": 48,
   "metadata": {},
   "outputs": [
    {
     "data": {
      "text/plain": [
       "0.8084798843652132"
      ]
     },
     "execution_count": 48,
     "metadata": {},
     "output_type": "execute_result"
    }
   ],
   "source": [
    "datadummy=pd.get_dummies(Drop_test)\n",
    "testX=np.array(datadummy.drop('Default_ind', axis=1))\n",
    "testy=datadummy['Default_ind']\n",
    "adaDrop.score(testX,testy)"
   ]
  },
  {
   "cell_type": "code",
   "execution_count": 45,
   "metadata": {},
   "outputs": [
    {
     "data": {
      "text/plain": [
       "array([[3084,  726],\n",
       "       [  69,  272]])"
      ]
     },
     "execution_count": 45,
     "metadata": {},
     "output_type": "execute_result"
    }
   ],
   "source": [
    "y_pred=adaDrop.predict(testX)\n",
    "from sklearn.metrics import confusion_matrix\n",
    "confusion_matrix( testy,y_pred)"
   ]
  },
  {
   "cell_type": "code",
   "execution_count": 46,
   "metadata": {},
   "outputs": [
    {
     "data": {
      "text/plain": [
       "{'algorithm': 'SAMME.R', 'learning_rate': 0.1, 'n_estimators': 150}"
      ]
     },
     "execution_count": 46,
     "metadata": {},
     "output_type": "execute_result"
    }
   ],
   "source": [
    "adaDrop.best_params_"
   ]
  },
  {
   "cell_type": "code",
   "execution_count": 50,
   "metadata": {},
   "outputs": [],
   "source": [
    "parameter_space = {\n",
    "        'learning_rate':[0.2,0.15,0.1,0.07],\n",
    "        'n_estimators': [100,150,200,250],     \n",
    "        'algorithm':['SAMME.R','SAMME']\n",
    "    }"
   ]
  },
  {
   "cell_type": "code",
   "execution_count": 54,
   "metadata": {},
   "outputs": [],
   "source": [
    "t = time.time()\n",
    "adaDrop2,x2,y2 = best_adaboost(Drop_train,Drop_vali,parameter_space)\n",
    "elapsed = time.time() - t"
   ]
  },
  {
   "cell_type": "code",
   "execution_count": 56,
   "metadata": {},
   "outputs": [
    {
     "name": "stdout",
     "output_type": "stream",
     "text": [
      "502.656769990921\n"
     ]
    },
    {
     "data": {
      "text/plain": [
       "0.8074001251228885"
      ]
     },
     "execution_count": 56,
     "metadata": {},
     "output_type": "execute_result"
    }
   ],
   "source": [
    "print(elapsed)\n",
    "adaDrop2.score(x2,y2)"
   ]
  },
  {
   "cell_type": "code",
   "execution_count": 57,
   "metadata": {},
   "outputs": [
    {
     "name": "stdout",
     "output_type": "stream",
     "text": [
      "0.8094435075885329\n"
     ]
    },
    {
     "data": {
      "text/plain": [
       "array([[3090,  720],\n",
       "       [  71,  270]])"
      ]
     },
     "execution_count": 57,
     "metadata": {},
     "output_type": "execute_result"
    }
   ],
   "source": [
    "# Confusion MAtrix\n",
    "print(adaDrop2.score(testX,testy))\n",
    "y_pred=adaDrop2.predict(testX)\n",
    "\n",
    "confusion_matrix( testy,y_pred)"
   ]
  },
  {
   "cell_type": "code",
   "execution_count": 58,
   "metadata": {},
   "outputs": [
    {
     "data": {
      "text/plain": [
       "{'algorithm': 'SAMME.R', 'learning_rate': 0.1, 'n_estimators': 150}"
      ]
     },
     "execution_count": 58,
     "metadata": {},
     "output_type": "execute_result"
    }
   ],
   "source": [
    "adaDrop.best_params_"
   ]
  },
  {
   "cell_type": "code",
   "execution_count": 143,
   "metadata": {},
   "outputs": [],
   "source": [
    "# Combine Train+Validation data sets\n",
    "frames=pd.concat([Drop_train, Drop_vali])\n",
    "datadummy=pd.get_dummies(frames)\n",
    "DropX=np.array(datadummy.drop('Default_ind', axis=1))\n",
    "Dropy=datadummy['Default_ind']\n"
   ]
  },
  {
   "cell_type": "code",
   "execution_count": 144,
   "metadata": {},
   "outputs": [],
   "source": [
    "t=time.time()\n",
    "from sklearn.ensemble import AdaBoostClassifier\n",
    "adaDropf = AdaBoostClassifier(algorithm='SAMME.R', learning_rate=0.1,n_estimators=200)\n",
    "adaDropfull=adaDropf.fit(DropX,Dropy)\n",
    "elapsed = time.time() - t"
   ]
  },
  {
   "cell_type": "code",
   "execution_count": 145,
   "metadata": {},
   "outputs": [
    {
     "name": "stdout",
     "output_type": "stream",
     "text": [
      "28.660887956619263\n"
     ]
    },
    {
     "data": {
      "text/plain": [
       "0.7975808442359911"
      ]
     },
     "execution_count": 145,
     "metadata": {},
     "output_type": "execute_result"
    }
   ],
   "source": [
    "print(elapsed)\n",
    "adaDropfull.score(x1,y1)"
   ]
  },
  {
   "cell_type": "code",
   "execution_count": 146,
   "metadata": {},
   "outputs": [
    {
     "name": "stdout",
     "output_type": "stream",
     "text": [
      "0.8096844133943628\n"
     ]
    },
    {
     "data": {
      "text/plain": [
       "array([[3088,  722],\n",
       "       [  68,  273]])"
      ]
     },
     "execution_count": 146,
     "metadata": {},
     "output_type": "execute_result"
    }
   ],
   "source": [
    "# Prediction and Confusion Matrix\n",
    "datadummy = pd.get_dummies(Drop_test)\n",
    "testX = np.array(datadummy.drop('Default_ind', axis=1))\n",
    "testy = datadummy['Default_ind']\n",
    "\n",
    "print(adaDropfull.score(testX,testy))\n",
    "y_pred=adaDropfull.predict(testX)\n",
    "\n",
    "confusion_matrix( testy,y_pred)"
   ]
  },
  {
   "cell_type": "code",
   "execution_count": 180,
   "metadata": {},
   "outputs": [
    {
     "data": {
      "text/plain": [
       "0.18950131233595802"
      ]
     },
     "execution_count": 180,
     "metadata": {},
     "output_type": "execute_result"
    }
   ],
   "source": [
    "722/(3088+ 722)"
   ]
  },
  {
   "cell_type": "markdown",
   "metadata": {},
   "source": [
    "# Read in More Data"
   ]
  },
  {
   "cell_type": "code",
   "execution_count": 93,
   "metadata": {},
   "outputs": [],
   "source": [
    "EM_train = pd.read_csv(\"/Users/BB10190915/Desktop/Data_Comp/TrainData/EM_impute.csv\")\n",
    "EM_vali = pd.read_csv(\"/Users/BB10190915/Desktop/Data_Comp/ValiData/EM_validatiion.csv\")\n",
    "EM_test = pd.read_csv(\"/Users/BB10190915/Desktop/Data_Comp/TestData/EM_Impute.csv\")\n",
    "\n",
    "EMB_vali = pd.read_csv(\"/Users/BB10190915/Desktop/Data_Comp/ValiData/EMB_impute_Vali.csv\")\n",
    "EMB_test = pd.read_csv(\"/Users/BB10190915/Desktop/Data_Comp/TestData/EMB_impute_Test.csv\")\n",
    "\n",
    "RF_train = pd.read_csv(\"/Users/BB10190915/Desktop/Data_Comp/TrainData/rf_Train.csv\")\n",
    "RF_vali = pd.read_csv(\"/Users/BB10190915/Desktop/Data_Comp/ValiData/rf_Vali.csv\")\n",
    "RF_test = pd.read_csv(\"/Users/BB10190915/Desktop/Data_Comp/TestData/rf_Test.csv\")\n",
    "\n",
    "Cart_train = pd.read_csv(\"/Users/BB10190915/Desktop/Data_Comp/TrainData/ZCart_impute.csv\")\n",
    "Cart_vali = pd.read_csv(\"/Users/BB10190915/Desktop/Data_Comp/ValiData/ZCart_impute_Vali.csv\")\n",
    "Cart_test = pd.read_csv(\"/Users/BB10190915/Desktop/Data_Comp/TestData/ZCart_impute_Test.csv\")\n",
    "\n",
    "Median_train = pd.read_csv(\"/Users/BB10190915/Desktop/Data_Comp/TrainData/Unconditional_median_impute.csv\")\n",
    "Median_vali = pd.read_csv(\"/Users/BB10190915/Desktop/Data_Comp/ValiData/Unconditional_median_impute_Validation.csv\")\n",
    "Median_test = pd.read_csv(\"/Users/BB10190915/Desktop/Data_Comp/TestData/Unconditional_median_impute_Test.csv\")\n"
   ]
  },
  {
   "cell_type": "code",
   "execution_count": 94,
   "metadata": {},
   "outputs": [],
   "source": [
    "EM_train = upsample(EM_train)\n",
    "EM_vali = upsample(EM_vali)\n",
    "\n",
    "EMB_train = upsample(EMB_train)\n",
    "EMB_vali = upsample(EMB_vali)\n",
    "\n",
    "RF_train = upsample(RF_train)\n",
    "RF_vali = upsample(RF_vali)\n",
    "\n",
    "Cart_train = upsample(Cart_train)\n",
    "Cart_vali = upsample(Cart_vali)\n",
    "\n",
    "Median_train = upsample(Median_train)\n",
    "Median_vali = upsample(Median_vali)"
   ]
  },
  {
   "cell_type": "code",
   "execution_count": 95,
   "metadata": {},
   "outputs": [],
   "source": [
    "# Factorization\n",
    "EM_train = dpai.Cate_to_object_excp_inq(EM_train)\n",
    "EM_vali = dpai.Cate_to_object_excp_inq(EM_vali)\n",
    "EM_test= dpai.Cate_to_object_excp_inq(EM_test)\n",
    "#####Input contains NaN, infinity or a value too large for dtype('float64').  NOOOOOOOO\n",
    "\n",
    "EMB_train = dpai.Cate_to_object_excp_inq(EMB_train)\n",
    "EMB_vali = dpai.Cate_to_object_excp_inq(EMB_vali)\n",
    "EMB_test= dpai.Cate_to_object_excp_inq(EMB_test)\n",
    "\n",
    "RF_train = dpai.Cate_to_object_excp_inq(RF_train)\n",
    "RF_vali = dpai.Cate_to_object_excp_inq(RF_vali)\n",
    "RF_test= dpai.Cate_to_object_excp_inq(RF_test)\n",
    "\n",
    "\n",
    "Cart_train = dpai.Cate_to_object_excp_inq(Cart_train)\n",
    "Cart_vali = dpai.Cate_to_object_excp_inq(Cart_vali)\n",
    "Cart_test= dpai.Cate_to_object_excp_inq(Cart_test)\n",
    "\n",
    "\n",
    "Median_train = dpai.Cate_to_object_excp_inq(Median_train)\n",
    "Median_vali = dpai.Cate_to_object_excp_inq(Median_vali)\n",
    "Median_test= dpai.Cate_to_object_excp_inq(Median_test)\n"
   ]
  },
  {
   "cell_type": "code",
   "execution_count": 83,
   "metadata": {},
   "outputs": [],
   "source": [
    "# Tunning Paramter Space\n",
    "parameter_space0 = {\n",
    "        'learning_rate':[0.1,0.01,0.001],\n",
    "        'n_estimators': [50,100,150],     \n",
    "        'algorithm':['SAMME.R','SAMME']\n",
    "    }"
   ]
  },
  {
   "cell_type": "markdown",
   "metadata": {},
   "source": [
    "# EM"
   ]
  },
  {
   "cell_type": "code",
   "execution_count": 111,
   "metadata": {},
   "outputs": [],
   "source": [
    "t = time.time()\n",
    "adaEM,x1,y1 = best_adaboost(EM_train,EM_vali,parameter_space0)\n",
    "elapsed = time.time() - t"
   ]
  },
  {
   "cell_type": "code",
   "execution_count": 112,
   "metadata": {},
   "outputs": [
    {
     "name": "stdout",
     "output_type": "stream",
     "text": [
      "175.529217004776\n"
     ]
    },
    {
     "data": {
      "text/plain": [
       "0.7979881510738089"
      ]
     },
     "execution_count": 112,
     "metadata": {},
     "output_type": "execute_result"
    }
   ],
   "source": [
    "print(elapsed)\n",
    "adaEM.score(x1,y1)"
   ]
  },
  {
   "cell_type": "code",
   "execution_count": 113,
   "metadata": {},
   "outputs": [
    {
     "name": "stdout",
     "output_type": "stream",
     "text": [
      "0.8026\n"
     ]
    },
    {
     "data": {
      "text/plain": [
       "array([[3686,  913],\n",
       "       [  74,  327]])"
      ]
     },
     "execution_count": 113,
     "metadata": {},
     "output_type": "execute_result"
    }
   ],
   "source": [
    "# Prediction and Confusion MAtrix\n",
    "datadummy = pd.get_dummies(EM_test)\n",
    "testX = np.array(datadummy.drop('Default_ind', axis=1))\n",
    "testy = datadummy['Default_ind']\n",
    "\n",
    "print(adaEM.score(testX,testy))\n",
    "y_pred=adaEM.predict(testX)\n",
    "\n",
    "confusion_matrix( testy,y_pred)"
   ]
  },
  {
   "cell_type": "code",
   "execution_count": 115,
   "metadata": {},
   "outputs": [
    {
     "data": {
      "text/plain": [
       "{'algorithm': 'SAMME.R', 'learning_rate': 0.1, 'n_estimators': 150}"
      ]
     },
     "execution_count": 115,
     "metadata": {},
     "output_type": "execute_result"
    }
   ],
   "source": [
    "adaEM.best_params_"
   ]
  },
  {
   "cell_type": "code",
   "execution_count": 147,
   "metadata": {},
   "outputs": [],
   "source": [
    "# Combine Train+Validation data sets\n",
    "frames=pd.concat([EM_train, EM_vali])\n",
    "datadummy=pd.get_dummies(frames)\n",
    "EMX=np.array(datadummy.drop('Default_ind', axis=1))\n",
    "EMy=datadummy['Default_ind']\n"
   ]
  },
  {
   "cell_type": "code",
   "execution_count": 160,
   "metadata": {},
   "outputs": [],
   "source": [
    "t=time.time()\n",
    "from sklearn.ensemble import AdaBoostClassifier\n",
    "adaEMf = AdaBoostClassifier(algorithm='SAMME.R', learning_rate=0.1,n_estimators=150)\n",
    "adaEMfull=adaEMf.fit(EMX,EMy)\n",
    "elapsed = time.time() - t"
   ]
  },
  {
   "cell_type": "code",
   "execution_count": 161,
   "metadata": {},
   "outputs": [
    {
     "name": "stdout",
     "output_type": "stream",
     "text": [
      "22.03677535057068\n"
     ]
    },
    {
     "data": {
      "text/plain": [
       "0.7979881510738089"
      ]
     },
     "execution_count": 161,
     "metadata": {},
     "output_type": "execute_result"
    }
   ],
   "source": [
    "print(elapsed)\n",
    "adaEMfull.score(x1,y1)"
   ]
  },
  {
   "cell_type": "code",
   "execution_count": 162,
   "metadata": {},
   "outputs": [
    {
     "name": "stdout",
     "output_type": "stream",
     "text": [
      "0.8026\n"
     ]
    },
    {
     "data": {
      "text/plain": [
       "array([[3686,  913],\n",
       "       [  74,  327]])"
      ]
     },
     "execution_count": 162,
     "metadata": {},
     "output_type": "execute_result"
    }
   ],
   "source": [
    "# Prediction and Confusion Matrix\n",
    "datadummy = pd.get_dummies(EM_test)\n",
    "testX = np.array(datadummy.drop('Default_ind', axis=1))\n",
    "testy = datadummy['Default_ind']\n",
    "\n",
    "print(adaEMfull.score(testX,testy))\n",
    "y_pred=adaEMfull.predict(testX)\n",
    "\n",
    "confusion_matrix( testy,y_pred)"
   ]
  },
  {
   "cell_type": "markdown",
   "metadata": {},
   "source": [
    "# EMB"
   ]
  },
  {
   "cell_type": "code",
   "execution_count": 68,
   "metadata": {},
   "outputs": [],
   "source": [
    "t = time.time()\n",
    "adaEMB,x1,y1 = best_adaboost(EMB_train,EMB_vali,parameter_space0)\n",
    "elapsed = time.time() - t"
   ]
  },
  {
   "cell_type": "code",
   "execution_count": 69,
   "metadata": {},
   "outputs": [
    {
     "name": "stdout",
     "output_type": "stream",
     "text": [
      "178.66418313980103\n"
     ]
    },
    {
     "data": {
      "text/plain": [
       "0.7916604105446043"
      ]
     },
     "execution_count": 69,
     "metadata": {},
     "output_type": "execute_result"
    }
   ],
   "source": [
    "print(elapsed)\n",
    "adaEMB.score(x1,y1)"
   ]
  },
  {
   "cell_type": "code",
   "execution_count": 70,
   "metadata": {},
   "outputs": [
    {
     "name": "stdout",
     "output_type": "stream",
     "text": [
      "0.8042\n"
     ]
    },
    {
     "data": {
      "text/plain": [
       "array([[3693,  906],\n",
       "       [  73,  328]])"
      ]
     },
     "execution_count": 70,
     "metadata": {},
     "output_type": "execute_result"
    }
   ],
   "source": [
    "# Prediction and Confusion MAtrix\n",
    "datadummy = pd.get_dummies(EMB_test)\n",
    "testX = np.array(datadummy.drop('Default_ind', axis=1))\n",
    "testy = datadummy['Default_ind']\n",
    "\n",
    "print(adaEMB.score(testX,testy))\n",
    "y_pred=adaEMB.predict(testX)\n",
    "\n",
    "confusion_matrix( testy,y_pred)"
   ]
  },
  {
   "cell_type": "code",
   "execution_count": 71,
   "metadata": {},
   "outputs": [
    {
     "data": {
      "text/plain": [
       "{'algorithm': 'SAMME.R', 'learning_rate': 0.1, 'n_estimators': 150}"
      ]
     },
     "execution_count": 71,
     "metadata": {},
     "output_type": "execute_result"
    }
   ],
   "source": [
    "adaEMB.best_params_"
   ]
  },
  {
   "cell_type": "code",
   "execution_count": 151,
   "metadata": {},
   "outputs": [],
   "source": [
    "# Combine Train+Validation data sets\n",
    "frames=pd.concat([EMB_train, EMB_vali])\n",
    "datadummy=pd.get_dummies(frames)\n",
    "EMBX=np.array(datadummy.drop('Default_ind', axis=1))\n",
    "EMBy=datadummy['Default_ind']\n"
   ]
  },
  {
   "cell_type": "code",
   "execution_count": 157,
   "metadata": {},
   "outputs": [],
   "source": [
    "t=time.time()\n",
    "from sklearn.ensemble import AdaBoostClassifier\n",
    "adaEMBf = AdaBoostClassifier(algorithm='SAMME.R', learning_rate=0.1,n_estimators=150)\n",
    "adaEMBfull=adaEMBf.fit(EMBX,EMBy)\n",
    "elapsed = time.time() - t"
   ]
  },
  {
   "cell_type": "code",
   "execution_count": 158,
   "metadata": {},
   "outputs": [
    {
     "name": "stdout",
     "output_type": "stream",
     "text": [
      "12.989346981048584\n"
     ]
    },
    {
     "data": {
      "text/plain": [
       "0.7944705011108368"
      ]
     },
     "execution_count": 158,
     "metadata": {},
     "output_type": "execute_result"
    }
   ],
   "source": [
    "print(elapsed)\n",
    "adaEMBfull.score(x1,y1)"
   ]
  },
  {
   "cell_type": "code",
   "execution_count": 159,
   "metadata": {},
   "outputs": [
    {
     "name": "stdout",
     "output_type": "stream",
     "text": [
      "0.8014\n"
     ]
    },
    {
     "data": {
      "text/plain": [
       "array([[3680,  919],\n",
       "       [  74,  327]])"
      ]
     },
     "execution_count": 159,
     "metadata": {},
     "output_type": "execute_result"
    }
   ],
   "source": [
    "# Prediction and Confusion Matrix\n",
    "datadummy = pd.get_dummies(EMB_test)\n",
    "testX = np.array(datadummy.drop('Default_ind', axis=1))\n",
    "testy = datadummy['Default_ind']\n",
    "\n",
    "print(adaEMBfull.score(testX,testy))\n",
    "y_pred=adaEMBfull.predict(testX)\n",
    "\n",
    "confusion_matrix( testy,y_pred)"
   ]
  },
  {
   "cell_type": "code",
   "execution_count": 196,
   "metadata": {},
   "outputs": [
    {
     "data": {
      "text/plain": [
       "0.19982604914111762"
      ]
     },
     "execution_count": 196,
     "metadata": {},
     "output_type": "execute_result"
    }
   ],
   "source": [
    "919/(3680+  919)"
   ]
  },
  {
   "cell_type": "markdown",
   "metadata": {},
   "source": [
    "# RF dataset"
   ]
  },
  {
   "cell_type": "code",
   "execution_count": 72,
   "metadata": {},
   "outputs": [],
   "source": [
    "t = time.time()\n",
    "adaRF,x1,y1 = best_adaboost(RF_train,RF_vali,parameter_space0)\n",
    "elapsed = time.time() - t"
   ]
  },
  {
   "cell_type": "code",
   "execution_count": 73,
   "metadata": {},
   "outputs": [
    {
     "name": "stdout",
     "output_type": "stream",
     "text": [
      "159.11242508888245\n"
     ]
    },
    {
     "data": {
      "text/plain": [
       "0.7958001758864032"
      ]
     },
     "execution_count": 73,
     "metadata": {},
     "output_type": "execute_result"
    }
   ],
   "source": [
    "print(elapsed)\n",
    "adaRF.score(x1,y1)\n"
   ]
  },
  {
   "cell_type": "code",
   "execution_count": 74,
   "metadata": {},
   "outputs": [
    {
     "name": "stdout",
     "output_type": "stream",
     "text": [
      "0.8008\n"
     ]
    },
    {
     "data": {
      "text/plain": [
       "array([[3679,  920],\n",
       "       [  76,  325]])"
      ]
     },
     "execution_count": 74,
     "metadata": {},
     "output_type": "execute_result"
    }
   ],
   "source": [
    "# Prediction and Confusion MAtrix\n",
    "datadummy = pd.get_dummies(RF_test)\n",
    "testX = np.array(datadummy.drop('Default_ind', axis=1))\n",
    "testy = datadummy['Default_ind']\n",
    "\n",
    "print(adaRF.score(testX,testy))\n",
    "y_pred=adaRF.predict(testX)\n",
    "\n",
    "confusion_matrix( testy,y_pred)"
   ]
  },
  {
   "cell_type": "code",
   "execution_count": 75,
   "metadata": {},
   "outputs": [
    {
     "data": {
      "text/plain": [
       "{'algorithm': 'SAMME.R', 'learning_rate': 0.1, 'n_estimators': 150}"
      ]
     },
     "execution_count": 75,
     "metadata": {},
     "output_type": "execute_result"
    }
   ],
   "source": [
    "adaRF.best_params_"
   ]
  },
  {
   "cell_type": "code",
   "execution_count": 156,
   "metadata": {},
   "outputs": [],
   "source": [
    "# Combine Train+Validation data sets\n",
    "frames=pd.concat([RF_train, RF_vali])\n",
    "datadummy=pd.get_dummies(frames)\n",
    "RFX=np.array(datadummy.drop('Default_ind', axis=1))\n",
    "RFy=datadummy['Default_ind']\n"
   ]
  },
  {
   "cell_type": "code",
   "execution_count": 166,
   "metadata": {},
   "outputs": [],
   "source": [
    "t=time.time()\n",
    "from sklearn.ensemble import AdaBoostClassifier\n",
    "adaRFf = AdaBoostClassifier(algorithm='SAMME.R', learning_rate=0.1,n_estimators=150)\n",
    "adaRFfull=adaRFf.fit(RFX,RFy)\n",
    "elapsed = time.time() - t"
   ]
  },
  {
   "cell_type": "code",
   "execution_count": 167,
   "metadata": {},
   "outputs": [
    {
     "name": "stdout",
     "output_type": "stream",
     "text": [
      "12.790457010269165\n"
     ]
    },
    {
     "data": {
      "text/plain": [
       "0.795988644779067"
      ]
     },
     "execution_count": 167,
     "metadata": {},
     "output_type": "execute_result"
    }
   ],
   "source": [
    "print(elapsed)\n",
    "adaRFfull.score(x1,y1)"
   ]
  },
  {
   "cell_type": "code",
   "execution_count": 168,
   "metadata": {},
   "outputs": [
    {
     "name": "stdout",
     "output_type": "stream",
     "text": [
      "0.8008\n"
     ]
    },
    {
     "data": {
      "text/plain": [
       "array([[3679,  920],\n",
       "       [  76,  325]])"
      ]
     },
     "execution_count": 168,
     "metadata": {},
     "output_type": "execute_result"
    }
   ],
   "source": [
    "# Prediction and Confusion Matrix\n",
    "datadummy = pd.get_dummies(RF_test)\n",
    "testX = np.array(datadummy.drop('Default_ind', axis=1))\n",
    "testy = datadummy['Default_ind']\n",
    "\n",
    "print(adaRFfull.score(testX,testy))\n",
    "y_pred=adaRFfull.predict(testX)\n",
    "\n",
    "confusion_matrix( testy,y_pred)"
   ]
  },
  {
   "cell_type": "markdown",
   "metadata": {},
   "source": [
    "# Cart"
   ]
  },
  {
   "cell_type": "code",
   "execution_count": 97,
   "metadata": {},
   "outputs": [],
   "source": [
    "t = time.time()\n",
    "adaCart,x1,y1 = best_adaboost(Cart_train,Cart_vali,parameter_space0)\n",
    "elapsed = time.time() - t"
   ]
  },
  {
   "cell_type": "code",
   "execution_count": 98,
   "metadata": {},
   "outputs": [
    {
     "name": "stdout",
     "output_type": "stream",
     "text": [
      "177.0503761768341\n"
     ]
    },
    {
     "data": {
      "text/plain": [
       "0.7923038973852985"
      ]
     },
     "execution_count": 98,
     "metadata": {},
     "output_type": "execute_result"
    }
   ],
   "source": [
    "print(elapsed)\n",
    "adaCart.score(x1,y1)\n"
   ]
  },
  {
   "cell_type": "code",
   "execution_count": 99,
   "metadata": {},
   "outputs": [
    {
     "name": "stdout",
     "output_type": "stream",
     "text": [
      "0.8036\n"
     ]
    },
    {
     "data": {
      "text/plain": [
       "array([[3689,  910],\n",
       "       [  72,  329]])"
      ]
     },
     "execution_count": 99,
     "metadata": {},
     "output_type": "execute_result"
    }
   ],
   "source": [
    "# Prediction and Confusion MAtrix\n",
    "datadummy = pd.get_dummies(Cart_test)\n",
    "testX = np.array(datadummy.drop('Default_ind', axis=1))\n",
    "testy = datadummy['Default_ind']\n",
    "\n",
    "print(adaCart.score(testX,testy))\n",
    "y_pred=adaCart.predict(testX)\n",
    "\n",
    "confusion_matrix( testy,y_pred)"
   ]
  },
  {
   "cell_type": "code",
   "execution_count": 100,
   "metadata": {},
   "outputs": [
    {
     "data": {
      "text/plain": [
       "{'algorithm': 'SAMME.R', 'learning_rate': 0.1, 'n_estimators': 100}"
      ]
     },
     "execution_count": 100,
     "metadata": {},
     "output_type": "execute_result"
    }
   ],
   "source": [
    "adaCart.best_params_"
   ]
  },
  {
   "cell_type": "code",
   "execution_count": 169,
   "metadata": {},
   "outputs": [],
   "source": [
    "# Combine Train+Validation data sets\n",
    "frames=pd.concat([Cart_train, Cart_vali])\n",
    "datadummy=pd.get_dummies(frames)\n",
    "CartX=np.array(datadummy.drop('Default_ind', axis=1))\n",
    "Carty=datadummy['Default_ind']\n"
   ]
  },
  {
   "cell_type": "code",
   "execution_count": 170,
   "metadata": {},
   "outputs": [],
   "source": [
    "t=time.time()\n",
    "from sklearn.ensemble import AdaBoostClassifier\n",
    "adaCartf = AdaBoostClassifier(algorithm='SAMME.R', learning_rate=0.1,n_estimators=150)\n",
    "adaCartfull=adaCartf.fit(CartX,Carty)\n",
    "elapsed = time.time() - t"
   ]
  },
  {
   "cell_type": "code",
   "execution_count": 171,
   "metadata": {},
   "outputs": [
    {
     "name": "stdout",
     "output_type": "stream",
     "text": [
      "10.269256114959717\n"
     ]
    },
    {
     "data": {
      "text/plain": [
       "0.7969513700320908"
      ]
     },
     "execution_count": 171,
     "metadata": {},
     "output_type": "execute_result"
    }
   ],
   "source": [
    "print(elapsed)\n",
    "adaCartfull.score(x1,y1)"
   ]
  },
  {
   "cell_type": "code",
   "execution_count": 172,
   "metadata": {},
   "outputs": [
    {
     "name": "stdout",
     "output_type": "stream",
     "text": [
      "0.8006\n"
     ]
    },
    {
     "data": {
      "text/plain": [
       "array([[3676,  923],\n",
       "       [  74,  327]])"
      ]
     },
     "execution_count": 172,
     "metadata": {},
     "output_type": "execute_result"
    }
   ],
   "source": [
    "# Prediction and Confusion Matrix\n",
    "datadummy = pd.get_dummies(Cart_test)\n",
    "testX = np.array(datadummy.drop('Default_ind', axis=1))\n",
    "testy = datadummy['Default_ind']\n",
    "\n",
    "print(adaCartfull.score(testX,testy))\n",
    "y_pred=adaCartfull.predict(testX)\n",
    "\n",
    "confusion_matrix( testy,y_pred)"
   ]
  },
  {
   "cell_type": "code",
   "execution_count": 190,
   "metadata": {},
   "outputs": [
    {
     "data": {
      "text/plain": [
       "0.20069580343552945"
      ]
     },
     "execution_count": 190,
     "metadata": {},
     "output_type": "execute_result"
    }
   ],
   "source": [
    "923/(3676+ 923)"
   ]
  },
  {
   "cell_type": "markdown",
   "metadata": {},
   "source": [
    "# Median"
   ]
  },
  {
   "cell_type": "code",
   "execution_count": 101,
   "metadata": {},
   "outputs": [],
   "source": [
    "t = time.time()\n",
    "adaMedian,x1,y1 = best_adaboost(Median_train,Median_vali,parameter_space0)\n",
    "elapsed = time.time() - t"
   ]
  },
  {
   "cell_type": "code",
   "execution_count": 102,
   "metadata": {},
   "outputs": [
    {
     "name": "stdout",
     "output_type": "stream",
     "text": [
      "160.8201470375061\n"
     ]
    },
    {
     "data": {
      "text/plain": [
       "0.7928401364192103"
      ]
     },
     "execution_count": 102,
     "metadata": {},
     "output_type": "execute_result"
    }
   ],
   "source": [
    "print(elapsed)\n",
    "adaMedian.score(x1,y1)"
   ]
  },
  {
   "cell_type": "code",
   "execution_count": 103,
   "metadata": {},
   "outputs": [
    {
     "name": "stdout",
     "output_type": "stream",
     "text": [
      "0.8044\n"
     ]
    },
    {
     "data": {
      "text/plain": [
       "array([[3693,  906],\n",
       "       [  72,  329]])"
      ]
     },
     "execution_count": 103,
     "metadata": {},
     "output_type": "execute_result"
    }
   ],
   "source": [
    "# Prediction and Confusion MAtrix\n",
    "datadummy = pd.get_dummies(Median_test)\n",
    "testX = np.array(datadummy.drop('Default_ind', axis=1))\n",
    "testy = datadummy['Default_ind']\n",
    "\n",
    "print(adaMedian.score(testX,testy))\n",
    "y_pred=adaMedian.predict(testX)\n",
    "\n",
    "confusion_matrix( testy,y_pred)"
   ]
  },
  {
   "cell_type": "code",
   "execution_count": 104,
   "metadata": {},
   "outputs": [
    {
     "data": {
      "text/plain": [
       "{'algorithm': 'SAMME.R', 'learning_rate': 0.1, 'n_estimators': 100}"
      ]
     },
     "execution_count": 104,
     "metadata": {},
     "output_type": "execute_result"
    }
   ],
   "source": [
    "adaMedian.best_params_"
   ]
  },
  {
   "cell_type": "code",
   "execution_count": 173,
   "metadata": {},
   "outputs": [],
   "source": [
    "# Combine Train+Validation data sets\n",
    "frames=pd.concat([Median_train, Median_vali])\n",
    "datadummy=pd.get_dummies(frames)\n",
    "MedianX=np.array(datadummy.drop('Default_ind', axis=1))\n",
    "Mediany=datadummy['Default_ind']"
   ]
  },
  {
   "cell_type": "code",
   "execution_count": 174,
   "metadata": {},
   "outputs": [],
   "source": [
    "t=time.time()\n",
    "from sklearn.ensemble import AdaBoostClassifier\n",
    "adaMedianf = AdaBoostClassifier(algorithm='SAMME.R', learning_rate=0.1,n_estimators=150)\n",
    "adaMedianfull=adaMedianf.fit(MedianX,Mediany)\n",
    "elapsed = time.time() - t"
   ]
  },
  {
   "cell_type": "code",
   "execution_count": 175,
   "metadata": {},
   "outputs": [
    {
     "name": "stdout",
     "output_type": "stream",
     "text": [
      "10.535698890686035\n"
     ]
    },
    {
     "data": {
      "text/plain": [
       "0.7980375215996051"
      ]
     },
     "execution_count": 175,
     "metadata": {},
     "output_type": "execute_result"
    }
   ],
   "source": [
    "print(elapsed)\n",
    "adaMedianfull.score(x1,y1)"
   ]
  },
  {
   "cell_type": "code",
   "execution_count": 176,
   "metadata": {},
   "outputs": [
    {
     "name": "stdout",
     "output_type": "stream",
     "text": [
      "0.8008\n"
     ]
    },
    {
     "data": {
      "text/plain": [
       "array([[3677,  922],\n",
       "       [  74,  327]])"
      ]
     },
     "execution_count": 176,
     "metadata": {},
     "output_type": "execute_result"
    }
   ],
   "source": [
    "# Prediction and Confusion Matrix\n",
    "datadummy = pd.get_dummies(Median_test)\n",
    "testX = np.array(datadummy.drop('Default_ind', axis=1))\n",
    "testy = datadummy['Default_ind']\n",
    "\n",
    "print(adaMedianfull.score(testX,testy))\n",
    "y_pred=adaMedianfull.predict(testX)\n",
    "\n",
    "confusion_matrix( testy,y_pred)"
   ]
  },
  {
   "cell_type": "code",
   "execution_count": 183,
   "metadata": {},
   "outputs": [
    {
     "data": {
      "text/plain": [
       "0.2004783648619265"
      ]
     },
     "execution_count": 183,
     "metadata": {},
     "output_type": "execute_result"
    }
   ],
   "source": [
    "922/(3677+  922)"
   ]
  },
  {
   "cell_type": "markdown",
   "metadata": {},
   "source": [
    "# Tune more parameters"
   ]
  },
  {
   "cell_type": "code",
   "execution_count": 106,
   "metadata": {},
   "outputs": [],
   "source": [
    "parameter_space2 = {\n",
    "        'learning_rate':[0.15,0.125,0.1,0.075,0.05],\n",
    "        'n_estimators': [80,90,100,120,130],     \n",
    "        'algorithm':['SAMME.R']\n",
    "    }"
   ]
  },
  {
   "cell_type": "code",
   "execution_count": 107,
   "metadata": {},
   "outputs": [],
   "source": [
    "t = time.time()\n",
    "adaKNN2,x2,y2 = best_adaboost(KNN_train,KNN_vali,parameter_space2)\n",
    "elapsed = time.time() - t"
   ]
  },
  {
   "cell_type": "code",
   "execution_count": 108,
   "metadata": {},
   "outputs": [
    {
     "name": "stdout",
     "output_type": "stream",
     "text": [
      "278.73006105422974\n"
     ]
    },
    {
     "data": {
      "text/plain": [
       "0.792282447823942"
      ]
     },
     "execution_count": 108,
     "metadata": {},
     "output_type": "execute_result"
    }
   ],
   "source": [
    "print(elapsed)\n",
    "adaKNN2.score(x2,y2)"
   ]
  },
  {
   "cell_type": "code",
   "execution_count": 109,
   "metadata": {},
   "outputs": [
    {
     "name": "stdout",
     "output_type": "stream",
     "text": [
      "0.8036\n"
     ]
    },
    {
     "data": {
      "text/plain": [
       "array([[3687,  912],\n",
       "       [  70,  331]])"
      ]
     },
     "execution_count": 109,
     "metadata": {},
     "output_type": "execute_result"
    }
   ],
   "source": [
    "# Prediction and Confusion MAtrix\n",
    "\n",
    "print(adaKNN2.score(testX,testy))\n",
    "y_pred=adaKNN2.predict(testX)\n",
    "\n",
    "confusion_matrix( testy,y_pred)"
   ]
  },
  {
   "cell_type": "code",
   "execution_count": 110,
   "metadata": {},
   "outputs": [
    {
     "data": {
      "text/plain": [
       "{'algorithm': 'SAMME.R', 'learning_rate': 0.1, 'n_estimators': 100}"
      ]
     },
     "execution_count": 110,
     "metadata": {},
     "output_type": "execute_result"
    }
   ],
   "source": [
    "adaKNN2.best_params_"
   ]
  },
  {
   "cell_type": "code",
   "execution_count": null,
   "metadata": {},
   "outputs": [],
   "source": []
  }
 ],
 "metadata": {
  "kernelspec": {
   "display_name": "Python 3",
   "language": "python",
   "name": "python3"
  },
  "language_info": {
   "codemirror_mode": {
    "name": "ipython",
    "version": 3
   },
   "file_extension": ".py",
   "mimetype": "text/x-python",
   "name": "python",
   "nbconvert_exporter": "python",
   "pygments_lexer": "ipython3",
   "version": "3.8.3"
  }
 },
 "nbformat": 4,
 "nbformat_minor": 4
}
