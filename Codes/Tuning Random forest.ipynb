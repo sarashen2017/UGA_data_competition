{
 "cells": [
  {
   "cell_type": "code",
   "execution_count": 21,
   "metadata": {},
   "outputs": [],
   "source": [
    "import numpy as np\n",
    "import pandas as pd\n",
    "import ipynb.fs.full.data_preprocessing_after_imputing as datapre\n",
    "from sklearn.metrics import confusion_matrix\n",
    "import ipynb.fs.full.Random_forest as rf\n",
    "## change your path for data file here\n",
    "pathTrain=\"C:/Users/12783/Downloads/Data_impute/KNN_impute.csv\" ##training\n",
    "pathVali=\"C:/Users/12783/Downloads/Data_impute/KNN_impute_validation.csv\" ## testing\n",
    "pathTest=\"C:/Users/12783/Downloads/Data_impute/KNN_impute_test.csv\" ## testing"
   ]
  },
  {
   "cell_type": "code",
   "execution_count": 22,
   "metadata": {},
   "outputs": [],
   "source": [
    "def deletion(dataframe):\n",
    "    data=dataframe.copy()\n",
    "    data_cc=data.dropna()\n",
    "    data_cc_reind=data_cc.set_index([pd.Index(range(len(data_cc)))])\n",
    "    return(data_cc_reind)"
   ]
  },
  {
   "cell_type": "code",
   "execution_count": 23,
   "metadata": {},
   "outputs": [],
   "source": [
    "def upsample(data):\n",
    "    from sklearn.utils import resample\n",
    "    df_majority=data[data.Default_ind==0]\n",
    "    df_minority=data[data.Default_ind==1]\n",
    "    largenumber=len(df_majority)\n",
    "    df_minority_upsampled=resample(df_minority,replace=True,n_samples=int(1.2*largenumber),random_state=123)\n",
    "    df_upsampled=pd.concat([pd.DataFrame(df_majority),pd.DataFrame(df_minority_upsampled)])\n",
    "    return df_upsampled"
   ]
  },
  {
   "cell_type": "markdown",
   "metadata": {},
   "source": [
    "KNN"
   ]
  },
  {
   "cell_type": "code",
   "execution_count": 29,
   "metadata": {},
   "outputs": [],
   "source": [
    "dataTrain=pd.read_csv(pathTrain)\n",
    "dataVali=pd.read_csv(pathVali)\n",
    "dataTest=pd.read_csv(pathTest)"
   ]
  },
  {
   "cell_type": "code",
   "execution_count": 30,
   "metadata": {},
   "outputs": [],
   "source": [
    "dataTrainup=upsample(datapre.Cate_to_object_excp_inq(dataTrain))\n",
    "dataValiup=upsample(datapre.Cate_to_object_excp_inq(dataVali))\n",
    "dataTest=datapre.Cate_to_object_excp_inq(dataTest)"
   ]
  },
  {
   "cell_type": "code",
   "execution_count": 27,
   "metadata": {},
   "outputs": [],
   "source": [
    "parameters=[{'max_depth':list(range(1,20)),\n",
    "            'criterion':[\"gini\", \"entropy\"],\n",
    "            'min_samples_split':[100,190,200,210,500,1000],\n",
    "            'n_estimators':list(range(10,101,10))+[200],\n",
    "            'min_samples_leaf':[10]+list(range(50,251,50)),\n",
    "            'bootstrap':[False],\n",
    "            'warm_start':[True,False],\n",
    "            'max_samples':[1500,2500,2900,3000,3500,4500]},\n",
    "            {'bootstrap': [True],\n",
    "             'criterion': [\"gini\", \"entropy\"],\n",
    "             'max_depth': list(range(1,20)),\n",
    "             'max_samples': [1500,2500,2900,3000,3500,4500],\n",
    "             'min_samples_leaf': [10]+list(range(50,251,50)),\n",
    "             'min_samples_split': [100,190,200,210,500,1000],\n",
    "             'n_estimators': list(range(10,101,10))+[200],\n",
    "             'oob_score': [True,False],\n",
    "             'warm_start': [True,False]}]"
   ]
  },
  {
   "cell_type": "code",
   "execution_count": 95,
   "metadata": {},
   "outputs": [],
   "source": [
    "clfKNN=rf.best_Random_forest(dataTrainup, dataValiup, parameters, criteria='accuracy', randomstate=0)"
   ]
  },
  {
   "cell_type": "code",
   "execution_count": 96,
   "metadata": {},
   "outputs": [
    {
     "data": {
      "text/plain": [
       "RandomForestClassifier(max_depth=10, max_samples=2900, min_samples_leaf=50,\n",
       "                       min_samples_split=190, n_estimators=200, oob_score=True,\n",
       "                       random_state=0, warm_start=True)"
      ]
     },
     "execution_count": 96,
     "metadata": {},
     "output_type": "execute_result"
    }
   ],
   "source": [
    "clfKNN.best_estimator_"
   ]
  },
  {
   "cell_type": "code",
   "execution_count": 97,
   "metadata": {},
   "outputs": [
    {
     "data": {
      "text/plain": [
       "{'bootstrap': True,\n",
       " 'criterion': 'gini',\n",
       " 'max_depth': 10,\n",
       " 'max_samples': 2900,\n",
       " 'min_samples_leaf': 50,\n",
       " 'min_samples_split': 190,\n",
       " 'n_estimators': 200,\n",
       " 'oob_score': True,\n",
       " 'warm_start': True}"
      ]
     },
     "execution_count": 97,
     "metadata": {},
     "output_type": "execute_result"
    }
   ],
   "source": [
    "clfKNN.best_params_"
   ]
  },
  {
   "cell_type": "code",
   "execution_count": 80,
   "metadata": {},
   "outputs": [],
   "source": [
    "frames=pd.concat([dataTrainup, dataValiup])\n",
    "datafinaltrain=frames.set_index([pd.Index(range(len(frames)))])"
   ]
  },
  {
   "cell_type": "code",
   "execution_count": 81,
   "metadata": {},
   "outputs": [],
   "source": [
    "rffinalknn=rf.Random_forest(datafinaltrain, nestimator=100, criter=\"gini\", mdepth=10, misamples_split=190, \n",
    "                                 misamples_leaf=50, bootstra=True, oobscore=True, warmstart=True, maxsamples=2900, randomstate=0)"
   ]
  },
  {
   "cell_type": "code",
   "execution_count": 82,
   "metadata": {},
   "outputs": [],
   "source": [
    "dataTestdu=pd.get_dummies(dataTest)\n",
    "datatestx=np.array(dataTestdu.drop('Default_ind', axis=1))\n",
    "datatesty=dataTestdu['Default_ind']"
   ]
  },
  {
   "cell_type": "code",
   "execution_count": 83,
   "metadata": {},
   "outputs": [
    {
     "data": {
      "text/plain": [
       "array([[3471, 1128],\n",
       "       [  73,  328]], dtype=int64)"
      ]
     },
     "execution_count": 83,
     "metadata": {},
     "output_type": "execute_result"
    }
   ],
   "source": [
    "confusion_matrix(np.array(datatesty),np.array(rffinalknn.predict(datatestx)))"
   ]
  },
  {
   "cell_type": "code",
   "execution_count": 85,
   "metadata": {},
   "outputs": [
    {
     "data": {
      "text/plain": [
       "0.7598"
      ]
     },
     "execution_count": 85,
     "metadata": {},
     "output_type": "execute_result"
    }
   ],
   "source": [
    "rffinalknn.score(datatestx,datatesty)"
   ]
  },
  {
   "cell_type": "markdown",
   "metadata": {},
   "source": [
    "Un mean"
   ]
  },
  {
   "cell_type": "code",
   "execution_count": 34,
   "metadata": {},
   "outputs": [],
   "source": [
    "pathTrain=\"C:/Users/12783/Downloads/Data_impute/Unconditional_mean_impute.csv\" ##training\n",
    "pathVali=\"C:/Users/12783/Downloads/Data_impute/Unconditional_mean_impute_validation.csv\" ## testing\n",
    "pathTest=\"C:/Users/12783/Downloads/Data_impute/Unconditional_mean_impute_Test.csv\" ## testing"
   ]
  },
  {
   "cell_type": "code",
   "execution_count": 35,
   "metadata": {},
   "outputs": [],
   "source": [
    "dataTrain=pd.read_csv(pathTrain)\n",
    "dataVali=pd.read_csv(pathVali)\n",
    "dataTest=pd.read_csv(pathTest)"
   ]
  },
  {
   "cell_type": "code",
   "execution_count": 36,
   "metadata": {},
   "outputs": [],
   "source": [
    "dataTrainup=upsample(datapre.Cate_to_object_excp_inq(dataTrain))\n",
    "dataValiup=upsample(datapre.Cate_to_object_excp_inq(dataVali))\n",
    "dataTest=datapre.Cate_to_object_excp_inq(dataTest)"
   ]
  },
  {
   "cell_type": "code",
   "execution_count": 37,
   "metadata": {},
   "outputs": [],
   "source": [
    "parameters=[{'max_depth':list(range(5,15)),\n",
    "            'criterion':[\"gini\", \"entropy\"],\n",
    "            'min_samples_split':list(range(200,801,100)),\n",
    "            'bootstrap':[True],\n",
    "            'oob_score':[True,False],\n",
    "            'warm_start':[True,False],\n",
    "            'max_samples':[500,800,1000,3000],\n",
    "            'min_samples_leaf':[20,40,50,100]},\n",
    "            {'max_depth':list(range(5,15)),\n",
    "            'criterion':[\"gini\", \"entropy\"],\n",
    "            'min_samples_split':list(range(200,801,100)),\n",
    "            'bootstrap':[False],\n",
    "            'warm_start':[True,False],\n",
    "            'max_samples':[500,800,1000,3000],\n",
    "            'min_samples_leaf':[20,40,50,100]}]"
   ]
  },
  {
   "cell_type": "code",
   "execution_count": 60,
   "metadata": {},
   "outputs": [],
   "source": [
    "clfunmean=rf.best_Random_forest(dataTrainup, dataValiup, parameters, criteria='accuracy', randomstate=0)"
   ]
  },
  {
   "cell_type": "code",
   "execution_count": 61,
   "metadata": {},
   "outputs": [
    {
     "data": {
      "text/plain": [
       "{'bootstrap': False,\n",
       " 'criterion': 'entropy',\n",
       " 'max_depth': 12,\n",
       " 'max_samples': 500,\n",
       " 'min_samples_leaf': 40,\n",
       " 'min_samples_split': 500,\n",
       " 'warm_start': True}"
      ]
     },
     "execution_count": 61,
     "metadata": {},
     "output_type": "execute_result"
    }
   ],
   "source": [
    "clfunmean.best_params_"
   ]
  },
  {
   "cell_type": "code",
   "execution_count": 38,
   "metadata": {},
   "outputs": [],
   "source": [
    "frames=pd.concat([dataTrainup, dataValiup])\n",
    "datafinaltrain=frames.set_index([pd.Index(range(len(frames)))])"
   ]
  },
  {
   "cell_type": "code",
   "execution_count": 93,
   "metadata": {},
   "outputs": [],
   "source": [
    "rffinalunmean=rf.Random_forest(datafinaltrain, nestimator=100, criter=\"entropy\", mdepth=12, misamples_split=500, \n",
    "                            misamples_leaf=40, bootstra=False, oobscore=False, warmstart=True, maxsamples=500, randomstate=0)"
   ]
  },
  {
   "cell_type": "code",
   "execution_count": 39,
   "metadata": {},
   "outputs": [],
   "source": [
    "dataTestdu=pd.get_dummies(dataTest)\n",
    "datatestx=np.array(dataTestdu.drop('Default_ind', axis=1))\n",
    "datatesty=dataTestdu['Default_ind']"
   ]
  },
  {
   "cell_type": "code",
   "execution_count": 95,
   "metadata": {},
   "outputs": [
    {
     "data": {
      "text/plain": [
       "array([[3768,  831],\n",
       "       [  90,  311]], dtype=int64)"
      ]
     },
     "execution_count": 95,
     "metadata": {},
     "output_type": "execute_result"
    }
   ],
   "source": [
    "confusion_matrix(np.array(datatesty),np.array(rffinalunmean.predict(datatestx)))"
   ]
  },
  {
   "cell_type": "code",
   "execution_count": 96,
   "metadata": {},
   "outputs": [
    {
     "data": {
      "text/plain": [
       "0.8158"
      ]
     },
     "execution_count": 96,
     "metadata": {},
     "output_type": "execute_result"
    }
   ],
   "source": [
    "rffinalknn.score(datatestx,datatesty)"
   ]
  },
  {
   "cell_type": "markdown",
   "metadata": {},
   "source": [
    "Cart"
   ]
  },
  {
   "cell_type": "code",
   "execution_count": 45,
   "metadata": {},
   "outputs": [],
   "source": [
    "pathTrain=\"C:/Users/12783/Downloads/Data_impute/Cart_impute.csv\" ##training\n",
    "pathVali=\"C:/Users/12783/Downloads/Data_impute/Cart_impute_Vali.csv\" ## testing\n",
    "pathTest=\"C:/Users/12783/Downloads/Data_impute/Cart_impute_Test.csv\" ## testing"
   ]
  },
  {
   "cell_type": "code",
   "execution_count": 46,
   "metadata": {},
   "outputs": [],
   "source": [
    "dataTrain=pd.read_csv(pathTrain)\n",
    "dataVali=pd.read_csv(pathVali)\n",
    "dataTest=pd.read_csv(pathTest)"
   ]
  },
  {
   "cell_type": "code",
   "execution_count": 47,
   "metadata": {},
   "outputs": [],
   "source": [
    "dataTrainup=upsample(datapre.Cate_to_object_excp_inq(dataTrain))\n",
    "dataValiup=upsample(datapre.Cate_to_object_excp_inq(dataVali))\n",
    "dataTest=datapre.Cate_to_object_excp_inq(dataTest)"
   ]
  },
  {
   "cell_type": "code",
   "execution_count": 48,
   "metadata": {},
   "outputs": [],
   "source": [
    "parameters=[{'max_depth':list(range(5,15)),\n",
    "            'criterion':[\"gini\", \"entropy\"],\n",
    "            'min_samples_split':list(range(200,801,100)),\n",
    "            'bootstrap':[True],\n",
    "            'oob_score':[True,False],\n",
    "            'warm_start':[True,False],\n",
    "            'max_samples':[200,500,800,1000,3000],\n",
    "            'min_samples_leaf':[20,40,50,100]},\n",
    "            {'max_depth':list(range(5,15)),\n",
    "            'criterion':[\"gini\", \"entropy\"],\n",
    "            'min_samples_split':list(range(200,801,100)),\n",
    "            'bootstrap':[False],\n",
    "            'warm_start':[True,False],\n",
    "            'max_samples':[200,500,800,1000,3000],\n",
    "            'min_samples_leaf':[20,40,50,100]}]"
   ]
  },
  {
   "cell_type": "code",
   "execution_count": 111,
   "metadata": {},
   "outputs": [],
   "source": [
    "clfcart=rf.best_Random_forest(dataTrainup, dataValiup, parameters, criteria='accuracy', randomstate=0)"
   ]
  },
  {
   "cell_type": "code",
   "execution_count": 112,
   "metadata": {},
   "outputs": [
    {
     "data": {
      "text/plain": [
       "{'bootstrap': False,\n",
       " 'criterion': 'gini',\n",
       " 'max_depth': 10,\n",
       " 'max_samples': 200,\n",
       " 'min_samples_leaf': 50,\n",
       " 'min_samples_split': 300,\n",
       " 'warm_start': True}"
      ]
     },
     "execution_count": 112,
     "metadata": {},
     "output_type": "execute_result"
    }
   ],
   "source": [
    "clfcart.best_params_"
   ]
  },
  {
   "cell_type": "code",
   "execution_count": 49,
   "metadata": {},
   "outputs": [],
   "source": [
    "frames=pd.concat([dataTrainup, dataValiup])\n",
    "datafinaltrain=frames.set_index([pd.Index(range(len(frames)))])"
   ]
  },
  {
   "cell_type": "code",
   "execution_count": 50,
   "metadata": {},
   "outputs": [],
   "source": [
    "rffinalcart=rf.Random_forest(datafinaltrain, nestimator=100, criter=\"gini\", mdepth=10, misamples_split=300, \n",
    "                               misamples_leaf=50, bootstra=False, oobscore=False, warmstart=True, maxsamples=200, randomstate=0)"
   ]
  },
  {
   "cell_type": "code",
   "execution_count": 51,
   "metadata": {},
   "outputs": [],
   "source": [
    "dataTestdu=pd.get_dummies(dataTest)\n",
    "datatestx=np.array(dataTestdu.drop('Default_ind', axis=1))\n",
    "datatesty=dataTestdu['Default_ind']"
   ]
  },
  {
   "cell_type": "code",
   "execution_count": 52,
   "metadata": {},
   "outputs": [
    {
     "data": {
      "text/plain": [
       "array([[3775,  824],\n",
       "       [  99,  302]], dtype=int64)"
      ]
     },
     "execution_count": 52,
     "metadata": {},
     "output_type": "execute_result"
    }
   ],
   "source": [
    "confusion_matrix(np.array(datatesty),np.array(rffinalcart.predict(datatestx)))"
   ]
  },
  {
   "cell_type": "code",
   "execution_count": 53,
   "metadata": {},
   "outputs": [
    {
     "data": {
      "text/plain": [
       "0.8154"
      ]
     },
     "execution_count": 53,
     "metadata": {},
     "output_type": "execute_result"
    }
   ],
   "source": [
    "rffinalcart.score(datatestx,datatesty)"
   ]
  },
  {
   "cell_type": "markdown",
   "metadata": {},
   "source": [
    "Unconditional median"
   ]
  },
  {
   "cell_type": "code",
   "execution_count": 87,
   "metadata": {},
   "outputs": [],
   "source": [
    "pathTrain=\"C:/Users/12783/Downloads/Data_impute/Unconditional_median_impute.csv\" ##training\n",
    "pathVali=\"C:/Users/12783/Downloads/Data_impute/Unconditional_median_impute_Validation.csv\" ## testing\n",
    "pathTest=\"C:/Users/12783/Downloads/Data_impute/Unconditional_median_impute_Test.csv\" ## testing"
   ]
  },
  {
   "cell_type": "code",
   "execution_count": 88,
   "metadata": {},
   "outputs": [],
   "source": [
    "dataTrain=pd.read_csv(pathTrain)\n",
    "dataVali=pd.read_csv(pathVali)\n",
    "dataTest=pd.read_csv(pathTest)"
   ]
  },
  {
   "cell_type": "code",
   "execution_count": 89,
   "metadata": {},
   "outputs": [],
   "source": [
    "dataTrainup=upsample(datapre.Cate_to_object_excp_inq(dataTrain))\n",
    "dataValiup=upsample(datapre.Cate_to_object_excp_inq(dataVali))\n",
    "dataTest=datapre.Cate_to_object_excp_inq(dataTest)"
   ]
  },
  {
   "cell_type": "code",
   "execution_count": 69,
   "metadata": {},
   "outputs": [],
   "source": [
    "parameters=[{'max_depth':list(range(5,15)),\n",
    "            'criterion':[\"gini\", \"entropy\"],\n",
    "            'min_samples_split':list(range(200,801,100)),\n",
    "            'bootstrap':[True],\n",
    "            'oob_score':[True,False],\n",
    "            'warm_start':[True,False],\n",
    "            'max_samples':[200,500,800,1000,2500,3000],\n",
    "            'min_samples_leaf':[40,50,100]},\n",
    "            {'max_depth':list(range(5,15)),\n",
    "            'criterion':[\"gini\", \"entropy\"],\n",
    "            'min_samples_split':list(range(200,801,100)),\n",
    "            'bootstrap':[False],\n",
    "            'warm_start':[True,False],\n",
    "            'max_samples':[200,500,800,1000,2500,3000],\n",
    "            'min_samples_leaf':[40,50,100]}]"
   ]
  },
  {
   "cell_type": "code",
   "execution_count": 396,
   "metadata": {},
   "outputs": [],
   "source": [
    "clfunmedian=rf.best_Random_forest(dataTrainup, dataValiup, parameters, criteria='accuracy', randomstate=0)"
   ]
  },
  {
   "cell_type": "code",
   "execution_count": 397,
   "metadata": {},
   "outputs": [
    {
     "data": {
      "text/plain": [
       "RandomForestClassifier(bootstrap=False, criterion='entropy', max_depth=12,\n",
       "                       max_samples=2500, min_samples_leaf=50,\n",
       "                       min_samples_split=500, random_state=0, warm_start=True)"
      ]
     },
     "execution_count": 397,
     "metadata": {},
     "output_type": "execute_result"
    }
   ],
   "source": [
    "clfunmedian.best_params_"
   ]
  },
  {
   "cell_type": "code",
   "execution_count": 90,
   "metadata": {},
   "outputs": [],
   "source": [
    "frames=pd.concat([dataTrainup, dataValiup])\n",
    "datafinaltrain=frames.set_index([pd.Index(range(len(frames)))])"
   ]
  },
  {
   "cell_type": "code",
   "execution_count": 91,
   "metadata": {},
   "outputs": [],
   "source": [
    "rffinalunmedian=rf.Random_forest(datafinaltrain, nestimator=100, criter=\"entropy\", mdepth=12, misamples_split=500, \n",
    "                                 misamples_leaf=40, bootstra=False, oobscore=False, warmstart=True, maxsamples=2500, randomstate=0)"
   ]
  },
  {
   "cell_type": "code",
   "execution_count": 92,
   "metadata": {},
   "outputs": [],
   "source": [
    "dataTestdu=pd.get_dummies(dataTest)\n",
    "datatestx=np.array(dataTestdu.drop('Default_ind', axis=1))\n",
    "datatesty=dataTestdu['Default_ind']"
   ]
  },
  {
   "cell_type": "code",
   "execution_count": 93,
   "metadata": {
    "scrolled": true
   },
   "outputs": [
    {
     "data": {
      "text/plain": [
       "array([[3783,  816],\n",
       "       [  94,  307]], dtype=int64)"
      ]
     },
     "execution_count": 93,
     "metadata": {},
     "output_type": "execute_result"
    }
   ],
   "source": [
    "confusion_matrix(np.array(datatesty),np.array(rffinalunmedian.predict(datatestx)))"
   ]
  },
  {
   "cell_type": "markdown",
   "metadata": {},
   "source": [
    "Listwise Deletion"
   ]
  },
  {
   "cell_type": "code",
   "execution_count": 101,
   "metadata": {},
   "outputs": [],
   "source": [
    "pathTrain=\"C:/Users/12783/Downloads/Data_impute/Listwise_deletion.csv\" ##training\n",
    "pathVali=\"C:/Users/12783/Downloads/Data_impute/Listwise_deletion_Validation.csv\" ## testing\n",
    "pathTest=\"C:/Users/12783/Downloads/Data_impute/Listwise_deletion_Test.csv\" ## testing"
   ]
  },
  {
   "cell_type": "code",
   "execution_count": 104,
   "metadata": {},
   "outputs": [],
   "source": [
    "dataTrain=pd.read_csv(pathTrain)\n",
    "dataVali=pd.read_csv(pathVali)\n",
    "dataTest=pd.read_csv(pathTest)"
   ]
  },
  {
   "cell_type": "code",
   "execution_count": 105,
   "metadata": {},
   "outputs": [],
   "source": [
    "dataTrainup=upsample(datapre.Cate_to_object_excp_inq(dataTrain))\n",
    "dataValiup=upsample(datapre.Cate_to_object_excp_inq(dataVali))\n",
    "dataTest=datapre.Cate_to_object_excp_inq(dataTest)"
   ]
  },
  {
   "cell_type": "code",
   "execution_count": 62,
   "metadata": {},
   "outputs": [],
   "source": [
    "parameters=[{'max_depth':list(range(9,19)),\n",
    "            'criterion':[\"gini\", \"entropy\"],\n",
    "            'min_samples_split':[10,50]+list(range(200,801,100)),\n",
    "            'bootstrap':[True],\n",
    "            'oob_score':[True,False],\n",
    "            'warm_start':[True,False],\n",
    "            'max_samples':[1000,2500,3000,3500],\n",
    "            'min_samples_leaf':[1,40,50,100]},\n",
    "            {'max_depth':list(range(9,19)),\n",
    "            'criterion':[\"gini\", \"entropy\"],\n",
    "            'min_samples_split':[10,50]+list(range(200,801,100)),\n",
    "            'bootstrap':[False],\n",
    "            'warm_start':[True,False],\n",
    "            'max_samples':[1000,2500,3000,3500],\n",
    "            'min_samples_leaf':[1,40,50,100]}]\n"
   ]
  },
  {
   "cell_type": "code",
   "execution_count": 396,
   "metadata": {},
   "outputs": [],
   "source": [
    "clfld=rf.best_Random_forest(dataTrainup, dataValiup, parameters, criteria='accuracy', randomstate=0)"
   ]
  },
  {
   "cell_type": "code",
   "execution_count": 397,
   "metadata": {},
   "outputs": [
    {
     "data": {
      "text/plain": [
       "RandomForestClassifier(bootstrap=False, criterion='entropy', max_depth=12,\n",
       "                       max_samples=2500, min_samples_leaf=50,\n",
       "                       min_samples_split=500, random_state=0, warm_start=True)"
      ]
     },
     "execution_count": 397,
     "metadata": {},
     "output_type": "execute_result"
    }
   ],
   "source": [
    "clfld.best_params_"
   ]
  },
  {
   "cell_type": "code",
   "execution_count": 106,
   "metadata": {},
   "outputs": [],
   "source": [
    "frames=pd.concat([dataTrainup, dataValiup])\n",
    "datafinaltrain=frames.set_index([pd.Index(range(len(frames)))])"
   ]
  },
  {
   "cell_type": "code",
   "execution_count": 107,
   "metadata": {},
   "outputs": [],
   "source": [
    "rffinalld=rf.Random_forest(datafinaltrain, nestimator=100, criter=\"gini\", mdepth=16, misamples_split=10, \n",
    "    misamples_leaf=1, bootstra=False, oobscore=False, warmstart=True, maxsamples=3000, randomstate=0)"
   ]
  },
  {
   "cell_type": "code",
   "execution_count": 108,
   "metadata": {},
   "outputs": [],
   "source": [
    "dataTestdu=pd.get_dummies(dataTest)\n",
    "datatestx=np.array(dataTestdu.drop('Default_ind', axis=1))\n",
    "datatesty=dataTestdu['Default_ind']"
   ]
  },
  {
   "cell_type": "code",
   "execution_count": 109,
   "metadata": {
    "scrolled": false
   },
   "outputs": [
    {
     "data": {
      "text/plain": [
       "array([[3735,   75],\n",
       "       [ 230,  111]], dtype=int64)"
      ]
     },
     "execution_count": 109,
     "metadata": {},
     "output_type": "execute_result"
    }
   ],
   "source": [
    "confusion_matrix(np.array(datatesty),np.array(rffinalld.predict(datatestx)))"
   ]
  },
  {
   "cell_type": "markdown",
   "metadata": {},
   "source": [
    "EMB"
   ]
  },
  {
   "cell_type": "code",
   "execution_count": 118,
   "metadata": {},
   "outputs": [],
   "source": [
    "pathTrain=\"C:/Users/12783/Downloads/Data_impute/EMB_impute.csv\" ##training\n",
    "pathVali=\"C:/Users/12783/Downloads/Data_impute/EMB_impute_Vali.csv\" ## testing\n",
    "pathTest=\"C:/Users/12783/Downloads/Data_impute/EMB_impute_Test.csv\" ## testing"
   ]
  },
  {
   "cell_type": "code",
   "execution_count": 119,
   "metadata": {},
   "outputs": [],
   "source": [
    "dataTrain=pd.read_csv(pathTrain)\n",
    "dataVali=pd.read_csv(pathVali)\n",
    "dataTest=pd.read_csv(pathTest)"
   ]
  },
  {
   "cell_type": "code",
   "execution_count": 120,
   "metadata": {},
   "outputs": [],
   "source": [
    "dataTrainup=upsample(datapre.Cate_to_object_excp_inq(dataTrain))\n",
    "dataValiup=upsample(datapre.Cate_to_object_excp_inq(dataVali))\n",
    "dataTest=datapre.Cate_to_object_excp_inq(dataTest)"
   ]
  },
  {
   "cell_type": "code",
   "execution_count": 62,
   "metadata": {},
   "outputs": [],
   "source": [
    "parameters=[{'max_depth':list(range(5,15)),\n",
    "            'criterion':[\"gini\", \"entropy\"],\n",
    "            'min_samples_split':list(range(200,801,100)),\n",
    "            'bootstrap':[True],\n",
    "            'oob_score':[True,False],\n",
    "            'warm_start':[True,False],\n",
    "            'max_samples':[1000,2500,3000,3500],\n",
    "            'min_samples_leaf':[10,40,50,100]},\n",
    "            {'max_depth':list(range(5,15)),\n",
    "            'criterion':[\"gini\", \"entropy\"],\n",
    "            'min_samples_split':list(range(200,801,100)),\n",
    "            'bootstrap':[False],\n",
    "            'warm_start':[True,False],\n",
    "            'max_samples':[1000,2500,3000,3500],\n",
    "            'min_samples_leaf':[10,40,50,100]}]\n"
   ]
  },
  {
   "cell_type": "code",
   "execution_count": 396,
   "metadata": {},
   "outputs": [],
   "source": [
    "clfemb=rf.best_Random_forest(dataTrainup, dataValiup, parameters, criteria='accuracy', randomstate=0)"
   ]
  },
  {
   "cell_type": "code",
   "execution_count": 397,
   "metadata": {},
   "outputs": [
    {
     "data": {
      "text/plain": [
       "RandomForestClassifier(bootstrap=False, criterion='entropy', max_depth=12,\n",
       "                       max_samples=2500, min_samples_leaf=50,\n",
       "                       min_samples_split=500, random_state=0, warm_start=True)"
      ]
     },
     "execution_count": 397,
     "metadata": {},
     "output_type": "execute_result"
    }
   ],
   "source": [
    "clfemb.best_params_"
   ]
  },
  {
   "cell_type": "code",
   "execution_count": 121,
   "metadata": {},
   "outputs": [],
   "source": [
    "frames=pd.concat([dataTrainup, dataValiup])\n",
    "datafinaltrain=frames.set_index([pd.Index(range(len(frames)))])"
   ]
  },
  {
   "cell_type": "code",
   "execution_count": 122,
   "metadata": {},
   "outputs": [],
   "source": [
    "rffinalemb=rf.Random_forest(datafinaltrain, nestimator=100, criter=\"entropy\", mdepth=8, misamples_split=500, \n",
    "    misamples_leaf=10, bootstra=False, oobscore=False, warmstart=True, maxsamples=1000, randomstate=0)"
   ]
  },
  {
   "cell_type": "code",
   "execution_count": 123,
   "metadata": {},
   "outputs": [],
   "source": [
    "dataTestdu=pd.get_dummies(dataTest)\n",
    "datatestx=np.array(dataTestdu.drop('Default_ind', axis=1))\n",
    "datatesty=dataTestdu['Default_ind']"
   ]
  },
  {
   "cell_type": "code",
   "execution_count": 124,
   "metadata": {
    "scrolled": false
   },
   "outputs": [
    {
     "data": {
      "text/plain": [
       "array([[3666,  933],\n",
       "       [  94,  307]], dtype=int64)"
      ]
     },
     "execution_count": 124,
     "metadata": {},
     "output_type": "execute_result"
    }
   ],
   "source": [
    "confusion_matrix(np.array(datatesty),np.array(rffinalemb.predict(datatestx)))"
   ]
  },
  {
   "cell_type": "code",
   "execution_count": 125,
   "metadata": {},
   "outputs": [
    {
     "data": {
      "text/plain": [
       "0.7946"
      ]
     },
     "execution_count": 125,
     "metadata": {},
     "output_type": "execute_result"
    }
   ],
   "source": [
    "rffinalemb.score(datatestx,datatesty)"
   ]
  },
  {
   "cell_type": "markdown",
   "metadata": {},
   "source": [
    "RF"
   ]
  },
  {
   "cell_type": "code",
   "execution_count": 126,
   "metadata": {},
   "outputs": [],
   "source": [
    "pathTrain=\"C:/Users/12783/Downloads/Data_impute/rf.csv\" ##training\n",
    "pathVali=\"C:/Users/12783/Downloads/Data_impute/rf_Vali.csv\" ## testing\n",
    "pathTest=\"C:/Users/12783/Downloads/Data_impute/rf_Test.csv\" ## testing"
   ]
  },
  {
   "cell_type": "code",
   "execution_count": 127,
   "metadata": {},
   "outputs": [],
   "source": [
    "dataTrain=pd.read_csv(pathTrain)\n",
    "dataVali=pd.read_csv(pathVali)\n",
    "dataTest=pd.read_csv(pathTest)"
   ]
  },
  {
   "cell_type": "code",
   "execution_count": 128,
   "metadata": {},
   "outputs": [],
   "source": [
    "dataTrainup=upsample(datapre.Cate_to_object_excp_inq(dataTrain))\n",
    "dataValiup=upsample(datapre.Cate_to_object_excp_inq(dataVali))\n",
    "dataTest=datapre.Cate_to_object_excp_inq(dataTest)"
   ]
  },
  {
   "cell_type": "code",
   "execution_count": 129,
   "metadata": {},
   "outputs": [],
   "source": [
    "parameters=[{'max_depth':list(range(5,15)),\n",
    "            'criterion':[\"gini\", \"entropy\"],\n",
    "            'min_samples_split':list(range(200,801,100)),\n",
    "            'bootstrap':[True],\n",
    "            'oob_score':[True,False],\n",
    "            'warm_start':[True,False],\n",
    "            'max_samples':[1000,2500,3000,3500],\n",
    "            'min_samples_leaf':[40,50,100]},\n",
    "            {'max_depth':list(range(5,15)),\n",
    "            'criterion':[\"gini\", \"entropy\"],\n",
    "            'min_samples_split':list(range(200,801,100)),\n",
    "            'bootstrap':[False],\n",
    "            'warm_start':[True,False],\n",
    "            'max_samples':[1000,2500,3000,3500],\n",
    "            'min_samples_leaf':[40,50,100]}]"
   ]
  },
  {
   "cell_type": "code",
   "execution_count": 396,
   "metadata": {},
   "outputs": [],
   "source": [
    "clfrf=rf.best_Random_forest(dataTrainup, dataValiup, parameters, criteria='accuracy', randomstate=0)"
   ]
  },
  {
   "cell_type": "code",
   "execution_count": 397,
   "metadata": {},
   "outputs": [
    {
     "data": {
      "text/plain": [
       "RandomForestClassifier(bootstrap=False, criterion='entropy', max_depth=12,\n",
       "                       max_samples=2500, min_samples_leaf=50,\n",
       "                       min_samples_split=500, random_state=0, warm_start=True)"
      ]
     },
     "execution_count": 397,
     "metadata": {},
     "output_type": "execute_result"
    }
   ],
   "source": [
    "clfrf.best_params_"
   ]
  },
  {
   "cell_type": "code",
   "execution_count": 130,
   "metadata": {},
   "outputs": [],
   "source": [
    "frames=pd.concat([dataTrainup, dataValiup])\n",
    "datafinaltrain=frames.set_index([pd.Index(range(len(frames)))])"
   ]
  },
  {
   "cell_type": "code",
   "execution_count": 135,
   "metadata": {},
   "outputs": [],
   "source": [
    "rffinalrf=rf.Random_forest(datafinaltrain, nestimator=100, criter=\"entropy\", mdepth=11, misamples_split=700, \n",
    "    misamples_leaf=50, bootstra=False, oobscore=False, warmstart=True, maxsamples=200, randomstate=0)"
   ]
  },
  {
   "cell_type": "code",
   "execution_count": 136,
   "metadata": {},
   "outputs": [],
   "source": [
    "dataTestdu=pd.get_dummies(dataTest)\n",
    "datatestx=np.array(dataTestdu.drop('Default_ind', axis=1))\n",
    "datatesty=dataTestdu['Default_ind']"
   ]
  },
  {
   "cell_type": "code",
   "execution_count": 137,
   "metadata": {
    "scrolled": false
   },
   "outputs": [
    {
     "data": {
      "text/plain": [
       "array([[3715,  884],\n",
       "       [  91,  310]], dtype=int64)"
      ]
     },
     "execution_count": 137,
     "metadata": {},
     "output_type": "execute_result"
    }
   ],
   "source": [
    "confusion_matrix(np.array(datatesty),np.array(rffinalrf.predict(datatestx)))"
   ]
  },
  {
   "cell_type": "code",
   "execution_count": 138,
   "metadata": {},
   "outputs": [
    {
     "data": {
      "text/plain": [
       "0.805"
      ]
     },
     "execution_count": 138,
     "metadata": {},
     "output_type": "execute_result"
    }
   ],
   "source": [
    "rffinalrf.score(datatestx,datatesty)"
   ]
  },
  {
   "cell_type": "markdown",
   "metadata": {},
   "source": [
    "EM"
   ]
  },
  {
   "cell_type": "code",
   "execution_count": 141,
   "metadata": {},
   "outputs": [],
   "source": [
    "pathTrain=\"C:/Users/12783/Downloads/Data_impute/Simulated_Data_Train_em.csv\" ##training\n",
    "pathVali=\"C:/Users/12783/Downloads/Data_impute/Simulated_Data_validation_em.csv\" ## testing\n",
    "pathTest=\"C:/Users/12783/Downloads/Data_impute/Simulated_Data_Test_em.csv\" ## testing"
   ]
  },
  {
   "cell_type": "code",
   "execution_count": 142,
   "metadata": {},
   "outputs": [],
   "source": [
    "dataTrain=pd.read_csv(pathTrain)\n",
    "dataVali=pd.read_csv(pathVali)\n",
    "dataTest=pd.read_csv(pathTest)"
   ]
  },
  {
   "cell_type": "code",
   "execution_count": 143,
   "metadata": {},
   "outputs": [],
   "source": [
    "dataTrainup=upsample(datapre.Cate_to_object_excp_inq(dataTrain))\n",
    "dataValiup=upsample(datapre.Cate_to_object_excp_inq(dataVali))\n",
    "dataTest=datapre.Cate_to_object_excp_inq(dataTest)"
   ]
  },
  {
   "cell_type": "code",
   "execution_count": 129,
   "metadata": {},
   "outputs": [],
   "source": [
    "parameters=[{'max_depth':list(range(9,20)),\n",
    "            'criterion':[\"gini\", \"entropy\"],\n",
    "            'min_samples_split':[10,20]+list(range(200,801,100)),\n",
    "            'bootstrap':[True],\n",
    "            'oob_score':[True,False],\n",
    "            'warm_start':[True,False],\n",
    "            'max_samples':[1000,2500,3000,3500],\n",
    "            'min_samples_leaf':[2,4,6,10,40,50,100]},\n",
    "            {'max_depth':list(range(9,20)),\n",
    "            'criterion':[\"gini\", \"entropy\"],\n",
    "            'min_samples_split':[10,20]+list(range(200,801,100)),\n",
    "            'bootstrap':[False],\n",
    "            'warm_start':[True,False],\n",
    "            'max_samples':[1000,2500,3000,3500],\n",
    "            'min_samples_leaf':[2,4,6,10,40,50,100]}]"
   ]
  },
  {
   "cell_type": "code",
   "execution_count": 396,
   "metadata": {},
   "outputs": [],
   "source": [
    "clfem=rf.best_Random_forest(dataTrainup, dataValiup, parameters, criteria='accuracy', randomstate=0)"
   ]
  },
  {
   "cell_type": "code",
   "execution_count": 397,
   "metadata": {},
   "outputs": [
    {
     "data": {
      "text/plain": [
       "RandomForestClassifier(bootstrap=False, criterion='entropy', max_depth=12,\n",
       "                       max_samples=2500, min_samples_leaf=50,\n",
       "                       min_samples_split=500, random_state=0, warm_start=True)"
      ]
     },
     "execution_count": 397,
     "metadata": {},
     "output_type": "execute_result"
    }
   ],
   "source": [
    "clfem.best_params_"
   ]
  },
  {
   "cell_type": "code",
   "execution_count": 144,
   "metadata": {},
   "outputs": [],
   "source": [
    "frames=pd.concat([dataTrainup, dataValiup])\n",
    "datafinaltrain=frames.set_index([pd.Index(range(len(frames)))])"
   ]
  },
  {
   "cell_type": "code",
   "execution_count": 146,
   "metadata": {},
   "outputs": [],
   "source": [
    "rffinalem=rf.Random_forest(datafinaltrain, nestimator=100, criter=\"gini\", mdepth=17, misamples_split=20, \n",
    "                           misamples_leaf=6, bootstra=False, oobscore=False, warmstart=True, maxsamples=1000, randomstate=0)"
   ]
  },
  {
   "cell_type": "code",
   "execution_count": 147,
   "metadata": {},
   "outputs": [],
   "source": [
    "dataTestdu=pd.get_dummies(dataTest)\n",
    "datatestx=np.array(dataTestdu.drop('Default_ind', axis=1))\n",
    "datatesty=dataTestdu['Default_ind']"
   ]
  },
  {
   "cell_type": "code",
   "execution_count": 148,
   "metadata": {
    "scrolled": false
   },
   "outputs": [
    {
     "data": {
      "text/plain": [
       "array([[4521,   78],\n",
       "       [ 254,  147]], dtype=int64)"
      ]
     },
     "execution_count": 148,
     "metadata": {},
     "output_type": "execute_result"
    }
   ],
   "source": [
    "confusion_matrix(np.array(datatesty),np.array(rffinalem.predict(datatestx)))"
   ]
  },
  {
   "cell_type": "code",
   "execution_count": 149,
   "metadata": {},
   "outputs": [
    {
     "data": {
      "text/plain": [
       "0.9336"
      ]
     },
     "execution_count": 149,
     "metadata": {},
     "output_type": "execute_result"
    }
   ],
   "source": [
    "rffinalem.score(datatestx,datatesty)"
   ]
  },
  {
   "cell_type": "code",
   "execution_count": null,
   "metadata": {},
   "outputs": [],
   "source": []
  }
 ],
 "metadata": {
  "kernelspec": {
   "display_name": "Python 3",
   "language": "python",
   "name": "python3"
  },
  "language_info": {
   "codemirror_mode": {
    "name": "ipython",
    "version": 3
   },
   "file_extension": ".py",
   "mimetype": "text/x-python",
   "name": "python",
   "nbconvert_exporter": "python",
   "pygments_lexer": "ipython3",
   "version": "3.8.3"
  }
 },
 "nbformat": 4,
 "nbformat_minor": 4
}
