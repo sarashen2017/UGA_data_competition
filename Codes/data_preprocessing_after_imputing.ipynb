{
 "cells": [
  {
   "cell_type": "code",
   "execution_count": 2,
   "metadata": {},
   "outputs": [],
   "source": [
    "import numpy as np\n",
    "import pandas as pd\n",
    "import prince"
   ]
  },
  {
   "cell_type": "markdown",
   "metadata": {},
   "source": [
    "View and change variable types"
   ]
  },
  {
   "cell_type": "code",
   "execution_count": 3,
   "metadata": {},
   "outputs": [],
   "source": [
    "## Data types of a data set\n",
    "def datatypes(dataset):\n",
    "    return(dataset.dtypes)"
   ]
  },
  {
   "cell_type": "code",
   "execution_count": 4,
   "metadata": {},
   "outputs": [],
   "source": []
  },
  {
   "cell_type": "code",
   "execution_count": 4,
   "metadata": {},
   "outputs": [],
   "source": [
    "def All_cate_to_object(dataset):\n",
    "    return(dataset.astype({'non_mtg_acc_past_due_12_months_num': 'object','non_mtg_acc_past_due_6_months_num': 'object','mortgages_past_due_6_months_num': 'object','card_inq_24_month_num': 'object','inq_12_month_num': 'object','card_open_36_month_num': 'object','auto_open_36_month_num': 'object','ind_acc_XYZ': 'object'}))"
   ]
  },
  {
   "cell_type": "code",
   "execution_count": 5,
   "metadata": {},
   "outputs": [],
   "source": [
    "def Cate_to_object_excp_inq(dataset):\n",
    "    return(dataset.astype({'non_mtg_acc_past_due_12_months_num': 'object','non_mtg_acc_past_due_6_months_num': 'object','mortgages_past_due_6_months_num': 'object','card_inq_24_month_num': 'float64','inq_12_month_num': 'float64','card_open_36_month_num': 'object','auto_open_36_month_num': 'object','ind_acc_XYZ': 'object'}))"
   ]
  },
  {
   "cell_type": "code",
   "execution_count": 19,
   "metadata": {},
   "outputs": [],
   "source": [
    "def Cate_to_float(dataset):\n",
    "    return(dataset.astype({'non_mtg_acc_past_due_12_months_num': 'float64','non_mtg_acc_past_due_6_months_num': 'float64','mortgages_past_due_6_months_num': 'float64','card_inq_24_month_num': 'float64','inq_12_month_num': 'float64','card_open_36_month_num': 'float64','auto_open_36_month_num': 'float64','ind_acc_XYZ': 'object'}))"
   ]
  },
  {
   "cell_type": "code",
   "execution_count": 1,
   "metadata": {},
   "outputs": [],
   "source": [
    "## In case we need it\n",
    "def dropnarows(data):\n",
    "    dataset=data.copy()\n",
    "    data_cc=dataset.dropna()\n",
    "    data_cc_reind=data_cc.set_index([pd.Index(range(len(data_cc)))])\n",
    "    return(data_cc_reind)"
   ]
  },
  {
   "cell_type": "markdown",
   "metadata": {},
   "source": [
    "FAMD"
   ]
  },
  {
   "cell_type": "code",
   "execution_count": 1,
   "metadata": {},
   "outputs": [],
   "source": [
    "def famdfitdata(dataset,dataset2,num_comp,itera,eng='auto',seed=123):\n",
    "    \"\"\"\n",
    "    dataset1: for training\n",
    "    dataset2: To be operated\n",
    "    num_comp(int): number of components\n",
    "    itera(int): iterations\n",
    "    eng: 'auto', 'sklearn' or 'fbpca'\n",
    "    \"\"\"\n",
    "    famd = prince.FAMD(\n",
    "        n_components=num_comp,\n",
    "        n_iter=itera,\n",
    "        copy=True,\n",
    "        check_input=True,\n",
    "        engine=eng,       ## Can be \"auto\", 'sklearn', 'fbpca'\n",
    "        random_state=seed)\n",
    "    famdfit = famd.fit(dataset.drop('Default_ind', axis=1))\n",
    "    result=famdfit.row_coordinates(dataset2)\n",
    "    return(result)"
   ]
  },
  {
   "cell_type": "code",
   "execution_count": 4,
   "metadata": {},
   "outputs": [],
   "source": [
    "## Don't need to drop 'Default_ind' column first\n",
    "def famdfit(dataset,num_comp,itera,eng='auto',seed=123):\n",
    "    \"\"\"\n",
    "    num_comp(int): number of components\n",
    "    itera(int): iterations\n",
    "    eng: 'auto', 'sklearn' or 'fbpca'\n",
    "    \"\"\"\n",
    "    famd = prince.FAMD(\n",
    "        n_components=num_comp,\n",
    "        n_iter=itera,\n",
    "        copy=True,\n",
    "        check_input=True,\n",
    "        engine=eng,       ## Can be \"auto\", 'sklearn', 'fbpca'\n",
    "        random_state=seed)\n",
    "    famdfit = famd.fit(dataset.drop('Default_ind', axis=1))\n",
    "    return(famdfit)"
   ]
  },
  {
   "cell_type": "code",
   "execution_count": null,
   "metadata": {},
   "outputs": [],
   "source": []
  }
 ],
 "metadata": {
  "kernelspec": {
   "display_name": "Python 3",
   "language": "python",
   "name": "python3"
  },
  "language_info": {
   "codemirror_mode": {
    "name": "ipython",
    "version": 3
   },
   "file_extension": ".py",
   "mimetype": "text/x-python",
   "name": "python",
   "nbconvert_exporter": "python",
   "pygments_lexer": "ipython3",
   "version": "3.8.3"
  }
 },
 "nbformat": 4,
 "nbformat_minor": 4
}
