{
 "cells": [
  {
   "cell_type": "code",
   "execution_count": 11,
   "metadata": {},
   "outputs": [],
   "source": [
    "import numpy as np\n",
    "import pandas as pd\n",
    "from sklearn.ensemble import RandomForestClassifier\n",
    "from sklearn.datasets import make_classification\n",
    "from sklearn.model_selection import PredefinedSplit\n",
    "from sklearn.model_selection import GridSearchCV\n",
    "from sklearn.metrics import confusion_matrix\n",
    "import ipynb.fs.full.data_preprocessing_after_imputing as datapre"
   ]
  },
  {
   "cell_type": "code",
   "execution_count": 12,
   "metadata": {},
   "outputs": [],
   "source": [
    "## Use the dataset after the preprocessing, no need for dummy variables\n",
    "## Need change category and drop na first\n",
    "def best_Random_forest(datatrain, datavali, paragrid, criteria='accuracy', randomstate=0):\n",
    "    '''\n",
    "    if not specified, the parameters are n_estimators=100, criterion=\"gini\", max_depth=8, min_samples_split=400, \n",
    "    min_samples_leaf=50, bootstrap=True, oob_score=False, warm_start=False, max_samples=3000, random_state=0\n",
    "    '''\n",
    "    frames=pd.concat([datatrain, datavali])\n",
    "    frames_reind=frames.set_index([pd.Index(range(len(frames)))])\n",
    "    split_index=[-1]*len(datatrain)+[0]*len(datavali)\n",
    "    pds = PredefinedSplit(test_fold = split_index)\n",
    "    datadummy=pd.get_dummies(frames_reind)\n",
    "    datatrainX=np.array(datadummy.drop('Default_ind', axis=1))\n",
    "    datatrainy=datadummy['Default_ind']\n",
    "    RmFtclass = RandomForestClassifier(n_estimators=100, criterion=\"gini\",\n",
    "                                       max_depth=8, min_samples_split=400, \n",
    "                                       min_samples_leaf=50, bootstrap=True,\n",
    "                                       oob_score=False, warm_start=False,\n",
    "                                       max_samples=3000, random_state=randomstate)\n",
    "    modelGS=GridSearchCV(RmFtclass, paragrid,cv=pds,scoring=criteria)\n",
    "    modelGS.fit(datatrainX, datatrainy)\n",
    "    return(modelGS)"
   ]
  },
  {
   "cell_type": "code",
   "execution_count": 5,
   "metadata": {},
   "outputs": [],
   "source": [
    "#confusion_matrix(np.array(list(datanewdummytrainy)),np.array(list(clf.predict(datanewdummytrain))))"
   ]
  },
  {
   "cell_type": "code",
   "execution_count": 4,
   "metadata": {},
   "outputs": [],
   "source": [
    "## Use the dataset after the preprocessing, no need for dummy variables\n",
    "## Need change category and drop na first\n",
    "def Random_forest(datatrain, nestimator=100, criter=\"gini\", mdepth=8, misamples_split=400, \n",
    "    misamples_leaf=50, bootstra=True, oobscore=False, warmstart=False, maxsamples=3000, randomstate=0):\n",
    "    '''\n",
    "    if not specified, the parameters are nestimator=100, criterion=\"gini\", max_depth=8, min_samples_split=400, \n",
    "    min_samples_leaf=50, bootstrap=True, oob_score=False, warm_start=False, max_samples=3000, random_state=0\n",
    "    '''\n",
    "    datatraindummy=pd.get_dummies(datatrain)\n",
    "    datatrainX=np.array(datatraindummy.drop('Default_ind', axis=1))\n",
    "    datatrainy=datatraindummy['Default_ind']\n",
    "    RFclass = RandomForestClassifier(n_estimators=nestimator, criterion=criter,\n",
    "                                     max_depth=mdepth, min_samples_split=misamples_split, \n",
    "                                     min_samples_leaf=misamples_leaf, bootstrap=bootstra,\n",
    "                                     oob_score=oobscore, warm_start=warmstart,\n",
    "                                     max_samples=maxsamples, random_state=randomstate)\n",
    "    modelRF=RFclass.fit(datatrainX,datatrainy)\n",
    "    return(modelRF)"
   ]
  },
  {
   "cell_type": "code",
   "execution_count": null,
   "metadata": {},
   "outputs": [],
   "source": []
  }
 ],
 "metadata": {
  "kernelspec": {
   "display_name": "Python 3",
   "language": "python",
   "name": "python3"
  },
  "language_info": {
   "codemirror_mode": {
    "name": "ipython",
    "version": 3
   },
   "file_extension": ".py",
   "mimetype": "text/x-python",
   "name": "python",
   "nbconvert_exporter": "python",
   "pygments_lexer": "ipython3",
   "version": "3.8.3"
  }
 },
 "nbformat": 4,
 "nbformat_minor": 4
}
